{
  "cells": [
    {
      "cell_type": "markdown",
      "source": [
        "# Automated ML\n",
        "\n",
        "TODO: Import Dependencies. In the cell below, import all the dependencies that you will need to complete the project."
      ],
      "metadata": {}
    },
    {
      "cell_type": "code",
      "source": [
        "import azureml.core\n",
        "from azureml.core import Experiment\n",
        "from azureml.core import Workspace\n",
        "\n",
        "from azureml.core.compute import AmlCompute\n",
        "from azureml.core.compute import ComputeTarget\n",
        "from azureml.core.compute_target import ComputeTargetException\n",
        "\n",
        "from azureml.core import Dataset\n",
        "\n",
        "from azureml.train.automl import AutoMLConfig\n",
        "\n",
        "from azureml.pipeline.core import PipelineData, TrainingOutput\n",
        "\n",
        "from azureml.widgets import RunDetails\n",
        "\n",
        "\n",
        "import os \n",
        "import joblib\n",
        "import json\n",
        "import urllib.request\n",
        "\n",
        "from azureml.core.model import InferenceConfig\n",
        "from azureml.core.model import Model\n",
        "from azureml.core.webservice import LocalWebservice\n",
        "from azureml.core.webservice import AciWebservice\n"
      ],
      "outputs": [],
      "execution_count": 18,
      "metadata": {
        "gather": {
          "logged": 1650649628566
        },
        "jupyter": {
          "outputs_hidden": false,
          "source_hidden": false
        },
        "nteract": {
          "transient": {
            "deleting": false
          }
        }
      }
    },
    {
      "cell_type": "markdown",
      "source": [
        "## Dataset\n",
        "\n",
        "### Overview\n",
        "TODO: In this markdown cell, give an overview of the dataset you are using. Also mention the task you will be performing.\n",
        "\n",
        "\n",
        "TODO: Get data. In the cell below, write code to access the data you will be using in this project. Remember that the dataset needs to be external."
      ],
      "metadata": {}
    },
    {
      "cell_type": "code",
      "source": [
        "ws = Workspace.from_config()\n",
        "\n",
        "# choose a name for experiment\n",
        "experiment_name = 'wine_quality_automl'\n",
        "project_folder = './pipeline-project'\n",
        "\n",
        "experiment=Experiment(ws, experiment_name)\n",
        "\n",
        "dataset_name = 'wine_quality'\n",
        "dataset = Dataset.get_by_name(workspace=ws, name=dataset_name) "
      ],
      "outputs": [],
      "execution_count": 2,
      "metadata": {
        "gather": {
          "logged": 1649618060856
        },
        "jupyter": {
          "outputs_hidden": false,
          "source_hidden": false
        },
        "nteract": {
          "transient": {
            "deleting": false
          }
        }
      }
    },
    {
      "cell_type": "code",
      "source": [
        "# NOTE: update the cluster name to match the existing cluster\n",
        "# Choose a name for your CPU cluster\n",
        "amlcompute_cluster_name = \"auto-ml\"\n",
        "\n",
        "# Verify that cluster does not exist already\n",
        "try:\n",
        "    compute_target = ComputeTarget(workspace=ws, name=amlcompute_cluster_name)\n",
        "    print('Found existing cluster, use it.')\n",
        "except ComputeTargetException:\n",
        "    compute_config = AmlCompute.provisioning_configuration(vm_size='STANDARD_D2_V2',# for GPU, use \"STANDARD_NC6\"\n",
        "                                                           #vm_priority = 'lowpriority', # optional\n",
        "                                                           max_nodes=4)\n",
        "    compute_target = ComputeTarget.create(ws, amlcompute_cluster_name, compute_config)\n",
        "\n",
        "compute_target.wait_for_completion(show_output=True, min_node_count = 1, timeout_in_minutes = 2)"
      ],
      "outputs": [
        {
          "output_type": "stream",
          "name": "stdout",
          "text": "InProgress.\nSucceededProvisioning operation finished, operation \"Succeeded\"\nSucceeded........................\nAmlCompute wait for completion finished\n\nWait timeout has been reached\nCurrent provisioning state of AmlCompute is \"Succeeded\" and current node count is \"0\"\n"
        }
      ],
      "execution_count": 3,
      "metadata": {
        "gather": {
          "logged": 1650645288444
        },
        "jupyter": {
          "outputs_hidden": false,
          "source_hidden": false
        },
        "nteract": {
          "transient": {
            "deleting": false
          }
        }
      }
    },
    {
      "cell_type": "markdown",
      "source": [
        "## AutoML Configuration\n",
        "\n",
        "TODO: Explain why you chose the automl settings and cofiguration you used below."
      ],
      "metadata": {}
    },
    {
      "cell_type": "code",
      "source": [
        "# TODO: Put your automl settings here\n",
        "automl_settings = {\n",
        "    \"experiment_timeout_minutes\": 20,\n",
        "    \"max_concurrent_iterations\": 3,\n",
        "    \"primary_metric\" : 'accuracy'\n",
        "}\n",
        "\n",
        "# TODO: Put your automl config here\n",
        "automl_config = AutoMLConfig(\n",
        "    compute_target=compute_target,\n",
        "    task = \"classification\",\n",
        "    training_data=dataset,\n",
        "    label_column_name=\"quality\",   \n",
        "    path = project_folder,\n",
        "    enable_early_stopping= True,\n",
        "    featurization= 'auto',\n",
        "    debug_log = \"automl_errors.log\",\n",
        "    **automl_settings\n",
        ")"
      ],
      "outputs": [],
      "execution_count": 4,
      "metadata": {
        "gather": {
          "logged": 1650645335546
        },
        "jupyter": {
          "outputs_hidden": false,
          "source_hidden": false
        },
        "nteract": {
          "transient": {
            "deleting": false
          }
        }
      }
    },
    {
      "cell_type": "code",
      "source": [
        "# TODO: Submit your experiment\n",
        "remote_run = experiment.submit(automl_config)"
      ],
      "outputs": [
        {
          "output_type": "stream",
          "name": "stdout",
          "text": "Submitting remote run.\n"
        },
        {
          "output_type": "display_data",
          "data": {
            "text/plain": "<IPython.core.display.HTML object>",
            "text/html": "<table style=\"width:100%\"><tr><th>Experiment</th><th>Id</th><th>Type</th><th>Status</th><th>Details Page</th><th>Docs Page</th></tr><tr><td>wine_quality_automl</td><td>AutoML_d25ab8c7-4636-4dce-96d7-00c26668a215</td><td>automl</td><td>NotStarted</td><td><a href=\"https://ml.azure.com/runs/AutoML_d25ab8c7-4636-4dce-96d7-00c26668a215?wsid=/subscriptions/1b944a9b-fdae-4f97-aeb1-b7eea0beac53/resourcegroups/aml-quickstarts-193114/workspaces/quick-starts-ws-193114&amp;tid=660b3398-b80e-49d2-bc5b-ac1dc93b5254\" target=\"_blank\" rel=\"noopener\">Link to Azure Machine Learning studio</a></td><td><a href=\"https://docs.microsoft.com/en-us/python/api/overview/azure/ml/intro?view=azure-ml-py\" target=\"_blank\" rel=\"noopener\">Link to Documentation</a></td></tr></table>"
          },
          "metadata": {}
        }
      ],
      "execution_count": 5,
      "metadata": {
        "gather": {
          "logged": 1650645343112
        },
        "jupyter": {
          "outputs_hidden": false,
          "source_hidden": false
        },
        "nteract": {
          "transient": {
            "deleting": false
          }
        }
      }
    },
    {
      "cell_type": "markdown",
      "source": [
        "## Run Details\n",
        "\n",
        "OPTIONAL: Write about the different models trained and their performance. Why do you think some models did better than others?\n",
        "\n",
        "TODO: In the cell below, use the `RunDetails` widget to show the different experiments."
      ],
      "metadata": {}
    },
    {
      "cell_type": "code",
      "source": [
        "RunDetails(remote_run).show()"
      ],
      "outputs": [
        {
          "output_type": "display_data",
          "data": {
            "text/plain": "_AutoMLWidget(widget_settings={'childWidgetDisplay': 'popup', 'send_telemetry': False, 'log_level': 'INFO', 's…",
            "application/vnd.jupyter.widget-view+json": {
              "version_major": 2,
              "version_minor": 0,
              "model_id": "95cc2a6245fe446da5f95f81dd49b935"
            }
          },
          "metadata": {}
        },
        {
          "output_type": "display_data",
          "data": {
            "application/aml.mini.widget.v1": "{\"status\": \"Completed\", \"workbench_run_details_uri\": \"https://ml.azure.com/runs/AutoML_d25ab8c7-4636-4dce-96d7-00c26668a215?wsid=/subscriptions/1b944a9b-fdae-4f97-aeb1-b7eea0beac53/resourcegroups/aml-quickstarts-193114/workspaces/quick-starts-ws-193114&tid=660b3398-b80e-49d2-bc5b-ac1dc93b5254\", \"run_id\": \"AutoML_d25ab8c7-4636-4dce-96d7-00c26668a215\", \"run_properties\": {\"run_id\": \"AutoML_d25ab8c7-4636-4dce-96d7-00c26668a215\", \"created_utc\": \"2022-04-22T16:35:41.526739Z\", \"properties\": {\"num_iterations\": \"1000\", \"training_type\": \"TrainFull\", \"acquisition_function\": \"EI\", \"primary_metric\": \"accuracy\", \"train_split\": \"0\", \"acquisition_parameter\": \"0\", \"num_cross_validation\": null, \"target\": \"auto-ml\", \"AMLSettingsJsonString\": \"{\\\"path\\\":null,\\\"name\\\":\\\"wine_quality_automl\\\",\\\"subscription_id\\\":\\\"1b944a9b-fdae-4f97-aeb1-b7eea0beac53\\\",\\\"resource_group\\\":\\\"aml-quickstarts-193114\\\",\\\"workspace_name\\\":\\\"quick-starts-ws-193114\\\",\\\"region\\\":\\\"southcentralus\\\",\\\"compute_target\\\":\\\"auto-ml\\\",\\\"spark_service\\\":null,\\\"azure_service\\\":\\\"remote\\\",\\\"many_models\\\":false,\\\"pipeline_fetch_max_batch_size\\\":1,\\\"enable_batch_run\\\":true,\\\"enable_run_restructure\\\":false,\\\"start_auxiliary_runs_before_parent_complete\\\":false,\\\"enable_code_generation\\\":false,\\\"iterations\\\":1000,\\\"primary_metric\\\":\\\"accuracy\\\",\\\"task_type\\\":\\\"classification\\\",\\\"positive_label\\\":null,\\\"data_script\\\":null,\\\"test_size\\\":0.0,\\\"test_include_predictions_only\\\":false,\\\"validation_size\\\":0.0,\\\"n_cross_validations\\\":null,\\\"y_min\\\":null,\\\"y_max\\\":null,\\\"num_classes\\\":null,\\\"featurization\\\":\\\"auto\\\",\\\"_ignore_package_version_incompatibilities\\\":false,\\\"is_timeseries\\\":false,\\\"max_cores_per_iteration\\\":1,\\\"max_concurrent_iterations\\\":3,\\\"iteration_timeout_minutes\\\":null,\\\"mem_in_mb\\\":null,\\\"enforce_time_on_windows\\\":false,\\\"experiment_timeout_minutes\\\":20,\\\"experiment_exit_score\\\":null,\\\"partition_column_names\\\":null,\\\"whitelist_models\\\":null,\\\"blacklist_algos\\\":[\\\"TensorFlowLinearClassifier\\\",\\\"TensorFlowDNN\\\"],\\\"supported_models\\\":[\\\"LogisticRegression\\\",\\\"SGD\\\",\\\"RandomForest\\\",\\\"TensorFlowDNN\\\",\\\"LightGBM\\\",\\\"BernoulliNaiveBayes\\\",\\\"KNN\\\",\\\"GradientBoosting\\\",\\\"TabnetClassifier\\\",\\\"LinearSVM\\\",\\\"XGBoostClassifier\\\",\\\"AveragedPerceptronClassifier\\\",\\\"SVM\\\",\\\"TensorFlowLinearClassifier\\\",\\\"MultinomialNaiveBayes\\\",\\\"ExtremeRandomTrees\\\",\\\"DecisionTree\\\"],\\\"private_models\\\":[],\\\"auto_blacklist\\\":true,\\\"blacklist_samples_reached\\\":false,\\\"exclude_nan_labels\\\":true,\\\"verbosity\\\":20,\\\"_debug_log\\\":\\\"azureml_automl.log\\\",\\\"show_warnings\\\":false,\\\"model_explainability\\\":true,\\\"service_url\\\":null,\\\"sdk_url\\\":null,\\\"sdk_packages\\\":null,\\\"enable_onnx_compatible_models\\\":false,\\\"enable_split_onnx_featurizer_estimator_models\\\":false,\\\"vm_type\\\":\\\"STANDARD_D2_V2\\\",\\\"telemetry_verbosity\\\":20,\\\"send_telemetry\\\":true,\\\"enable_dnn\\\":false,\\\"scenario\\\":\\\"SDK-1.13.0\\\",\\\"environment_label\\\":null,\\\"save_mlflow\\\":false,\\\"enable_categorical_indicators\\\":false,\\\"force_text_dnn\\\":false,\\\"enable_feature_sweeping\\\":true,\\\"enable_early_stopping\\\":true,\\\"early_stopping_n_iters\\\":10,\\\"arguments\\\":null,\\\"dataset_id\\\":\\\"4c2182ae-b9bc-46a9-b823-3286bf37392e\\\",\\\"hyperdrive_config\\\":null,\\\"validation_dataset_id\\\":null,\\\"run_source\\\":null,\\\"metrics\\\":null,\\\"enable_metric_confidence\\\":false,\\\"enable_ensembling\\\":true,\\\"enable_stack_ensembling\\\":true,\\\"ensemble_iterations\\\":15,\\\"enable_tf\\\":false,\\\"enable_subsampling\\\":null,\\\"subsample_seed\\\":null,\\\"enable_nimbusml\\\":false,\\\"enable_streaming\\\":false,\\\"force_streaming\\\":false,\\\"track_child_runs\\\":true,\\\"allowed_private_models\\\":[],\\\"label_column_name\\\":\\\"quality\\\",\\\"weight_column_name\\\":null,\\\"cv_split_column_names\\\":null,\\\"enable_local_managed\\\":false,\\\"_local_managed_run_id\\\":null,\\\"cost_mode\\\":1,\\\"lag_length\\\":0,\\\"metric_operation\\\":\\\"maximize\\\",\\\"preprocess\\\":true}\", \"DataPrepJsonString\": \"{\\\\\\\"training_data\\\\\\\": {\\\\\\\"datasetId\\\\\\\": \\\\\\\"4c2182ae-b9bc-46a9-b823-3286bf37392e\\\\\\\"}, \\\\\\\"datasets\\\\\\\": 0}\", \"EnableSubsampling\": null, \"runTemplate\": \"AutoML\", \"azureml.runsource\": \"automl\", \"display_task_type\": \"classification\", \"dependencies_versions\": \"{\\\"azureml-widgets\\\": \\\"1.40.0\\\", \\\"azureml-training-tabular\\\": \\\"1.40.0\\\", \\\"azureml-train\\\": \\\"1.40.0\\\", \\\"azureml-train-restclients-hyperdrive\\\": \\\"1.40.0\\\", \\\"azureml-train-core\\\": \\\"1.40.0\\\", \\\"azureml-train-automl\\\": \\\"1.40.0\\\", \\\"azureml-train-automl-runtime\\\": \\\"1.40.0.post1\\\", \\\"azureml-train-automl-client\\\": \\\"1.40.0\\\", \\\"azureml-tensorboard\\\": \\\"1.40.0\\\", \\\"azureml-telemetry\\\": \\\"1.40.0\\\", \\\"azureml-sdk\\\": \\\"1.40.0\\\", \\\"azureml-samples\\\": \\\"0+unknown\\\", \\\"azureml-responsibleai\\\": \\\"1.40.0\\\", \\\"azureml-pipeline\\\": \\\"1.40.0\\\", \\\"azureml-pipeline-steps\\\": \\\"1.40.0\\\", \\\"azureml-pipeline-core\\\": \\\"1.40.0\\\", \\\"azureml-opendatasets\\\": \\\"1.40.0\\\", \\\"azureml-mlflow\\\": \\\"1.40.0\\\", \\\"azureml-interpret\\\": \\\"1.40.0\\\", \\\"azureml-inference-server-http\\\": \\\"0.4.11\\\", \\\"azureml-explain-model\\\": \\\"1.40.0\\\", \\\"azureml-defaults\\\": \\\"1.40.0\\\", \\\"azureml-dataset-runtime\\\": \\\"1.40.0\\\", \\\"azureml-dataprep\\\": \\\"3.0.0\\\", \\\"azureml-dataprep-rslex\\\": \\\"2.4.0\\\", \\\"azureml-dataprep-native\\\": \\\"38.0.0\\\", \\\"azureml-datadrift\\\": \\\"1.40.0\\\", \\\"azureml-core\\\": \\\"1.40.0\\\", \\\"azureml-contrib-services\\\": \\\"1.40.0\\\", \\\"azureml-contrib-server\\\": \\\"1.40.0\\\", \\\"azureml-contrib-reinforcementlearning\\\": \\\"1.40.0\\\", \\\"azureml-contrib-pipeline-steps\\\": \\\"1.40.0\\\", \\\"azureml-contrib-notebook\\\": \\\"1.40.0\\\", \\\"azureml-contrib-fairness\\\": \\\"1.40.0\\\", \\\"azureml-contrib-dataset\\\": \\\"1.40.0\\\", \\\"azureml-contrib-automl-pipeline-steps\\\": \\\"1.40.0\\\", \\\"azureml-cli-common\\\": \\\"1.40.0\\\", \\\"azureml-automl-runtime\\\": \\\"1.40.0\\\", \\\"azureml-automl-dnn-nlp\\\": \\\"1.40.0\\\", \\\"azureml-automl-core\\\": \\\"1.40.0\\\", \\\"azureml-accel-models\\\": \\\"1.40.0\\\"}\", \"_aml_system_scenario_identification\": \"Remote.Parent\", \"ClientType\": \"SDK\", \"environment_cpu_name\": \"AzureML-AutoML\", \"environment_cpu_label\": \"prod\", \"environment_gpu_name\": \"AzureML-AutoML-GPU\", \"environment_gpu_label\": \"prod\", \"root_attribution\": \"automl\", \"attribution\": \"AutoML\", \"Orchestrator\": \"AutoML\", \"CancelUri\": \"https://southcentralus.api.azureml.ms/jasmine/v1.0/subscriptions/1b944a9b-fdae-4f97-aeb1-b7eea0beac53/resourceGroups/aml-quickstarts-193114/providers/Microsoft.MachineLearningServices/workspaces/quick-starts-ws-193114/experimentids/a97a05e0-819b-4e7d-9b67-260195cf4cc1/cancel/AutoML_d25ab8c7-4636-4dce-96d7-00c26668a215\", \"ClientSdkVersion\": \"1.40.0.post1\", \"snapshotId\": \"00000000-0000-0000-0000-000000000000\", \"SetupRunId\": \"AutoML_d25ab8c7-4636-4dce-96d7-00c26668a215_setup\", \"SetupRunContainerId\": \"dcid.AutoML_d25ab8c7-4636-4dce-96d7-00c26668a215_setup\", \"FeaturizationRunJsonPath\": \"featurizer_container.json\", \"FeaturizationRunId\": \"AutoML_d25ab8c7-4636-4dce-96d7-00c26668a215_featurize\", \"ProblemInfoJsonString\": \"{\\\"dataset_num_categorical\\\": 0, \\\"is_sparse\\\": false, \\\"subsampling\\\": false, \\\"has_extra_col\\\": true, \\\"dataset_classes\\\": 6, \\\"dataset_features\\\": 11, \\\"dataset_samples\\\": 1599, \\\"single_frequency_class_detected\\\": false}\", \"ModelExplainRunId\": \"AutoML_d25ab8c7-4636-4dce-96d7-00c26668a215_ModelExplain\"}, \"tags\": {\"model_explain_run\": \"best_run\", \"_aml_system_automl_run_workspace_id\": \"10a5e473-cb19-499c-9e0f-ce4e89439261\", \"_aml_system_azureml.automlComponent\": \"AutoML\", \"pipeline_id\": \"\", \"score\": \"\", \"predicted_cost\": \"\", \"fit_time\": \"\", \"training_percent\": \"\", \"iteration\": \"\", \"run_preprocessor\": \"\", \"run_algorithm\": \"\", \"dynamic_allowlisting_iterations\": \"<25>;<30>;\", \"_aml_system_azureml.automl_early_exit_message\": \"No scores improved over last 10 iterations, so experiment stopped early. This early stopping behavior can be disabled by setting enable_early_stopping = False in AutoMLConfig for notebook/python SDK runs.\", \"automl_best_child_run_id\": \"AutoML_d25ab8c7-4636-4dce-96d7-00c26668a215_34\", \"model_explain_best_run_child_id\": \"AutoML_d25ab8c7-4636-4dce-96d7-00c26668a215_34\"}, \"end_time_utc\": \"2022-04-22T17:04:21.481521Z\", \"status\": \"Completed\", \"log_files\": {}, \"log_groups\": [], \"run_duration\": \"0:28:39\", \"run_number\": \"1650645341\", \"run_queued_details\": {\"status\": \"Completed\", \"details\": null}}, \"child_runs\": [{\"run_id\": \"AutoML_d25ab8c7-4636-4dce-96d7-00c26668a215_setup\", \"run_number\": 1650645355, \"metric\": null, \"status\": \"Completed\", \"run_type\": \"azureml.scriptrun\", \"training_percent\": null, \"start_time\": \"2022-04-22T16:39:59.63353Z\", \"end_time\": \"2022-04-22T16:45:01.839843Z\", \"created_time\": \"2022-04-22T16:35:55.068468Z\", \"created_time_dt\": \"2022-04-22T16:35:55.068468Z\", \"duration\": \"0:09:06\", \"iteration\": null, \"goal\": null, \"run_name\": \"Completed\", \"run_properties\": null}, {\"run_id\": \"AutoML_d25ab8c7-4636-4dce-96d7-00c26668a215_featurize\", \"run_number\": 1650645902, \"metric\": null, \"status\": \"Completed\", \"run_type\": \"automl.featurization\", \"training_percent\": null, \"start_time\": \"2022-04-22T16:45:02.637804Z\", \"end_time\": \"2022-04-22T16:45:45.39469Z\", \"created_time\": \"2022-04-22T16:45:02.275689Z\", \"created_time_dt\": \"2022-04-22T16:45:02.275689Z\", \"duration\": \"0:00:43\", \"iteration\": null, \"goal\": null, \"run_name\": \"Completed\", \"run_properties\": null}, {\"run_id\": \"AutoML_d25ab8c7-4636-4dce-96d7-00c26668a215_0\", \"run_number\": 1650645946, \"metric\": null, \"status\": \"Completed\", \"run_type\": null, \"training_percent\": \"100\", \"start_time\": \"2022-04-22T16:46:05.155881Z\", \"end_time\": \"2022-04-22T16:46:23.31185Z\", \"created_time\": \"2022-04-22T16:45:46.547758Z\", \"created_time_dt\": \"2022-04-22T16:45:46.547758Z\", \"duration\": \"0:00:36\", \"iteration\": \"0\", \"goal\": \"accuracy_max\", \"run_name\": \"MaxAbsScaler, LightGBM\", \"run_properties\": \"copy=True\", \"primary_metric\": 0.66791745, \"best_metric\": 0.66791745}, {\"run_id\": \"AutoML_d25ab8c7-4636-4dce-96d7-00c26668a215_2\", \"run_number\": 1650645947, \"metric\": null, \"status\": \"Completed\", \"run_type\": null, \"training_percent\": \"100\", \"start_time\": \"2022-04-22T16:46:41.322313Z\", \"end_time\": \"2022-04-22T16:46:56.784385Z\", \"created_time\": \"2022-04-22T16:45:47.336887Z\", \"created_time_dt\": \"2022-04-22T16:45:47.336887Z\", \"duration\": \"0:01:09\", \"iteration\": \"2\", \"goal\": \"accuracy_max\", \"run_name\": \"MaxAbsScaler, ExtremeRandomTrees\", \"run_properties\": \"copy=True\", \"primary_metric\": 0.41963727, \"best_metric\": 0.66791745}, {\"run_id\": \"AutoML_d25ab8c7-4636-4dce-96d7-00c26668a215_4\", \"run_number\": 1650645948, \"metric\": null, \"status\": \"Completed\", \"run_type\": null, \"training_percent\": \"100\", \"start_time\": \"2022-04-22T16:47:12.347563Z\", \"end_time\": \"2022-04-22T16:47:27.009614Z\", \"created_time\": \"2022-04-22T16:45:48.143292Z\", \"created_time_dt\": \"2022-04-22T16:45:48.143292Z\", \"duration\": \"0:01:38\", \"iteration\": \"4\", \"goal\": \"accuracy_max\", \"run_name\": \"StandardScalerWrapper, KNN\", \"run_properties\": \"copy=True, with_mean=False, with_std=False\", \"primary_metric\": 0.59349593, \"best_metric\": 0.66791745}, {\"run_id\": \"AutoML_d25ab8c7-4636-4dce-96d7-00c26668a215_worker_0\", \"run_number\": 1650645949, \"metric\": null, \"status\": \"Completed\", \"run_type\": \"azureml.scriptrun\", \"training_percent\": null, \"start_time\": \"2022-04-22T16:47:54.880673Z\", \"end_time\": \"2022-04-22T16:48:02.485094Z\", \"created_time\": \"2022-04-22T16:45:49.121808Z\", \"created_time_dt\": \"2022-04-22T16:45:49.121808Z\", \"duration\": \"0:02:13\", \"iteration\": null, \"goal\": null, \"run_name\": \"Completed\", \"run_properties\": null}, {\"run_id\": \"AutoML_d25ab8c7-4636-4dce-96d7-00c26668a215_9\", \"run_number\": 1650645950, \"metric\": null, \"status\": \"Completed\", \"run_type\": null, \"training_percent\": \"100\", \"start_time\": \"2022-04-22T16:48:49.897685Z\", \"end_time\": \"2022-04-22T16:49:07.207858Z\", \"created_time\": \"2022-04-22T16:45:50.007769Z\", \"created_time_dt\": \"2022-04-22T16:45:50.007769Z\", \"duration\": \"0:03:17\", \"iteration\": \"9\", \"goal\": \"accuracy_max\", \"run_name\": \"StandardScalerWrapper, SVM\", \"run_properties\": \"copy=True, with_mean=True, with_std=True\", \"primary_metric\": 0.62851782, \"best_metric\": 0.66791745}, {\"run_id\": \"AutoML_d25ab8c7-4636-4dce-96d7-00c26668a215_12\", \"run_number\": 1650645951, \"metric\": null, \"status\": \"Completed\", \"run_type\": null, \"training_percent\": \"100\", \"start_time\": \"2022-04-22T16:49:38.986349Z\", \"end_time\": \"2022-04-22T16:49:53.93329Z\", \"created_time\": \"2022-04-22T16:45:51.055208Z\", \"created_time_dt\": \"2022-04-22T16:45:51.055208Z\", \"duration\": \"0:04:02\", \"iteration\": \"12\", \"goal\": \"accuracy_max\", \"run_name\": \"StandardScalerWrapper, LogisticRegression\", \"run_properties\": \"copy=True, with_mean=True, with_std=False\", \"primary_metric\": 0.58786742, \"best_metric\": 0.66791745}, {\"run_id\": \"AutoML_d25ab8c7-4636-4dce-96d7-00c26668a215_15\", \"run_number\": 1650645952, \"metric\": null, \"status\": \"Completed\", \"run_type\": null, \"training_percent\": \"100\", \"start_time\": \"2022-04-22T16:54:32.972578Z\", \"end_time\": \"2022-04-22T16:54:47.96489Z\", \"created_time\": \"2022-04-22T16:45:52.143714Z\", \"created_time_dt\": \"2022-04-22T16:45:52.143714Z\", \"duration\": \"0:08:55\", \"iteration\": \"15\", \"goal\": \"accuracy_max\", \"run_name\": \"MinMaxScaler, KNN\", \"run_properties\": \"copy=True, feature_range=(0, 1\", \"primary_metric\": 0.6372733, \"best_metric\": 0.66791745}, {\"run_id\": \"AutoML_d25ab8c7-4636-4dce-96d7-00c26668a215_worker_2\", \"run_number\": 1650645953, \"metric\": null, \"status\": \"Completed\", \"run_type\": \"azureml.scriptrun\", \"training_percent\": null, \"start_time\": \"2022-04-22T16:50:01.8796Z\", \"end_time\": \"2022-04-22T16:55:54.972916Z\", \"created_time\": \"2022-04-22T16:45:53.910005Z\", \"created_time_dt\": \"2022-04-22T16:45:53.910005Z\", \"duration\": \"0:10:01\", \"iteration\": null, \"goal\": null, \"run_name\": \"Completed\", \"run_properties\": null}, {\"run_id\": \"AutoML_d25ab8c7-4636-4dce-96d7-00c26668a215_20\", \"run_number\": 1650646521, \"metric\": null, \"status\": \"Completed\", \"run_type\": \"azureml.scriptrun\", \"training_percent\": \"100\", \"start_time\": \"2022-04-22T16:55:54.978051Z\", \"end_time\": \"2022-04-22T16:55:58.655797Z\", \"created_time\": \"2022-04-22T16:55:21.616781Z\", \"created_time_dt\": \"2022-04-22T16:55:21.616781Z\", \"duration\": \"0:00:37\", \"iteration\": \"20\", \"goal\": \"accuracy_max\", \"run_name\": \"MaxAbsScaler, LogisticRegression\", \"run_properties\": \"copy=True\", \"primary_metric\": 0.58786742, \"best_metric\": 0.66791745}, {\"run_id\": \"AutoML_d25ab8c7-4636-4dce-96d7-00c26668a215_23\", \"run_number\": 1650646561, \"metric\": null, \"status\": \"Completed\", \"run_type\": \"azureml.scriptrun\", \"training_percent\": \"100\", \"start_time\": \"2022-04-22T16:56:36.614237Z\", \"end_time\": \"2022-04-22T16:56:40.263304Z\", \"created_time\": \"2022-04-22T16:56:01.654154Z\", \"created_time_dt\": \"2022-04-22T16:56:01.654154Z\", \"duration\": \"0:00:38\", \"iteration\": \"23\", \"goal\": \"accuracy_max\", \"run_name\": \"StandardScalerWrapper, RandomForest\", \"run_properties\": \"copy=True, with_mean=False, with_std=False\", \"primary_metric\": 0.63289556, \"best_metric\": 0.66791745}, {\"run_id\": \"AutoML_d25ab8c7-4636-4dce-96d7-00c26668a215_24\", \"run_number\": 1650646602, \"metric\": null, \"status\": \"Completed\", \"run_type\": \"azureml.scriptrun\", \"training_percent\": \"100\", \"start_time\": \"2022-04-22T16:57:59.903854Z\", \"end_time\": \"2022-04-22T16:58:03.557107Z\", \"created_time\": \"2022-04-22T16:56:42.123733Z\", \"created_time_dt\": \"2022-04-22T16:56:42.123733Z\", \"duration\": \"0:01:21\", \"iteration\": \"24\", \"goal\": \"accuracy_max\", \"run_name\": \"StandardScalerWrapper, LightGBM\", \"run_properties\": \"copy=True, with_mean=False, with_std=False\", \"primary_metric\": 0.60662914, \"best_metric\": 0.66791745}, {\"run_id\": \"AutoML_d25ab8c7-4636-4dce-96d7-00c26668a215_25\", \"run_number\": 1650646612, \"metric\": null, \"status\": \"Completed\", \"run_type\": \"azureml.scriptrun\", \"training_percent\": \"100\", \"start_time\": \"2022-04-22T16:58:34.664369Z\", \"end_time\": \"2022-04-22T16:58:38.299632Z\", \"created_time\": \"2022-04-22T16:56:52.198352Z\", \"created_time_dt\": \"2022-04-22T16:56:52.198352Z\", \"duration\": \"0:01:46\", \"iteration\": \"25\", \"goal\": \"accuracy_max\", \"run_name\": \"PCA, KNN\", \"run_properties\": \"copy=True, iterated_power='auto', n_components=0.05947368421052632,\\n    random_state=None, svd_solver='auto', tol=0.0, whiten=True\", \"primary_metric\": 0.46341463, \"best_metric\": 0.66791745}, {\"run_id\": \"AutoML_d25ab8c7-4636-4dce-96d7-00c26668a215_26\", \"run_number\": 1650646685, \"metric\": null, \"status\": \"Completed\", \"run_type\": \"azureml.scriptrun\", \"training_percent\": \"100\", \"start_time\": \"2022-04-22T16:58:41.472829Z\", \"end_time\": \"2022-04-22T16:58:45.149353Z\", \"created_time\": \"2022-04-22T16:58:05.323411Z\", \"created_time_dt\": \"2022-04-22T16:58:05.323411Z\", \"duration\": \"0:00:39\", \"iteration\": \"26\", \"goal\": \"accuracy_max\", \"run_name\": \"MaxAbsScaler, ExtremeRandomTrees\", \"run_properties\": \"copy=True\", \"primary_metric\": 0.57723577, \"best_metric\": 0.66791745}, {\"run_id\": \"AutoML_d25ab8c7-4636-4dce-96d7-00c26668a215_27\", \"run_number\": 1650646722, \"metric\": null, \"status\": \"Completed\", \"run_type\": \"azureml.scriptrun\", \"training_percent\": \"100\", \"start_time\": \"2022-04-22T16:59:57.086575Z\", \"end_time\": \"2022-04-22T17:00:00.762062Z\", \"created_time\": \"2022-04-22T16:58:42.956063Z\", \"created_time_dt\": \"2022-04-22T16:58:42.956063Z\", \"duration\": \"0:01:17\", \"iteration\": \"27\", \"goal\": \"accuracy_max\", \"run_name\": \"MaxAbsScaler, LightGBM\", \"run_properties\": \"copy=True\", \"primary_metric\": 0.61038149, \"best_metric\": 0.66791745}, {\"run_id\": \"AutoML_d25ab8c7-4636-4dce-96d7-00c26668a215_28\", \"run_number\": 1650646726, \"metric\": null, \"status\": \"Completed\", \"run_type\": \"azureml.scriptrun\", \"training_percent\": \"100\", \"start_time\": \"2022-04-22T17:00:41.277186Z\", \"end_time\": \"2022-04-22T17:00:44.931799Z\", \"created_time\": \"2022-04-22T16:58:46.719466Z\", \"created_time_dt\": \"2022-04-22T16:58:46.719466Z\", \"duration\": \"0:01:58\", \"iteration\": \"28\", \"goal\": \"accuracy_max\", \"run_name\": \"MaxAbsScaler, LightGBM\", \"run_properties\": \"copy=True\", \"primary_metric\": 0.61163227, \"best_metric\": 0.66791745}, {\"run_id\": \"AutoML_d25ab8c7-4636-4dce-96d7-00c26668a215_29\", \"run_number\": 1650646802, \"metric\": null, \"status\": \"Completed\", \"run_type\": \"azureml.scriptrun\", \"training_percent\": \"100\", \"start_time\": \"2022-04-22T17:00:43.602989Z\", \"end_time\": \"2022-04-22T17:00:47.268376Z\", \"created_time\": \"2022-04-22T17:00:02.674533Z\", \"created_time_dt\": \"2022-04-22T17:00:02.674533Z\", \"duration\": \"0:00:44\", \"iteration\": \"29\", \"goal\": \"accuracy_max\", \"run_name\": \"StandardScalerWrapper, LightGBM\", \"run_properties\": \"copy=True, with_mean=False, with_std=True\", \"primary_metric\": 0.60475297, \"best_metric\": 0.66791745}, {\"run_id\": \"AutoML_d25ab8c7-4636-4dce-96d7-00c26668a215_30\", \"run_number\": 1650646847, \"metric\": null, \"status\": \"Completed\", \"run_type\": \"azureml.scriptrun\", \"training_percent\": \"100\", \"start_time\": \"2022-04-22T17:01:56.505861Z\", \"end_time\": \"2022-04-22T17:02:00.179587Z\", \"created_time\": \"2022-04-22T17:00:47.501127Z\", \"created_time_dt\": \"2022-04-22T17:00:47.501127Z\", \"duration\": \"0:01:12\", \"iteration\": \"30\", \"goal\": \"accuracy_max\", \"run_name\": \"PCA, KNN\", \"run_properties\": \"copy=True, iterated_power='auto', n_components=0.6531578947368422,\\n    random_state=None, svd_solver='auto', tol=0.0, whiten=False\", \"primary_metric\": 0.46278924, \"best_metric\": 0.66791745}, {\"run_id\": \"AutoML_d25ab8c7-4636-4dce-96d7-00c26668a215_31\", \"run_number\": 1650646849, \"metric\": null, \"status\": \"Completed\", \"run_type\": \"azureml.scriptrun\", \"training_percent\": \"100\", \"start_time\": \"2022-04-22T17:02:37.651627Z\", \"end_time\": \"2022-04-22T17:02:41.293809Z\", \"created_time\": \"2022-04-22T17:00:49.732852Z\", \"created_time_dt\": \"2022-04-22T17:00:49.732852Z\", \"duration\": \"0:01:51\", \"iteration\": \"31\", \"goal\": \"accuracy_max\", \"run_name\": \"StandardScalerWrapper, LightGBM\", \"run_properties\": \"copy=True, with_mean=False, with_std=False\", \"primary_metric\": 0.56285178, \"best_metric\": 0.66791745}, {\"run_id\": \"AutoML_d25ab8c7-4636-4dce-96d7-00c26668a215_32\", \"run_number\": 1650646886, \"metric\": null, \"status\": \"Canceled\", \"run_type\": \"azureml.scriptrun\", \"training_percent\": \"100\", \"start_time\": \"2022-04-22T17:02:44.085651Z\", \"end_time\": \"2022-04-22T17:02:44.300587Z\", \"created_time\": \"2022-04-22T17:01:26.78028Z\", \"created_time_dt\": \"2022-04-22T17:01:26.78028Z\", \"duration\": \"0:01:17\", \"iteration\": \"32\", \"goal\": \"accuracy_max\", \"run_name\": \"StandardScalerWrapper, ExtremeRandomTrees\", \"run_properties\": \"copy=True, with_mean=False, with_std=False\", \"primary_metric\": 0.57410882, \"best_metric\": 0.66791745}, {\"run_id\": \"AutoML_d25ab8c7-4636-4dce-96d7-00c26668a215_33\", \"run_number\": 1650646921, \"metric\": null, \"status\": \"Canceled\", \"run_type\": \"azureml.scriptrun\", \"training_percent\": \"100\", \"start_time\": \"2022-04-22T17:02:44.045197Z\", \"end_time\": \"2022-04-22T17:02:44.215956Z\", \"created_time\": \"2022-04-22T17:02:01.721302Z\", \"created_time_dt\": \"2022-04-22T17:02:01.721302Z\", \"duration\": \"0:00:42\", \"iteration\": \"33\", \"goal\": null, \"run_name\": \"Canceled\", \"run_properties\": null}, {\"run_id\": \"AutoML_d25ab8c7-4636-4dce-96d7-00c26668a215_35\", \"run_number\": 1650646964, \"metric\": null, \"status\": \"Completed\", \"run_type\": \"azureml.scriptrun\", \"training_percent\": \"100\", \"start_time\": \"2022-04-22T17:03:36.90432Z\", \"end_time\": \"2022-04-22T17:03:40.570301Z\", \"created_time\": \"2022-04-22T17:02:44.918213Z\", \"created_time_dt\": \"2022-04-22T17:02:44.918213Z\", \"duration\": \"0:00:55\", \"iteration\": \"35\", \"goal\": \"accuracy_max\", \"run_name\": \"StackEnsemble\", \"run_properties\": \"base_learners=[('13', Pipeline(memory=None, steps=[('standardscalerwrapper', StandardScalerWrapper(copy=True, with_mean=False, with_std=True\", \"primary_metric\": 0.67917448, \"best_metric\": 0.67917448}], \"children_metrics\": {\"categories\": [0], \"series\": {\"weighted_accuracy\": [{\"categories\": [\"0\", \"2\", \"4\", \"9\", \"12\", \"15\", \"20\", \"23\", \"24\", \"25\", \"26\", \"27\", \"28\", \"29\", \"30\", \"31\", \"32\", \"35\"], \"mode\": \"markers\", \"name\": \"weighted_accuracy\", \"stepped\": false, \"type\": \"scatter\", \"data\": [0.7178372394339503, 0.41239973492368603, 0.6356293304610602, 0.6832554619909584, 0.654222424946468, 0.6815882470424547, 0.6496974929169145, 0.7090666179406538, 0.6784184000095504, 0.5295499171066838, 0.6676095452229611, 0.6936094454105408, 0.6635481690345633, 0.6911241501159918, 0.5292248781885894, 0.6457414982139237, 0.6641907367147729, 0.7333271038926782]}, {\"categories\": [\"0\", \"2\", \"4\", \"9\", \"12\", \"15\", \"20\", \"23\", \"24\", \"25\", \"26\", \"27\", \"28\", \"29\", \"30\", \"31\", \"32\", \"35\"], \"mode\": \"lines\", \"name\": \"weighted_accuracy_max\", \"stepped\": true, \"type\": \"scatter\", \"data\": [0.7178372394339503, 0.7178372394339503, 0.7178372394339503, 0.7178372394339503, 0.7178372394339503, 0.7178372394339503, 0.7178372394339503, 0.7178372394339503, 0.7178372394339503, 0.7178372394339503, 0.7178372394339503, 0.7178372394339503, 0.7178372394339503, 0.7178372394339503, 0.7178372394339503, 0.7178372394339503, 0.7178372394339503, 0.7333271038926782]}], \"log_loss\": [{\"categories\": [\"0\", \"2\", \"4\", \"9\", \"12\", \"15\", \"20\", \"23\", \"24\", \"25\", \"26\", \"27\", \"28\", \"29\", \"30\", \"31\", \"32\", \"35\"], \"mode\": \"markers\", \"name\": \"log_loss\", \"stepped\": false, \"type\": \"scatter\", \"data\": [1.2193272637953079, 1.5120129874058617, 4.876730975594648, 0.9233610308580866, 1.0033750056687998, 3.520182696732864, 0.9770028908788019, 0.9276399376088121, 0.9506972242225524, 2.58932150319723, 0.9828115059479038, 0.9967384693929549, 0.9439784325314138, 0.9840301450114749, 1.4819208300063773, 1.0287875376667062, 0.9936015995633695, 0.7993894702473957]}, {\"categories\": [\"0\", \"2\", \"4\", \"9\", \"12\", \"15\", \"20\", \"23\", \"24\", \"25\", \"26\", \"27\", \"28\", \"29\", \"30\", \"31\", \"32\", \"35\"], \"mode\": \"lines\", \"name\": \"log_loss_min\", \"stepped\": true, \"type\": \"scatter\", \"data\": [1.2193272637953079, 1.2193272637953079, 1.2193272637953079, 0.9233610308580866, 0.9233610308580866, 0.9233610308580866, 0.9233610308580866, 0.9233610308580866, 0.9233610308580866, 0.9233610308580866, 0.9233610308580866, 0.9233610308580866, 0.9233610308580866, 0.9233610308580866, 0.9233610308580866, 0.9233610308580866, 0.9233610308580866, 0.7993894702473957]}], \"precision_score_weighted\": [{\"categories\": [\"0\", \"2\", \"4\", \"9\", \"12\", \"15\", \"20\", \"23\", \"24\", \"25\", \"26\", \"27\", \"28\", \"29\", \"30\", \"31\", \"32\", \"35\"], \"mode\": \"markers\", \"name\": \"precision_score_weighted\", \"stepped\": false, \"type\": \"scatter\", \"data\": [0.6471114227652999, 0.5791189895337479, 0.5761982853611675, 0.5976504498933339, 0.5540767382702212, 0.621305312036538, 0.5578661825959461, 0.6267614275592431, 0.5857759958647502, 0.4250731340297744, 0.47893755955785683, 0.6056765394706662, 0.5923717019580731, 0.5709405555734427, 0.4102788811087495, 0.559134603694051, 0.47567805579906675, 0.6527072119350814]}, {\"categories\": [\"0\", \"2\", \"4\", \"9\", \"12\", \"15\", \"20\", \"23\", \"24\", \"25\", \"26\", \"27\", \"28\", \"29\", \"30\", \"31\", \"32\", \"35\"], \"mode\": \"lines\", \"name\": \"precision_score_weighted_max\", \"stepped\": true, \"type\": \"scatter\", \"data\": [0.6471114227652999, 0.6471114227652999, 0.6471114227652999, 0.6471114227652999, 0.6471114227652999, 0.6471114227652999, 0.6471114227652999, 0.6471114227652999, 0.6471114227652999, 0.6471114227652999, 0.6471114227652999, 0.6471114227652999, 0.6471114227652999, 0.6471114227652999, 0.6471114227652999, 0.6471114227652999, 0.6471114227652999, 0.6527072119350814]}], \"AUC_weighted\": [{\"categories\": [\"0\", \"2\", \"4\", \"9\", \"12\", \"15\", \"20\", \"23\", \"24\", \"25\", \"26\", \"27\", \"28\", \"29\", \"30\", \"31\", \"32\", \"35\"], \"mode\": \"markers\", \"name\": \"AUC_weighted\", \"stepped\": false, \"type\": \"scatter\", \"data\": [0.8291357252104454, 0.7148073165639001, 0.7499279699099661, 0.7867745606000939, 0.7428460863367953, 0.8032995552491302, 0.755810211731066, 0.8012463565149561, 0.7749589115773432, 0.5919420935502119, 0.7573388714488116, 0.7846380596997814, 0.7744612381676409, 0.7699767248218844, 0.6041777498772888, 0.7387233302891483, 0.7545527331043719, 0.8508008564542772]}, {\"categories\": [\"0\", \"2\", \"4\", \"9\", \"12\", \"15\", \"20\", \"23\", \"24\", \"25\", \"26\", \"27\", \"28\", \"29\", \"30\", \"31\", \"32\", \"35\"], \"mode\": \"lines\", \"name\": \"AUC_weighted_max\", \"stepped\": true, \"type\": \"scatter\", \"data\": [0.8291357252104454, 0.8291357252104454, 0.8291357252104454, 0.8291357252104454, 0.8291357252104454, 0.8291357252104454, 0.8291357252104454, 0.8291357252104454, 0.8291357252104454, 0.8291357252104454, 0.8291357252104454, 0.8291357252104454, 0.8291357252104454, 0.8291357252104454, 0.8291357252104454, 0.8291357252104454, 0.8291357252104454, 0.8508008564542772]}], \"f1_score_weighted\": [{\"categories\": [\"0\", \"2\", \"4\", \"9\", \"12\", \"15\", \"20\", \"23\", \"24\", \"25\", \"26\", \"27\", \"28\", \"29\", \"30\", \"31\", \"32\", \"35\"], \"mode\": \"markers\", \"name\": \"f1_score_weighted\", \"stepped\": false, \"type\": \"scatter\", \"data\": [0.6543558094928968, 0.4157591674609374, 0.580658564032746, 0.6093620475205004, 0.5634149329206616, 0.6261420812461034, 0.5670985441853834, 0.6023154242219216, 0.5781440461457562, 0.42970258447062015, 0.5223910340990741, 0.5710520809892339, 0.5980747351051782, 0.5607707585240059, 0.42949738474135196, 0.5181173969939792, 0.5189465171647231, 0.6604740169963891]}, {\"categories\": [\"0\", \"2\", \"4\", \"9\", \"12\", \"15\", \"20\", \"23\", \"24\", \"25\", \"26\", \"27\", \"28\", \"29\", \"30\", \"31\", \"32\", \"35\"], \"mode\": \"lines\", \"name\": \"f1_score_weighted_max\", \"stepped\": true, \"type\": \"scatter\", \"data\": [0.6543558094928968, 0.6543558094928968, 0.6543558094928968, 0.6543558094928968, 0.6543558094928968, 0.6543558094928968, 0.6543558094928968, 0.6543558094928968, 0.6543558094928968, 0.6543558094928968, 0.6543558094928968, 0.6543558094928968, 0.6543558094928968, 0.6543558094928968, 0.6543558094928968, 0.6543558094928968, 0.6543558094928968, 0.6604740169963891]}], \"AUC_micro\": [{\"categories\": [\"0\", \"2\", \"4\", \"9\", \"12\", \"15\", \"20\", \"23\", \"24\", \"25\", \"26\", \"27\", \"28\", \"29\", \"30\", \"31\", \"32\", \"35\"], \"mode\": \"markers\", \"name\": \"AUC_micro\", \"stepped\": false, \"type\": \"scatter\", \"data\": [0.9259945533500651, 0.8011538637539645, 0.8674488159227097, 0.9124448089624497, 0.8955693462260066, 0.8980489682223998, 0.9020957047498026, 0.915080720009105, 0.9075275705852742, 0.8391518151001974, 0.9010596444541442, 0.9038458605108494, 0.9077495667437553, 0.9029369904032422, 0.8538867514523031, 0.8920061436146184, 0.8989269794559686, 0.9356607729737277]}, {\"categories\": [\"0\", \"2\", \"4\", \"9\", \"12\", \"15\", \"20\", \"23\", \"24\", \"25\", \"26\", \"27\", \"28\", \"29\", \"30\", \"31\", \"32\", \"35\"], \"mode\": \"lines\", \"name\": \"AUC_micro_max\", \"stepped\": true, \"type\": \"scatter\", \"data\": [0.9259945533500651, 0.9259945533500651, 0.9259945533500651, 0.9259945533500651, 0.9259945533500651, 0.9259945533500651, 0.9259945533500651, 0.9259945533500651, 0.9259945533500651, 0.9259945533500651, 0.9259945533500651, 0.9259945533500651, 0.9259945533500651, 0.9259945533500651, 0.9259945533500651, 0.9259945533500651, 0.9259945533500651, 0.9356607729737277]}], \"recall_score_macro\": [{\"categories\": [\"0\", \"2\", \"4\", \"9\", \"12\", \"15\", \"20\", \"23\", \"24\", \"25\", \"26\", \"27\", \"28\", \"29\", \"30\", \"31\", \"32\", \"35\"], \"mode\": \"markers\", \"name\": \"recall_score_macro\", \"stepped\": false, \"type\": \"scatter\", \"data\": [0.36353395189218946, 0.4299096621327578, 0.3144284973119631, 0.3050194471939015, 0.267492488324731, 0.3415649567055245, 0.2918604104013103, 0.281770818444184, 0.27178605965342967, 0.1948303701148432, 0.2330235793326544, 0.2608295334790202, 0.3040776165673745, 0.2533020335943012, 0.19384307268905646, 0.23310431722037314, 0.23168671666488616, 0.35051564809574504]}, {\"categories\": [\"0\", \"2\", \"4\", \"9\", \"12\", \"15\", \"20\", \"23\", \"24\", \"25\", \"26\", \"27\", \"28\", \"29\", \"30\", \"31\", \"32\", \"35\"], \"mode\": \"lines\", \"name\": \"recall_score_macro_max\", \"stepped\": true, \"type\": \"scatter\", \"data\": [0.36353395189218946, 0.4299096621327578, 0.4299096621327578, 0.4299096621327578, 0.4299096621327578, 0.4299096621327578, 0.4299096621327578, 0.4299096621327578, 0.4299096621327578, 0.4299096621327578, 0.4299096621327578, 0.4299096621327578, 0.4299096621327578, 0.4299096621327578, 0.4299096621327578, 0.4299096621327578, 0.4299096621327578, 0.4299096621327578]}], \"f1_score_micro\": [{\"categories\": [\"0\", \"2\", \"4\", \"9\", \"12\", \"15\", \"20\", \"23\", \"24\", \"25\", \"26\", \"27\", \"28\", \"29\", \"30\", \"31\", \"32\", \"35\"], \"mode\": \"markers\", \"name\": \"f1_score_micro\", \"stepped\": false, \"type\": \"scatter\", \"data\": [0.6679174484052531, 0.41963727329580985, 0.5934959349593495, 0.6285178236397748, 0.5878674171357098, 0.6372732958098811, 0.5878674171357098, 0.6328955597248279, 0.606629143214509, 0.46341463414634143, 0.5772357723577236, 0.610381488430269, 0.6116322701688556, 0.6047529706066291, 0.4627892432770482, 0.5628517823639775, 0.574108818011257, 0.6791744840525329]}, {\"categories\": [\"0\", \"2\", \"4\", \"9\", \"12\", \"15\", \"20\", \"23\", \"24\", \"25\", \"26\", \"27\", \"28\", \"29\", \"30\", \"31\", \"32\", \"35\"], \"mode\": \"lines\", \"name\": \"f1_score_micro_max\", \"stepped\": true, \"type\": \"scatter\", \"data\": [0.6679174484052531, 0.6679174484052531, 0.6679174484052531, 0.6679174484052531, 0.6679174484052531, 0.6679174484052531, 0.6679174484052531, 0.6679174484052531, 0.6679174484052531, 0.6679174484052531, 0.6679174484052531, 0.6679174484052531, 0.6679174484052531, 0.6679174484052531, 0.6679174484052531, 0.6679174484052531, 0.6679174484052531, 0.6791744840525329]}], \"average_precision_score_micro\": [{\"categories\": [\"0\", \"2\", \"4\", \"9\", \"12\", \"15\", \"20\", \"23\", \"24\", \"25\", \"26\", \"27\", \"28\", \"29\", \"30\", \"31\", \"32\", \"35\"], \"mode\": \"markers\", \"name\": \"average_precision_score_micro\", \"stepped\": false, \"type\": \"scatter\", \"data\": [0.7116036084897933, 0.4352727862554504, 0.6164720810518586, 0.6480249045295835, 0.60087942372906, 0.6835242806335898, 0.6190606152523134, 0.6761350510816476, 0.6482306245262094, 0.45981120843957685, 0.6150944305330159, 0.6510273260177732, 0.6433619383507941, 0.6292318218780034, 0.48772713898923187, 0.6025995996845479, 0.6095330308899284, 0.7702154702179876]}, {\"categories\": [\"0\", \"2\", \"4\", \"9\", \"12\", \"15\", \"20\", \"23\", \"24\", \"25\", \"26\", \"27\", \"28\", \"29\", \"30\", \"31\", \"32\", \"35\"], \"mode\": \"lines\", \"name\": \"average_precision_score_micro_max\", \"stepped\": true, \"type\": \"scatter\", \"data\": [0.7116036084897933, 0.7116036084897933, 0.7116036084897933, 0.7116036084897933, 0.7116036084897933, 0.7116036084897933, 0.7116036084897933, 0.7116036084897933, 0.7116036084897933, 0.7116036084897933, 0.7116036084897933, 0.7116036084897933, 0.7116036084897933, 0.7116036084897933, 0.7116036084897933, 0.7116036084897933, 0.7116036084897933, 0.7702154702179876]}], \"accuracy\": [{\"categories\": [\"0\", \"2\", \"4\", \"9\", \"12\", \"15\", \"20\", \"23\", \"24\", \"25\", \"26\", \"27\", \"28\", \"29\", \"30\", \"31\", \"32\", \"35\"], \"mode\": \"markers\", \"name\": \"accuracy\", \"stepped\": false, \"type\": \"scatter\", \"data\": [0.6679174484052531, 0.41963727329580985, 0.5934959349593495, 0.6285178236397748, 0.5878674171357098, 0.6372732958098811, 0.5878674171357098, 0.6328955597248279, 0.606629143214509, 0.46341463414634143, 0.5772357723577236, 0.610381488430269, 0.6116322701688556, 0.6047529706066291, 0.4627892432770482, 0.5628517823639775, 0.574108818011257, 0.6791744840525329]}, {\"categories\": [\"0\", \"2\", \"4\", \"9\", \"12\", \"15\", \"20\", \"23\", \"24\", \"25\", \"26\", \"27\", \"28\", \"29\", \"30\", \"31\", \"32\", \"35\"], \"mode\": \"lines\", \"name\": \"accuracy_max\", \"stepped\": true, \"type\": \"scatter\", \"data\": [0.6679174484052531, 0.6679174484052531, 0.6679174484052531, 0.6679174484052531, 0.6679174484052531, 0.6679174484052531, 0.6679174484052531, 0.6679174484052531, 0.6679174484052531, 0.6679174484052531, 0.6679174484052531, 0.6679174484052531, 0.6679174484052531, 0.6679174484052531, 0.6679174484052531, 0.6679174484052531, 0.6679174484052531, 0.6791744840525329]}], \"average_precision_score_weighted\": [{\"categories\": [\"0\", \"2\", \"4\", \"9\", \"12\", \"15\", \"20\", \"23\", \"24\", \"25\", \"26\", \"27\", \"28\", \"29\", \"30\", \"31\", \"32\", \"35\"], \"mode\": \"markers\", \"name\": \"average_precision_score_weighted\", \"stepped\": false, \"type\": \"scatter\", \"data\": [0.699409270207783, 0.560931489100268, 0.6278699351070222, 0.6305703439625291, 0.5692760122884161, 0.683204052663259, 0.5948925465188984, 0.6678365351612809, 0.6344654492826022, 0.4367580806614602, 0.5969449143146922, 0.6439468949223446, 0.6321039580371971, 0.614916865621386, 0.4518039269965258, 0.5881802794927312, 0.5941644077768838, 0.7545356044301815]}, {\"categories\": [\"0\", \"2\", \"4\", \"9\", \"12\", \"15\", \"20\", \"23\", \"24\", \"25\", \"26\", \"27\", \"28\", \"29\", \"30\", \"31\", \"32\", \"35\"], \"mode\": \"lines\", \"name\": \"average_precision_score_weighted_max\", \"stepped\": true, \"type\": \"scatter\", \"data\": [0.699409270207783, 0.699409270207783, 0.699409270207783, 0.699409270207783, 0.699409270207783, 0.699409270207783, 0.699409270207783, 0.699409270207783, 0.699409270207783, 0.699409270207783, 0.699409270207783, 0.699409270207783, 0.699409270207783, 0.699409270207783, 0.699409270207783, 0.699409270207783, 0.699409270207783, 0.7545356044301815]}], \"f1_score_macro\": [{\"categories\": [\"0\", \"2\", \"4\", \"9\", \"12\", \"15\", \"20\", \"23\", \"24\", \"25\", \"26\", \"27\", \"28\", \"29\", \"30\", \"31\", \"32\", \"35\"], \"mode\": \"markers\", \"name\": \"f1_score_macro\", \"stepped\": false, \"type\": \"scatter\", \"data\": [0.37999978848157695, 0.2647805673566371, 0.3225101335152272, 0.30650039582011973, 0.266574891047683, 0.35107882530457046, 0.2925160393953516, 0.2843235852128625, 0.2729294906786363, 0.18560698333845474, 0.21039280441505023, 0.2551168550716198, 0.3091976649724, 0.24163616405851918, 0.18331385690556654, 0.21965078390402984, 0.2089706574619817, 0.36080546455403567]}, {\"categories\": [\"0\", \"2\", \"4\", \"9\", \"12\", \"15\", \"20\", \"23\", \"24\", \"25\", \"26\", \"27\", \"28\", \"29\", \"30\", \"31\", \"32\", \"35\"], \"mode\": \"lines\", \"name\": \"f1_score_macro_max\", \"stepped\": true, \"type\": \"scatter\", \"data\": [0.37999978848157695, 0.37999978848157695, 0.37999978848157695, 0.37999978848157695, 0.37999978848157695, 0.37999978848157695, 0.37999978848157695, 0.37999978848157695, 0.37999978848157695, 0.37999978848157695, 0.37999978848157695, 0.37999978848157695, 0.37999978848157695, 0.37999978848157695, 0.37999978848157695, 0.37999978848157695, 0.37999978848157695, 0.37999978848157695]}], \"balanced_accuracy\": [{\"categories\": [\"0\", \"2\", \"4\", \"9\", \"12\", \"15\", \"20\", \"23\", \"24\", \"25\", \"26\", \"27\", \"28\", \"29\", \"30\", \"31\", \"32\", \"35\"], \"mode\": \"markers\", \"name\": \"balanced_accuracy\", \"stepped\": false, \"type\": \"scatter\", \"data\": [0.36353395189218946, 0.4299096621327578, 0.3144284973119631, 0.3050194471939015, 0.267492488324731, 0.3415649567055245, 0.2918604104013103, 0.281770818444184, 0.27178605965342967, 0.1948303701148432, 0.2330235793326544, 0.2608295334790202, 0.3040776165673745, 0.2533020335943012, 0.19384307268905646, 0.23310431722037314, 0.23168671666488616, 0.35051564809574504]}, {\"categories\": [\"0\", \"2\", \"4\", \"9\", \"12\", \"15\", \"20\", \"23\", \"24\", \"25\", \"26\", \"27\", \"28\", \"29\", \"30\", \"31\", \"32\", \"35\"], \"mode\": \"lines\", \"name\": \"balanced_accuracy_max\", \"stepped\": true, \"type\": \"scatter\", \"data\": [0.36353395189218946, 0.4299096621327578, 0.4299096621327578, 0.4299096621327578, 0.4299096621327578, 0.4299096621327578, 0.4299096621327578, 0.4299096621327578, 0.4299096621327578, 0.4299096621327578, 0.4299096621327578, 0.4299096621327578, 0.4299096621327578, 0.4299096621327578, 0.4299096621327578, 0.4299096621327578, 0.4299096621327578, 0.4299096621327578]}], \"recall_score_weighted\": [{\"categories\": [\"0\", \"2\", \"4\", \"9\", \"12\", \"15\", \"20\", \"23\", \"24\", \"25\", \"26\", \"27\", \"28\", \"29\", \"30\", \"31\", \"32\", \"35\"], \"mode\": \"markers\", \"name\": \"recall_score_weighted\", \"stepped\": false, \"type\": \"scatter\", \"data\": [0.6679174484052531, 0.41963727329580985, 0.5934959349593495, 0.6285178236397748, 0.5878674171357098, 0.6372732958098811, 0.5878674171357098, 0.6328955597248279, 0.606629143214509, 0.46341463414634143, 0.5772357723577236, 0.610381488430269, 0.6116322701688556, 0.6047529706066291, 0.4627892432770482, 0.5628517823639775, 0.574108818011257, 0.6791744840525329]}, {\"categories\": [\"0\", \"2\", \"4\", \"9\", \"12\", \"15\", \"20\", \"23\", \"24\", \"25\", \"26\", \"27\", \"28\", \"29\", \"30\", \"31\", \"32\", \"35\"], \"mode\": \"lines\", \"name\": \"recall_score_weighted_max\", \"stepped\": true, \"type\": \"scatter\", \"data\": [0.6679174484052531, 0.6679174484052531, 0.6679174484052531, 0.6679174484052531, 0.6679174484052531, 0.6679174484052531, 0.6679174484052531, 0.6679174484052531, 0.6679174484052531, 0.6679174484052531, 0.6679174484052531, 0.6679174484052531, 0.6679174484052531, 0.6679174484052531, 0.6679174484052531, 0.6679174484052531, 0.6679174484052531, 0.6791744840525329]}], \"precision_score_micro\": [{\"categories\": [\"0\", \"2\", \"4\", \"9\", \"12\", \"15\", \"20\", \"23\", \"24\", \"25\", \"26\", \"27\", \"28\", \"29\", \"30\", \"31\", \"32\", \"35\"], \"mode\": \"markers\", \"name\": \"precision_score_micro\", \"stepped\": false, \"type\": \"scatter\", \"data\": [0.6679174484052531, 0.41963727329580985, 0.5934959349593495, 0.6285178236397748, 0.5878674171357098, 0.6372732958098811, 0.5878674171357098, 0.6328955597248279, 0.606629143214509, 0.46341463414634143, 0.5772357723577236, 0.610381488430269, 0.6116322701688556, 0.6047529706066291, 0.4627892432770482, 0.5628517823639775, 0.574108818011257, 0.6791744840525329]}, {\"categories\": [\"0\", \"2\", \"4\", \"9\", \"12\", \"15\", \"20\", \"23\", \"24\", \"25\", \"26\", \"27\", \"28\", \"29\", \"30\", \"31\", \"32\", \"35\"], \"mode\": \"lines\", \"name\": \"precision_score_micro_max\", \"stepped\": true, \"type\": \"scatter\", \"data\": [0.6679174484052531, 0.6679174484052531, 0.6679174484052531, 0.6679174484052531, 0.6679174484052531, 0.6679174484052531, 0.6679174484052531, 0.6679174484052531, 0.6679174484052531, 0.6679174484052531, 0.6679174484052531, 0.6679174484052531, 0.6679174484052531, 0.6679174484052531, 0.6679174484052531, 0.6679174484052531, 0.6679174484052531, 0.6791744840525329]}], \"matthews_correlation\": [{\"categories\": [\"0\", \"2\", \"4\", \"9\", \"12\", \"15\", \"20\", \"23\", \"24\", \"25\", \"26\", \"27\", \"28\", \"29\", \"30\", \"31\", \"32\", \"35\"], \"mode\": \"markers\", \"name\": \"matthews_correlation\", \"stepped\": false, \"type\": \"scatter\", \"data\": [0.46602247059661156, 0.25108901960639146, 0.35086048309457335, 0.39606668948239854, 0.3254100959794211, 0.4233366634092958, 0.3290991882488146, 0.3940647813775046, 0.3514770211668606, 0.10293003127570333, 0.292323695486431, 0.35271748735520886, 0.3750462354506398, 0.34275790096339814, 0.10137128804227948, 0.2687403107021772, 0.28691214944623544, 0.4816202868378121]}, {\"categories\": [\"0\", \"2\", \"4\", \"9\", \"12\", \"15\", \"20\", \"23\", \"24\", \"25\", \"26\", \"27\", \"28\", \"29\", \"30\", \"31\", \"32\", \"35\"], \"mode\": \"lines\", \"name\": \"matthews_correlation_max\", \"stepped\": true, \"type\": \"scatter\", \"data\": [0.46602247059661156, 0.46602247059661156, 0.46602247059661156, 0.46602247059661156, 0.46602247059661156, 0.46602247059661156, 0.46602247059661156, 0.46602247059661156, 0.46602247059661156, 0.46602247059661156, 0.46602247059661156, 0.46602247059661156, 0.46602247059661156, 0.46602247059661156, 0.46602247059661156, 0.46602247059661156, 0.46602247059661156, 0.4816202868378121]}], \"AUC_macro\": [{\"categories\": [\"0\", \"2\", \"4\", \"9\", \"12\", \"15\", \"20\", \"23\", \"24\", \"25\", \"26\", \"27\", \"28\", \"29\", \"30\", \"31\", \"32\", \"35\"], \"mode\": \"markers\", \"name\": \"AUC_macro\", \"stepped\": false, \"type\": \"scatter\", \"data\": [0.8159254875766037, 0.787699550077036, 0.6591144393364324, 0.806951848762207, 0.7530327458185998, 0.7040921610049539, 0.7951999748569216, 0.8307699117142168, 0.8112226989971413, 0.5668722439484126, 0.8109610803716193, 0.7897583207278078, 0.7222205106507626, 0.8194579798291509, 0.6179074234372374, 0.7660669553798861, 0.8071331877758857, 0.8721016328120172]}, {\"categories\": [\"0\", \"2\", \"4\", \"9\", \"12\", \"15\", \"20\", \"23\", \"24\", \"25\", \"26\", \"27\", \"28\", \"29\", \"30\", \"31\", \"32\", \"35\"], \"mode\": \"lines\", \"name\": \"AUC_macro_max\", \"stepped\": true, \"type\": \"scatter\", \"data\": [0.8159254875766037, 0.8159254875766037, 0.8159254875766037, 0.8159254875766037, 0.8159254875766037, 0.8159254875766037, 0.8159254875766037, 0.8307699117142168, 0.8307699117142168, 0.8307699117142168, 0.8307699117142168, 0.8307699117142168, 0.8307699117142168, 0.8307699117142168, 0.8307699117142168, 0.8307699117142168, 0.8307699117142168, 0.8721016328120172]}], \"precision_score_macro\": [{\"categories\": [\"0\", \"2\", \"4\", \"9\", \"12\", \"15\", \"20\", \"23\", \"24\", \"25\", \"26\", \"27\", \"28\", \"29\", \"30\", \"31\", \"32\", \"35\"], \"mode\": \"markers\", \"name\": \"precision_score_macro\", \"stepped\": false, \"type\": \"scatter\", \"data\": [0.4302844661434928, 0.29920215185203114, 0.37623983784848886, 0.3152440990206063, 0.28024118484701305, 0.4114295016068279, 0.30681485399932074, 0.353370132475199, 0.31549713128548146, 0.2059852455334338, 0.19251153932444873, 0.340353423730913, 0.3268730373588265, 0.2906478355113204, 0.18490206229738684, 0.31339440753449876, 0.1911943367079203, 0.42193381650201567]}, {\"categories\": [\"0\", \"2\", \"4\", \"9\", \"12\", \"15\", \"20\", \"23\", \"24\", \"25\", \"26\", \"27\", \"28\", \"29\", \"30\", \"31\", \"32\", \"35\"], \"mode\": \"lines\", \"name\": \"precision_score_macro_max\", \"stepped\": true, \"type\": \"scatter\", \"data\": [0.4302844661434928, 0.4302844661434928, 0.4302844661434928, 0.4302844661434928, 0.4302844661434928, 0.4302844661434928, 0.4302844661434928, 0.4302844661434928, 0.4302844661434928, 0.4302844661434928, 0.4302844661434928, 0.4302844661434928, 0.4302844661434928, 0.4302844661434928, 0.4302844661434928, 0.4302844661434928, 0.4302844661434928, 0.4302844661434928]}], \"norm_macro_recall\": [{\"categories\": [\"0\", \"2\", \"4\", \"9\", \"12\", \"15\", \"20\", \"23\", \"24\", \"25\", \"26\", \"27\", \"28\", \"29\", \"30\", \"31\", \"32\", \"35\"], \"mode\": \"markers\", \"name\": \"norm_macro_recall\", \"stepped\": false, \"type\": \"scatter\", \"data\": [0.23624074227062733, 0.3158915945593093, 0.17731419677435575, 0.1660233366326818, 0.12099098598967721, 0.20987794804662938, 0.15023249248157236, 0.13812498213302074, 0.12614327158411562, 0.03379644413781186, 0.07962829519918534, 0.11299544017482425, 0.16489313988084942, 0.10396244031316142, 0.03261168722686779, 0.07972518066444774, 0.0780240599978634, 0.22061877771489402]}, {\"categories\": [\"0\", \"2\", \"4\", \"9\", \"12\", \"15\", \"20\", \"23\", \"24\", \"25\", \"26\", \"27\", \"28\", \"29\", \"30\", \"31\", \"32\", \"35\"], \"mode\": \"lines\", \"name\": \"norm_macro_recall_max\", \"stepped\": true, \"type\": \"scatter\", \"data\": [0.23624074227062733, 0.3158915945593093, 0.3158915945593093, 0.3158915945593093, 0.3158915945593093, 0.3158915945593093, 0.3158915945593093, 0.3158915945593093, 0.3158915945593093, 0.3158915945593093, 0.3158915945593093, 0.3158915945593093, 0.3158915945593093, 0.3158915945593093, 0.3158915945593093, 0.3158915945593093, 0.3158915945593093, 0.3158915945593093]}], \"recall_score_micro\": [{\"categories\": [\"0\", \"2\", \"4\", \"9\", \"12\", \"15\", \"20\", \"23\", \"24\", \"25\", \"26\", \"27\", \"28\", \"29\", \"30\", \"31\", \"32\", \"35\"], \"mode\": \"markers\", \"name\": \"recall_score_micro\", \"stepped\": false, \"type\": \"scatter\", \"data\": [0.6679174484052531, 0.41963727329580985, 0.5934959349593495, 0.6285178236397748, 0.5878674171357098, 0.6372732958098811, 0.5878674171357098, 0.6328955597248279, 0.606629143214509, 0.46341463414634143, 0.5772357723577236, 0.610381488430269, 0.6116322701688556, 0.6047529706066291, 0.4627892432770482, 0.5628517823639775, 0.574108818011257, 0.6791744840525329]}, {\"categories\": [\"0\", \"2\", \"4\", \"9\", \"12\", \"15\", \"20\", \"23\", \"24\", \"25\", \"26\", \"27\", \"28\", \"29\", \"30\", \"31\", \"32\", \"35\"], \"mode\": \"lines\", \"name\": \"recall_score_micro_max\", \"stepped\": true, \"type\": \"scatter\", \"data\": [0.6679174484052531, 0.6679174484052531, 0.6679174484052531, 0.6679174484052531, 0.6679174484052531, 0.6679174484052531, 0.6679174484052531, 0.6679174484052531, 0.6679174484052531, 0.6679174484052531, 0.6679174484052531, 0.6679174484052531, 0.6679174484052531, 0.6679174484052531, 0.6679174484052531, 0.6679174484052531, 0.6679174484052531, 0.6791744840525329]}], \"average_precision_score_macro\": [{\"categories\": [\"0\", \"2\", \"4\", \"9\", \"12\", \"15\", \"20\", \"23\", \"24\", \"25\", \"26\", \"27\", \"28\", \"29\", \"30\", \"31\", \"32\", \"35\"], \"mode\": \"markers\", \"name\": \"average_precision_score_macro\", \"stepped\": false, \"type\": \"scatter\", \"data\": [0.428587548693582, 0.34830416741490655, 0.3570578435675131, 0.3754536580020767, 0.3010235167350872, 0.3869370077763344, 0.3784130095899898, 0.4168774313768729, 0.3991950915024853, 0.20655359373640045, 0.36913140081104573, 0.36192395909957753, 0.36049358635339496, 0.38367048474598836, 0.216849651813402, 0.35320440071907416, 0.34803315017195274, 0.48441659955853417]}, {\"categories\": [\"0\", \"2\", \"4\", \"9\", \"12\", \"15\", \"20\", \"23\", \"24\", \"25\", \"26\", \"27\", \"28\", \"29\", \"30\", \"31\", \"32\", \"35\"], \"mode\": \"lines\", \"name\": \"average_precision_score_macro_max\", \"stepped\": true, \"type\": \"scatter\", \"data\": [0.428587548693582, 0.428587548693582, 0.428587548693582, 0.428587548693582, 0.428587548693582, 0.428587548693582, 0.428587548693582, 0.428587548693582, 0.428587548693582, 0.428587548693582, 0.428587548693582, 0.428587548693582, 0.428587548693582, 0.428587548693582, 0.428587548693582, 0.428587548693582, 0.428587548693582, 0.48441659955853417]}]}, \"metricName\": null, \"primaryMetricName\": \"accuracy\", \"showLegend\": false}, \"run_metrics\": [{\"name\": \"experiment_status\", \"run_id\": \"AutoML_d25ab8c7-4636-4dce-96d7-00c26668a215\", \"categories\": [0, 1, 2, 3, 4, 5, 6, 7, 8, 9, 10, 11, 12, 13, 14], \"series\": [{\"data\": [\"DatasetEvaluation\", \"FeaturesGeneration\", \"DatasetFeaturization\", \"DatasetFeaturizationCompleted\", \"DatasetBalancing\", \"DatasetCrossValidationSplit\", \"ModelSelection\", \"BestRunExplainModel\", \"ModelExplanationDataSetSetup\", \"PickSurrogateModel\", \"EngineeredFeatureExplanations\", \"EngineeredFeatureExplanations\", \"RawFeaturesExplanations\", \"RawFeaturesExplanations\", \"BestRunExplainModel\"]}]}, {\"name\": \"experiment_status_description\", \"run_id\": \"AutoML_d25ab8c7-4636-4dce-96d7-00c26668a215\", \"categories\": [0, 1, 2, 3, 4, 5, 6, 7, 8, 9, 10, 11, 12, 13, 14], \"series\": [{\"data\": [\"Gathering dataset statistics.\", \"Generating features for the dataset.\", \"Beginning to fit featurizers and featurize the dataset.\", \"Completed fit featurizers and featurizing the dataset.\", \"Performing class balancing sweeping\", \"Generating individually featurized CV splits.\", \"Beginning model selection.\", \"Best run model explanations started\", \"Model explanations data setup completed\", \"Choosing LightGBM as the surrogate model for explanations\", \"Computation of engineered features started\", \"Computation of engineered features completed\", \"Computation of raw features started\", \"Computation of raw features completed\", \"Best run model explanations completed\"]}]}, {\"name\": \"recall_score_weighted\", \"run_id\": \"AutoML_d25ab8c7-4636-4dce-96d7-00c26668a215\", \"categories\": [0], \"series\": [{\"data\": [0.6985616010006254]}]}, {\"name\": \"norm_macro_recall\", \"run_id\": \"AutoML_d25ab8c7-4636-4dce-96d7-00c26668a215\", \"categories\": [0], \"series\": [{\"data\": [0.23221839652514265]}]}, {\"name\": \"weighted_accuracy\", \"run_id\": \"AutoML_d25ab8c7-4636-4dce-96d7-00c26668a215\", \"categories\": [0], \"series\": [{\"data\": [0.7559357851025036]}]}, {\"name\": \"f1_score_macro\", \"run_id\": \"AutoML_d25ab8c7-4636-4dce-96d7-00c26668a215\", \"categories\": [0], \"series\": [{\"data\": [0.3744967110631449]}]}, {\"name\": \"precision_score_micro\", \"run_id\": \"AutoML_d25ab8c7-4636-4dce-96d7-00c26668a215\", \"categories\": [0], \"series\": [{\"data\": [0.6985616010006254]}]}, {\"name\": \"f1_score_micro\", \"run_id\": \"AutoML_d25ab8c7-4636-4dce-96d7-00c26668a215\", \"categories\": [0], \"series\": [{\"data\": [0.6985616010006254]}]}, {\"name\": \"recall_score_micro\", \"run_id\": \"AutoML_d25ab8c7-4636-4dce-96d7-00c26668a215\", \"categories\": [0], \"series\": [{\"data\": [0.6985616010006254]}]}, {\"name\": \"balanced_accuracy\", \"run_id\": \"AutoML_d25ab8c7-4636-4dce-96d7-00c26668a215\", \"categories\": [0], \"series\": [{\"data\": [0.3601819971042855]}]}, {\"name\": \"recall_score_macro\", \"run_id\": \"AutoML_d25ab8c7-4636-4dce-96d7-00c26668a215\", \"categories\": [0], \"series\": [{\"data\": [0.3601819971042855]}]}, {\"name\": \"average_precision_score_weighted\", \"run_id\": \"AutoML_d25ab8c7-4636-4dce-96d7-00c26668a215\", \"categories\": [0], \"series\": [{\"data\": [0.7395177449972504]}]}, {\"name\": \"precision_score_weighted\", \"run_id\": \"AutoML_d25ab8c7-4636-4dce-96d7-00c26668a215\", \"categories\": [0], \"series\": [{\"data\": [0.673961612432029]}]}, {\"name\": \"AUC_macro\", \"run_id\": \"AutoML_d25ab8c7-4636-4dce-96d7-00c26668a215\", \"categories\": [0], \"series\": [{\"data\": [0.8634495286510431]}]}, {\"name\": \"AUC_micro\", \"run_id\": \"AutoML_d25ab8c7-4636-4dce-96d7-00c26668a215\", \"categories\": [0], \"series\": [{\"data\": [0.9330099604936012]}]}, {\"name\": \"AUC_weighted\", \"run_id\": \"AutoML_d25ab8c7-4636-4dce-96d7-00c26668a215\", \"categories\": [0], \"series\": [{\"data\": [0.8480019699519977]}]}, {\"name\": \"log_loss\", \"run_id\": \"AutoML_d25ab8c7-4636-4dce-96d7-00c26668a215\", \"categories\": [0], \"series\": [{\"data\": [0.9029904353905414]}]}, {\"name\": \"accuracy\", \"run_id\": \"AutoML_d25ab8c7-4636-4dce-96d7-00c26668a215\", \"categories\": [0], \"series\": [{\"data\": [0.6985616010006254]}]}, {\"name\": \"precision_score_macro\", \"run_id\": \"AutoML_d25ab8c7-4636-4dce-96d7-00c26668a215\", \"categories\": [0], \"series\": [{\"data\": [0.4436689498169109]}]}, {\"name\": \"average_precision_score_macro\", \"run_id\": \"AutoML_d25ab8c7-4636-4dce-96d7-00c26668a215\", \"categories\": [0], \"series\": [{\"data\": [0.45631737489916446]}]}, {\"name\": \"matthews_correlation\", \"run_id\": \"AutoML_d25ab8c7-4636-4dce-96d7-00c26668a215\", \"categories\": [0], \"series\": [{\"data\": [0.5134186737115246]}]}, {\"name\": \"average_precision_score_micro\", \"run_id\": \"AutoML_d25ab8c7-4636-4dce-96d7-00c26668a215\", \"categories\": [0], \"series\": [{\"data\": [0.752312078946256]}]}, {\"name\": \"f1_score_weighted\", \"run_id\": \"AutoML_d25ab8c7-4636-4dce-96d7-00c26668a215\", \"categories\": [0], \"series\": [{\"data\": [0.6809755475431447]}]}], \"run_logs\": \"\\nRun is completed.\", \"graph\": {}, \"widget_settings\": {\"childWidgetDisplay\": \"popup\", \"send_telemetry\": false, \"log_level\": \"INFO\", \"sdk_version\": \"1.40.0\"}, \"loading\": false}"
          },
          "metadata": {}
        }
      ],
      "execution_count": 11,
      "metadata": {
        "gather": {
          "logged": 1650647394337
        },
        "jupyter": {
          "outputs_hidden": false,
          "source_hidden": false
        },
        "nteract": {
          "transient": {
            "deleting": false
          }
        },
        "scrolled": true
      }
    },
    {
      "cell_type": "markdown",
      "source": [
        "## Best Model\n",
        "\n",
        "TODO: In the cell below, get the best model from the automl experiments and display all the properties of the model.\n",
        "\n"
      ],
      "metadata": {}
    },
    {
      "cell_type": "code",
      "source": [
        "best_run, best_model = remote_run.get_output()\n",
        "best_run_metrics = best_run.get_metrics()\n",
        "for metric_name in best_run_metrics:\n",
        "    metric = best_run_metrics[metric_name]\n",
        "    print(metric_name, metric)"
      ],
      "outputs": [
        {
          "output_type": "stream",
          "name": "stdout",
          "text": "log_loss 0.9029904353905414\nf1_score_weighted 0.6809755475431447\nprecision_score_micro 0.6985616010006254\naverage_precision_score_weighted 0.7395177449972504\nmatthews_correlation 0.5134186737115246\nf1_score_micro 0.6985616010006254\nrecall_score_macro 0.3601819971042855\naverage_precision_score_micro 0.752312078946256\nbalanced_accuracy 0.3601819971042855\nAUC_weighted 0.8480019699519977\naverage_precision_score_macro 0.45631737489916446\nf1_score_macro 0.3744967110631449\nAUC_micro 0.9330099604936012\nprecision_score_macro 0.4436689498169109\naccuracy 0.6985616010006254\nrecall_score_micro 0.6985616010006254\nweighted_accuracy 0.7559357851025036\nnorm_macro_recall 0.23221839652514265\nrecall_score_weighted 0.6985616010006254\nprecision_score_weighted 0.673961612432029\nAUC_macro 0.8634495286510431\naccuracy_table aml://artifactId/ExperimentRun/dcid.AutoML_d25ab8c7-4636-4dce-96d7-00c26668a215_34/accuracy_table\nconfusion_matrix aml://artifactId/ExperimentRun/dcid.AutoML_d25ab8c7-4636-4dce-96d7-00c26668a215_34/confusion_matrix\n"
        }
      ],
      "execution_count": 8,
      "metadata": {
        "gather": {
          "logged": 1650647254138
        },
        "jupyter": {
          "outputs_hidden": false,
          "source_hidden": false
        },
        "nteract": {
          "transient": {
            "deleting": false
          }
        }
      }
    },
    {
      "cell_type": "code",
      "source": [
        "print(\"Best model:\")\n",
        "print(best_model)\n",
        "print()\n",
        "print(\"Best run:\")\n",
        "print(best_run)"
      ],
      "outputs": [
        {
          "output_type": "stream",
          "name": "stdout",
          "text": "Best model:\nPipeline(memory=None,\n         steps=[('datatransformer',\n                 DataTransformer(enable_dnn=False, enable_feature_sweeping=True, feature_sweeping_config={}, feature_sweeping_timeout=86400, featurization_config=None, force_text_dnn=False, is_cross_validation=True, is_onnx_compatible=False, observer=None, task='classification', working_dir='/mnt/batch/tasks/shared/LS_root/mount...\n                 PreFittedSoftVotingClassifier(classification_labels=array([3, 4, 5, 6, 7, 8]), estimators=[('13', Pipeline(memory=None, steps=[('standardscalerwrapper', StandardScalerWrapper(copy=True, with_mean=False, with_std=True)), ('kneighborsclassifier', KNeighborsClassifier(algorithm='auto', leaf_size=30, metric='manhattan', metric_params=None, n_jobs=1, n_neighbors=32, p=2, weights='distance'))], verbose=False)), ('0', Pipeline(memory=None, steps=[('maxabsscaler', MaxAbsScaler(copy=True)), ('lightgbmclassifier', LightGBMClassifier(min_data_in_leaf=20, n_jobs=1, problem_info=ProblemInfo(gpu_training_param_dict={'processing_unit_type': 'cpu'}), random_state=None))], verbose=False)), ('1', Pipeline(memory=None, steps=[('maxabsscaler', MaxAbsScaler(copy=True)), ('xgboostclassifier', XGBoostClassifier(n_jobs=1, problem_info=ProblemInfo(gpu_training_param_dict={'processing_unit_type': 'cpu'}), random_state=0, tree_method='auto'))], verbose=False)), ('10', Pipeline(memory=None, steps=[('standardscalerwrapper', StandardScalerWrapper(copy=True, with_mean=False, with_std=False)), ('xgboostclassifier', XGBoostClassifier(booster='gbtree', colsample_bytree=0.5, eta=0.3, gamma=0, max_depth=10, max_leaves=255, n_estimators=10, n_jobs=1, objective='reg:logistic', problem_info=ProblemInfo(gpu_training_param_dict={'processing_unit_type': 'cpu'}), random_state=0, reg_alpha=0, reg_lambda=0.10416666666666667, subsample=0.7, tree_method='auto'))], verbose=False)), ('18', Pipeline(memory=None, steps=[('standardscalerwrapper', StandardScalerWrapper(copy=True, with_mean=False, with_std=False)), ('xgboostclassifier', XGBoostClassifier(booster='gbtree', colsample_bytree=0.5, eta=0.5, gamma=0, max_depth=6, max_leaves=3, n_estimators=10, n_jobs=1, objective='reg:logistic', problem_info=ProblemInfo(gpu_training_param_dict={'processing_unit_type': 'cpu'}), random_state=0, reg_alpha=0.7291666666666667, reg_lambda=2.3958333333333335, subsample=0.8, tree_method='auto'))], verbose=False)), ('14', Pipeline(memory=None, steps=[('robustscaler', RobustScaler(copy=True, quantile_range=[10, 90], with_centering=False, with_scaling=True)), ('kneighborsclassifier', KNeighborsClassifier(algorithm='auto', leaf_size=30, metric='manhattan', metric_params=None, n_jobs=1, n_neighbors=4, p=2, weights='distance'))], verbose=False)), ('19', Pipeline(memory=None, steps=[('standardscalerwrapper', StandardScalerWrapper(copy=True, with_mean=False, with_std=False)), ('xgboostclassifier', XGBoostClassifier(booster='gbtree', colsample_bytree=0.6, eta=0.3, gamma=0, max_depth=6, max_leaves=0, n_estimators=10, n_jobs=1, objective='reg:logistic', problem_info=ProblemInfo(gpu_training_param_dict={'processing_unit_type': 'cpu'}), random_state=0, reg_alpha=0.3125, reg_lambda=2.3958333333333335, subsample=1, tree_method='auto'))], verbose=False)), ('15', Pipeline(memory=None, steps=[('minmaxscaler', MinMaxScaler(copy=True, feature_range=(0, 1))), ('kneighborsclassifier', KNeighborsClassifier(algorithm='auto', leaf_size=30, metric='manhattan', metric_params=None, n_jobs=1, n_neighbors=6, p=2, weights='distance'))], verbose=False)), ('7', Pipeline(memory=None, steps=[('maxabsscaler', MaxAbsScaler(copy=True)), ('lightgbmclassifier', LightGBMClassifier(boosting_type='gbdt', colsample_bytree=0.5944444444444444, learning_rate=0.06316157894736842, max_bin=260, max_depth=6, min_child_weight=2, min_data_in_leaf=0.003457931034482759, min_split_gain=0.42105263157894735, n_estimators=10, n_jobs=1, num_leaves=161, problem_info=ProblemInfo(gpu_training_param_dict={'processing_unit_type': 'cpu'}), random_state=None, reg_alpha=0.3684210526315789, reg_lambda=0.15789473684210525, subsample=0.5447368421052632))], verbose=False)), ('20', Pipeline(memory=None, steps=[('maxabsscaler', MaxAbsScaler(copy=True)), ('logisticregression', LogisticRegression(C=719.6856730011514, class_weight=None, dual=False, fit_intercept=True, intercept_scaling=1, l1_ratio=None, max_iter=100, multi_class='multinomial', n_jobs=1, penalty='l2', random_state=None, solver='lbfgs', tol=0.0001, verbose=0, warm_start=False))], verbose=False)), ('3', Pipeline(memory=None, steps=[('sparsenormalizer', Normalizer(copy=True, norm='l2')), ('xgboostclassifier', XGBoostClassifier(booster='gbtree', colsample_bytree=0.7, eta=0.01, gamma=0.01, max_depth=7, max_leaves=31, n_estimators=10, n_jobs=1, objective='reg:logistic', problem_info=ProblemInfo(gpu_training_param_dict={'processing_unit_type': 'cpu'}), random_state=0, reg_alpha=2.1875, reg_lambda=1.0416666666666667, subsample=1, tree_method='auto'))], verbose=False))], flatten_transform=None, weights=[0.06666666666666667, 0.06666666666666667, 0.06666666666666667, 0.06666666666666667, 0.06666666666666667, 0.13333333333333333, 0.06666666666666667, 0.06666666666666667, 0.06666666666666667, 0.13333333333333333, 0.2]))],\n         verbose=False)\n\nBest run:\nRun(Experiment: wine_quality_automl,\nId: AutoML_d25ab8c7-4636-4dce-96d7-00c26668a215_34,\nType: azureml.scriptrun,\nStatus: Completed)\n"
        }
      ],
      "execution_count": 10,
      "metadata": {
        "gather": {
          "logged": 1650647324782
        },
        "jupyter": {
          "outputs_hidden": false,
          "source_hidden": false
        },
        "nteract": {
          "transient": {
            "deleting": false
          }
        }
      }
    },
    {
      "cell_type": "code",
      "source": [
        "#TODO: Save the best model\n",
        "\n",
        "os.makedirs('models', exist_ok=True)\n",
        "joblib.dump(best_model, filename='./models/model.pkl')\n",
        "\n",
        "model_name = best_run.properties['model_name']\n",
        "\n",
        "\n",
        "description = \"Best wine quality AutoML model\"\n",
        "model = remote_run.register_model(model_name = model_name, \n",
        "                                  description = description, \n",
        "                                  tags = None)\n",
        "\n",
        "print(model_name)"
      ],
      "outputs": [
        {
          "output_type": "stream",
          "name": "stdout",
          "text": "AutoMLd25ab8c7434\n"
        }
      ],
      "execution_count": 12,
      "metadata": {
        "gather": {
          "logged": 1650647805794
        },
        "jupyter": {
          "outputs_hidden": false,
          "source_hidden": false
        },
        "nteract": {
          "transient": {
            "deleting": false
          }
        }
      }
    },
    {
      "cell_type": "markdown",
      "source": [
        "## Model Deployment\n",
        "\n",
        "Remember you have to deploy only one of the two models you trained but you still need to register both the models. Perform the steps in the rest of this notebook only if you wish to deploy this model.\n",
        "\n",
        "TODO: In the cell below, register the model, create an inference config and deploy the model as a web service."
      ],
      "metadata": {}
    },
    {
      "cell_type": "code",
      "source": [
        "# register model\n",
        "best_child = remote_run.get_best_child()\n",
        "model = best_child.register_model(model_name='automl-model',model_path='outputs/model.pkl')\n",
        "\n",
        "\n",
        "# deploy full instance\n",
        "service_name = \"wine-quality-prediction\"\n",
        "env = best_run.get_environment()\n",
        "\n",
        "\n",
        "inference_config = InferenceConfig(\n",
        "    environment=env,\n",
        "    entry_script=\"inference.py\",\n",
        ")\n",
        "\n",
        "aci_config = AciWebservice.deploy_configuration(\n",
        "    cpu_cores = 0.5, \n",
        "    memory_gb=1, \n",
        "    auth_enabled=True\n",
        ")\n",
        "web_service = Model.deploy(\n",
        "    workspace=ws, \n",
        "    name=service_name,\n",
        "    models=[model], \n",
        "    inference_config=inference_config, \n",
        "    deployment_config=aci_config, \n",
        "    overwrite=True\n",
        ")\n",
        "web_service.wait_for_deployment(show_output=False)"
      ],
      "outputs": [
        {
          "output_type": "stream",
          "name": "stdout",
          "text": "\n"
        }
      ],
      "execution_count": 23,
      "metadata": {
        "gather": {
          "logged": 1650649940803
        }
      }
    },
    {
      "cell_type": "markdown",
      "source": [
        "TODO: In the cell below, send a request to the web service you deployed to test it."
      ],
      "metadata": {
        "nteract": {
          "transient": {
            "deleting": false
          }
        }
      }
    },
    {
      "cell_type": "code",
      "source": [
        "\n",
        "\n",
        "import urllib.request\n",
        "import json\n",
        "import os\n",
        "import ssl\n",
        "\n",
        "def allowSelfSignedHttps(allowed):\n",
        "    # bypass the server certificate verification on client side\n",
        "    if allowed and not os.environ.get('PYTHONHTTPSVERIFY', '') and getattr(ssl, '_create_unverified_context', None):\n",
        "        ssl._create_default_https_context = ssl._create_unverified_context\n",
        "\n",
        "allowSelfSignedHttps(True) # this line is needed if you use self-signed certificate in your scoring service.\n",
        "\n",
        "# Request data goes here\n",
        "data = {\n",
        "    \"Inputs\": {\n",
        "        \"data\":\n",
        "        [\n",
        "            {\n",
        "                \"fixed acidity\": \"7.0\",\n",
        "                \"volatile acidity\": \"0.4\",\n",
        "                \"citric acid\": \"0.09\",\n",
        "                \"residual sugar\": \"2.1\",\n",
        "                \"chlorides\": \"0.1\",\n",
        "                \"free sulfur dioxide\": \"8.0\",\n",
        "                \"total sulfur dioxide\": \"41.0\",\n",
        "                \"density\": \"0.9934\",\n",
        "                \"pH\": \"3.12\",\n",
        "                \"sulphates\": \"0.60\",\n",
        "                \"alcohol\": \"9.0\"\n",
        "            },\n",
        "        ]\n",
        "    },\n",
        "    \"GlobalParameters\": {\n",
        "        \"method\": \"predict\"\n",
        "    }\n",
        "}\n",
        "\n",
        "body = str.encode(json.dumps(data))\n",
        "\n",
        "url = 'http://a1669202-838d-48ff-b22f-b9f5402ef511.southcentralus.azurecontainer.io/score'\n",
        "api_key = 'GvSMUwys0532F6a9J4xaEJ4DAtqqDpSj' # Replace this with the API key for the web service\n",
        "headers = {'Content-Type':'application/json', 'Authorization':('Bearer '+ api_key)}\n",
        "\n",
        "req = urllib.request.Request(url, body, headers)\n",
        "\n",
        "try:\n",
        "    response = urllib.request.urlopen(req)\n",
        "\n",
        "    result = response.read()\n",
        "    print(result)\n",
        "except urllib.error.HTTPError as error:\n",
        "    print(\"The request failed with status code: \" + str(error.code))\n",
        "\n",
        "    # Print the headers - they include the requert ID and the timestamp, which are useful for debugging the failure\n",
        "    print(error.info())\n",
        "    print(error.read().decode(\"utf8\", 'ignore'))"
      ],
      "outputs": [
        {
          "output_type": "stream",
          "name": "stdout",
          "text": "b'{\"Results\": [5]}'\n"
        }
      ],
      "execution_count": 26,
      "metadata": {
        "gather": {
          "logged": 1650651346822
        }
      }
    },
    {
      "cell_type": "markdown",
      "source": [
        "TODO: In the cell below, print the logs of the web service and delete the service"
      ],
      "metadata": {
        "collapsed": true,
        "gather": {
          "logged": 1598432765711
        },
        "jupyter": {
          "outputs_hidden": false,
          "source_hidden": false
        },
        "nteract": {
          "transient": {
            "deleting": false
          }
        }
      }
    },
    {
      "cell_type": "code",
      "source": [
        "print(web_service.get_logs())\n",
        "web_service.delete()\n",
        "model.delete()"
      ],
      "outputs": [],
      "execution_count": null,
      "metadata": {
        "jupyter": {
          "outputs_hidden": false,
          "source_hidden": false
        },
        "nteract": {
          "transient": {
            "deleting": false
          }
        }
      }
    },
    {
      "cell_type": "markdown",
      "source": [
        "**Submission Checklist**\n",
        "- I have registered the model.\n",
        "- I have deployed the model with the best accuracy as a webservice.\n",
        "- I have tested the webservice by sending a request to the model endpoint.\n",
        "- I have deleted the webservice and shutdown all the computes that I have used.\n",
        "- I have taken a screenshot showing the model endpoint as active.\n",
        "- The project includes a file containing the environment details.\n"
      ],
      "metadata": {}
    },
    {
      "cell_type": "markdown",
      "source": [],
      "metadata": {}
    }
  ],
  "metadata": {
    "kernel_info": {
      "name": "python3"
    },
    "kernelspec": {
      "name": "python3",
      "language": "python",
      "display_name": "Python 3"
    },
    "language_info": {
      "name": "python",
      "version": "3.8.5",
      "mimetype": "text/x-python",
      "codemirror_mode": {
        "name": "ipython",
        "version": 3
      },
      "pygments_lexer": "ipython3",
      "nbconvert_exporter": "python",
      "file_extension": ".py"
    },
    "microsoft": {
      "host": {
        "AzureML": {
          "notebookHasBeenCompleted": true
        }
      }
    },
    "nteract": {
      "version": "nteract-front-end@1.0.0"
    }
  },
  "nbformat": 4,
  "nbformat_minor": 2
}