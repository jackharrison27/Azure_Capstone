{
  "cells": [
    {
      "cell_type": "markdown",
      "source": [
        "# Automated ML\n",
        "\n",
        "TODO: Import Dependencies. In the cell below, import all the dependencies that you will need to complete the project."
      ],
      "metadata": {}
    },
    {
      "cell_type": "code",
      "source": [
        "import azureml.core\n",
        "from azureml.core import Experiment\n",
        "from azureml.core import Workspace\n",
        "\n",
        "from azureml.core.compute import AmlCompute\n",
        "from azureml.core.compute import ComputeTarget\n",
        "from azureml.core.compute_target import ComputeTargetException\n",
        "\n",
        "from azureml.core import Dataset\n",
        "\n",
        "from azureml.train.automl import AutoMLConfig\n",
        "\n",
        "from azureml.pipeline.core import PipelineData, TrainingOutput\n",
        "\n",
        "from azureml.widgets import RunDetails\n",
        "\n",
        "\n",
        "import os \n",
        "import joblib\n",
        "\n",
        "from azureml.core.model import InferenceConfig\n",
        "from azureml.core.model import Model\n",
        "from azureml.core.webservice import LocalWebservice\n"
      ],
      "outputs": [],
      "execution_count": 1,
      "metadata": {
        "gather": {
          "logged": 1649617962972
        },
        "jupyter": {
          "outputs_hidden": false,
          "source_hidden": false
        },
        "nteract": {
          "transient": {
            "deleting": false
          }
        }
      }
    },
    {
      "cell_type": "markdown",
      "source": [
        "## Dataset\n",
        "\n",
        "### Overview\n",
        "TODO: In this markdown cell, give an overview of the dataset you are using. Also mention the task you will be performing.\n",
        "\n",
        "\n",
        "TODO: Get data. In the cell below, write code to access the data you will be using in this project. Remember that the dataset needs to be external."
      ],
      "metadata": {}
    },
    {
      "cell_type": "code",
      "source": [
        "ws = Workspace.from_config()\n",
        "\n",
        "# choose a name for experiment\n",
        "experiment_name = 'wine_quality_automl'\n",
        "project_folder = './pipeline-project'\n",
        "\n",
        "experiment=Experiment(ws, experiment_name)\n",
        "\n",
        "dataset_name = 'wine_quality'\n",
        "dataset = Dataset.get_by_name(workspace=ws, name=dataset_name) "
      ],
      "outputs": [],
      "execution_count": 3,
      "metadata": {
        "gather": {
          "logged": 1649618060856
        },
        "jupyter": {
          "outputs_hidden": false,
          "source_hidden": false
        },
        "nteract": {
          "transient": {
            "deleting": false
          }
        }
      }
    },
    {
      "cell_type": "code",
      "source": [
        "# NOTE: update the cluster name to match the existing cluster\n",
        "# Choose a name for your CPU cluster\n",
        "amlcompute_cluster_name = \"auto-ml\"\n",
        "\n",
        "# Verify that cluster does not exist already\n",
        "try:\n",
        "    compute_target = ComputeTarget(workspace=ws, name=amlcompute_cluster_name)\n",
        "    print('Found existing cluster, use it.')\n",
        "except ComputeTargetException:\n",
        "    compute_config = AmlCompute.provisioning_configuration(vm_size='STANDARD_D2_V2',# for GPU, use \"STANDARD_NC6\"\n",
        "                                                           #vm_priority = 'lowpriority', # optional\n",
        "                                                           max_nodes=4)\n",
        "    compute_target = ComputeTarget.create(ws, amlcompute_cluster_name, compute_config)\n",
        "\n",
        "compute_target.wait_for_completion(show_output=True, min_node_count = 1, timeout_in_minutes = 2)"
      ],
      "outputs": [
        {
          "output_type": "stream",
          "name": "stdout",
          "text": "InProgress....\nSucceededProvisioning operation finished, operation \"Succeeded\"\nSucceeded........................\nAmlCompute wait for completion finished\n\nWait timeout has been reached\nCurrent provisioning state of AmlCompute is \"Succeeded\" and current node count is \"0\"\n"
        }
      ],
      "execution_count": 4,
      "metadata": {
        "gather": {
          "logged": 1649618208157
        },
        "jupyter": {
          "outputs_hidden": false,
          "source_hidden": false
        },
        "nteract": {
          "transient": {
            "deleting": false
          }
        }
      }
    },
    {
      "cell_type": "markdown",
      "source": [
        "## AutoML Configuration\n",
        "\n",
        "TODO: Explain why you chose the automl settings and cofiguration you used below."
      ],
      "metadata": {}
    },
    {
      "cell_type": "code",
      "source": [
        "# TODO: Put your automl settings here\n",
        "automl_settings = {\n",
        "    \"experiment_timeout_minutes\": 20,\n",
        "    \"max_concurrent_iterations\": 3,\n",
        "    \"primary_metric\" : 'accuracy'\n",
        "}\n",
        "\n",
        "# TODO: Put your automl config here\n",
        "automl_config = AutoMLConfig(\n",
        "    compute_target=compute_target,\n",
        "    task = \"classification\",\n",
        "    training_data=dataset,\n",
        "    label_column_name=\"quality\",   \n",
        "    path = project_folder,\n",
        "    enable_early_stopping= True,\n",
        "    featurization= 'auto',\n",
        "    debug_log = \"automl_errors.log\",\n",
        "    **automl_settings\n",
        ")"
      ],
      "outputs": [],
      "execution_count": 5,
      "metadata": {
        "gather": {
          "logged": 1649618368332
        },
        "jupyter": {
          "outputs_hidden": false,
          "source_hidden": false
        },
        "nteract": {
          "transient": {
            "deleting": false
          }
        }
      }
    },
    {
      "cell_type": "code",
      "source": [
        "# TODO: Submit your experiment\n",
        "remote_run = experiment.submit(automl_config)"
      ],
      "outputs": [
        {
          "output_type": "stream",
          "name": "stdout",
          "text": "Submitting remote run.\n"
        },
        {
          "output_type": "display_data",
          "data": {
            "text/plain": "<IPython.core.display.HTML object>",
            "text/html": "<table style=\"width:100%\"><tr><th>Experiment</th><th>Id</th><th>Type</th><th>Status</th><th>Details Page</th><th>Docs Page</th></tr><tr><td>wine_quality_automl</td><td>AutoML_ea5c29ce-16d5-4669-b123-1d11ec9d605c</td><td>automl</td><td>NotStarted</td><td><a href=\"https://ml.azure.com/runs/AutoML_ea5c29ce-16d5-4669-b123-1d11ec9d605c?wsid=/subscriptions/3e42d11f-d64d-4173-af9b-12ecaa1030b3/resourcegroups/aml-quickstarts-191624/workspaces/quick-starts-ws-191624&amp;tid=660b3398-b80e-49d2-bc5b-ac1dc93b5254\" target=\"_blank\" rel=\"noopener\">Link to Azure Machine Learning studio</a></td><td><a href=\"https://docs.microsoft.com/en-us/python/api/overview/azure/ml/intro?view=azure-ml-py\" target=\"_blank\" rel=\"noopener\">Link to Documentation</a></td></tr></table>"
          },
          "metadata": {}
        }
      ],
      "execution_count": 6,
      "metadata": {
        "gather": {
          "logged": 1649618382307
        },
        "jupyter": {
          "outputs_hidden": false,
          "source_hidden": false
        },
        "nteract": {
          "transient": {
            "deleting": false
          }
        }
      }
    },
    {
      "cell_type": "markdown",
      "source": [
        "## Run Details\n",
        "\n",
        "OPTIONAL: Write about the different models trained and their performance. Why do you think some models did better than others?\n",
        "\n",
        "TODO: In the cell below, use the `RunDetails` widget to show the different experiments."
      ],
      "metadata": {}
    },
    {
      "cell_type": "code",
      "source": [
        "RunDetails(remote_run).show()"
      ],
      "outputs": [
        {
          "output_type": "display_data",
          "data": {
            "text/plain": "_AutoMLWidget(widget_settings={'childWidgetDisplay': 'popup', 'send_telemetry': False, 'log_level': 'INFO', 's…",
            "application/vnd.jupyter.widget-view+json": {
              "version_major": 2,
              "version_minor": 0,
              "model_id": "6d96efe056364f38977f0dff27ce0229"
            }
          },
          "metadata": {}
        },
        {
          "output_type": "display_data",
          "data": {
            "application/aml.mini.widget.v1": "{\"status\": \"Running\", \"workbench_run_details_uri\": \"https://ml.azure.com/runs/AutoML_ea5c29ce-16d5-4669-b123-1d11ec9d605c?wsid=/subscriptions/3e42d11f-d64d-4173-af9b-12ecaa1030b3/resourcegroups/aml-quickstarts-191624/workspaces/quick-starts-ws-191624&tid=660b3398-b80e-49d2-bc5b-ac1dc93b5254\", \"run_id\": \"AutoML_ea5c29ce-16d5-4669-b123-1d11ec9d605c\", \"run_properties\": {\"run_id\": \"AutoML_ea5c29ce-16d5-4669-b123-1d11ec9d605c\", \"created_utc\": \"2022-04-10T19:19:41.213617Z\", \"properties\": {\"num_iterations\": \"1000\", \"training_type\": \"TrainFull\", \"acquisition_function\": \"EI\", \"primary_metric\": \"accuracy\", \"train_split\": \"0\", \"acquisition_parameter\": \"0\", \"num_cross_validation\": null, \"target\": \"auto-ml\", \"AMLSettingsJsonString\": \"{\\\"path\\\":null,\\\"name\\\":\\\"wine_quality_automl\\\",\\\"subscription_id\\\":\\\"3e42d11f-d64d-4173-af9b-12ecaa1030b3\\\",\\\"resource_group\\\":\\\"aml-quickstarts-191624\\\",\\\"workspace_name\\\":\\\"quick-starts-ws-191624\\\",\\\"region\\\":\\\"southcentralus\\\",\\\"compute_target\\\":\\\"auto-ml\\\",\\\"spark_service\\\":null,\\\"azure_service\\\":\\\"remote\\\",\\\"many_models\\\":false,\\\"pipeline_fetch_max_batch_size\\\":1,\\\"enable_batch_run\\\":true,\\\"enable_run_restructure\\\":false,\\\"start_auxiliary_runs_before_parent_complete\\\":false,\\\"enable_code_generation\\\":false,\\\"iterations\\\":1000,\\\"primary_metric\\\":\\\"accuracy\\\",\\\"task_type\\\":\\\"classification\\\",\\\"positive_label\\\":null,\\\"data_script\\\":null,\\\"test_size\\\":0.0,\\\"test_include_predictions_only\\\":false,\\\"validation_size\\\":0.0,\\\"n_cross_validations\\\":null,\\\"y_min\\\":null,\\\"y_max\\\":null,\\\"num_classes\\\":null,\\\"featurization\\\":\\\"auto\\\",\\\"_ignore_package_version_incompatibilities\\\":false,\\\"is_timeseries\\\":false,\\\"max_cores_per_iteration\\\":1,\\\"max_concurrent_iterations\\\":3,\\\"iteration_timeout_minutes\\\":null,\\\"mem_in_mb\\\":null,\\\"enforce_time_on_windows\\\":false,\\\"experiment_timeout_minutes\\\":20,\\\"experiment_exit_score\\\":null,\\\"partition_column_names\\\":null,\\\"whitelist_models\\\":null,\\\"blacklist_algos\\\":[\\\"TensorFlowLinearClassifier\\\",\\\"TensorFlowDNN\\\"],\\\"supported_models\\\":[\\\"KNN\\\",\\\"BernoulliNaiveBayes\\\",\\\"SGD\\\",\\\"LogisticRegression\\\",\\\"MultinomialNaiveBayes\\\",\\\"RandomForest\\\",\\\"ExtremeRandomTrees\\\",\\\"XGBoostClassifier\\\",\\\"LinearSVM\\\",\\\"AveragedPerceptronClassifier\\\",\\\"DecisionTree\\\",\\\"LightGBM\\\",\\\"SVM\\\",\\\"TensorFlowLinearClassifier\\\",\\\"GradientBoosting\\\",\\\"TensorFlowDNN\\\",\\\"TabnetClassifier\\\"],\\\"private_models\\\":[],\\\"auto_blacklist\\\":true,\\\"blacklist_samples_reached\\\":false,\\\"exclude_nan_labels\\\":true,\\\"verbosity\\\":20,\\\"_debug_log\\\":\\\"azureml_automl.log\\\",\\\"show_warnings\\\":false,\\\"model_explainability\\\":true,\\\"service_url\\\":null,\\\"sdk_url\\\":null,\\\"sdk_packages\\\":null,\\\"enable_onnx_compatible_models\\\":false,\\\"enable_split_onnx_featurizer_estimator_models\\\":false,\\\"vm_type\\\":\\\"STANDARD_D2_V2\\\",\\\"telemetry_verbosity\\\":20,\\\"send_telemetry\\\":true,\\\"enable_dnn\\\":false,\\\"scenario\\\":\\\"SDK-1.13.0\\\",\\\"environment_label\\\":null,\\\"save_mlflow\\\":false,\\\"enable_categorical_indicators\\\":false,\\\"force_text_dnn\\\":false,\\\"enable_feature_sweeping\\\":true,\\\"enable_early_stopping\\\":true,\\\"early_stopping_n_iters\\\":10,\\\"arguments\\\":null,\\\"dataset_id\\\":\\\"6e3213f4-eca0-4589-9f1d-07f38883a2c0\\\",\\\"hyperdrive_config\\\":null,\\\"validation_dataset_id\\\":null,\\\"run_source\\\":null,\\\"metrics\\\":null,\\\"enable_metric_confidence\\\":false,\\\"enable_ensembling\\\":true,\\\"enable_stack_ensembling\\\":true,\\\"ensemble_iterations\\\":15,\\\"enable_tf\\\":false,\\\"enable_subsampling\\\":null,\\\"subsample_seed\\\":null,\\\"enable_nimbusml\\\":false,\\\"enable_streaming\\\":false,\\\"force_streaming\\\":false,\\\"track_child_runs\\\":true,\\\"allowed_private_models\\\":[],\\\"label_column_name\\\":\\\"quality\\\",\\\"weight_column_name\\\":null,\\\"cv_split_column_names\\\":null,\\\"enable_local_managed\\\":false,\\\"_local_managed_run_id\\\":null,\\\"cost_mode\\\":1,\\\"lag_length\\\":0,\\\"metric_operation\\\":\\\"maximize\\\",\\\"preprocess\\\":true}\", \"DataPrepJsonString\": \"{\\\\\\\"training_data\\\\\\\": {\\\\\\\"datasetId\\\\\\\": \\\\\\\"6e3213f4-eca0-4589-9f1d-07f38883a2c0\\\\\\\"}, \\\\\\\"datasets\\\\\\\": 0}\", \"EnableSubsampling\": null, \"runTemplate\": \"AutoML\", \"azureml.runsource\": \"automl\", \"display_task_type\": \"classification\", \"dependencies_versions\": \"{\\\"azureml-widgets\\\": \\\"1.39.0\\\", \\\"azureml-training-tabular\\\": \\\"1.39.0\\\", \\\"azureml-train\\\": \\\"1.39.0\\\", \\\"azureml-train-restclients-hyperdrive\\\": \\\"1.39.0\\\", \\\"azureml-train-core\\\": \\\"1.39.0\\\", \\\"azureml-train-automl\\\": \\\"1.39.0\\\", \\\"azureml-train-automl-runtime\\\": \\\"1.39.0\\\", \\\"azureml-train-automl-client\\\": \\\"1.39.0\\\", \\\"azureml-tensorboard\\\": \\\"1.39.0\\\", \\\"azureml-telemetry\\\": \\\"1.39.0\\\", \\\"azureml-sdk\\\": \\\"1.39.0\\\", \\\"azureml-samples\\\": \\\"0+unknown\\\", \\\"azureml-responsibleai\\\": \\\"1.39.0\\\", \\\"azureml-pipeline\\\": \\\"1.39.0\\\", \\\"azureml-pipeline-steps\\\": \\\"1.39.0\\\", \\\"azureml-pipeline-core\\\": \\\"1.39.0\\\", \\\"azureml-opendatasets\\\": \\\"1.39.0\\\", \\\"azureml-mlflow\\\": \\\"1.39.0\\\", \\\"azureml-interpret\\\": \\\"1.39.0\\\", \\\"azureml-inference-server-http\\\": \\\"0.4.10\\\", \\\"azureml-explain-model\\\": \\\"1.39.0\\\", \\\"azureml-defaults\\\": \\\"1.39.0\\\", \\\"azureml-dataset-runtime\\\": \\\"1.39.0\\\", \\\"azureml-dataprep\\\": \\\"2.27.1\\\", \\\"azureml-dataprep-rslex\\\": \\\"2.3.1\\\", \\\"azureml-dataprep-native\\\": \\\"38.0.0\\\", \\\"azureml-datadrift\\\": \\\"1.39.0\\\", \\\"azureml-core\\\": \\\"1.39.0\\\", \\\"azureml-contrib-services\\\": \\\"1.39.0\\\", \\\"azureml-contrib-server\\\": \\\"1.39.0\\\", \\\"azureml-contrib-reinforcementlearning\\\": \\\"1.39.0\\\", \\\"azureml-contrib-pipeline-steps\\\": \\\"1.39.0\\\", \\\"azureml-contrib-notebook\\\": \\\"1.39.0\\\", \\\"azureml-contrib-fairness\\\": \\\"1.39.0\\\", \\\"azureml-contrib-dataset\\\": \\\"1.39.0\\\", \\\"azureml-contrib-automl-pipeline-steps\\\": \\\"1.39.0\\\", \\\"azureml-cli-common\\\": \\\"1.39.0\\\", \\\"azureml-automl-runtime\\\": \\\"1.39.0\\\", \\\"azureml-automl-dnn-nlp\\\": \\\"1.39.0\\\", \\\"azureml-automl-core\\\": \\\"1.39.0\\\", \\\"azureml-accel-models\\\": \\\"1.39.0\\\"}\", \"_aml_system_scenario_identification\": \"Remote.Parent\", \"ClientType\": \"SDK\", \"environment_cpu_name\": \"AzureML-AutoML\", \"environment_cpu_label\": \"prod\", \"environment_gpu_name\": \"AzureML-AutoML-GPU\", \"environment_gpu_label\": \"prod\", \"root_attribution\": \"automl\", \"attribution\": \"AutoML\", \"Orchestrator\": \"AutoML\", \"CancelUri\": \"https://southcentralus.api.azureml.ms/jasmine/v1.0/subscriptions/3e42d11f-d64d-4173-af9b-12ecaa1030b3/resourceGroups/aml-quickstarts-191624/providers/Microsoft.MachineLearningServices/workspaces/quick-starts-ws-191624/experimentids/52d08173-e3cc-4efd-95cb-1d21cc0ee9e0/cancel/AutoML_ea5c29ce-16d5-4669-b123-1d11ec9d605c\", \"ClientSdkVersion\": \"1.39.1\", \"snapshotId\": \"00000000-0000-0000-0000-000000000000\", \"SetupRunId\": \"AutoML_ea5c29ce-16d5-4669-b123-1d11ec9d605c_setup\", \"SetupRunContainerId\": \"dcid.AutoML_ea5c29ce-16d5-4669-b123-1d11ec9d605c_setup\", \"FeaturizationRunJsonPath\": \"featurizer_container.json\", \"FeaturizationRunId\": \"AutoML_ea5c29ce-16d5-4669-b123-1d11ec9d605c_featurize\", \"ProblemInfoJsonString\": \"{\\\"dataset_num_categorical\\\": 0, \\\"is_sparse\\\": false, \\\"subsampling\\\": false, \\\"has_extra_col\\\": true, \\\"dataset_classes\\\": 6, \\\"dataset_features\\\": 11, \\\"dataset_samples\\\": 1599, \\\"single_frequency_class_detected\\\": false}\"}, \"tags\": {\"model_explain_run\": \"best_run\", \"_aml_system_automl_run_workspace_id\": \"d747b2e0-af90-4f5b-832e-81c78fb8392e\", \"_aml_system_azureml.automlComponent\": \"AutoML\", \"pipeline_id\": \"<5dfac790c5c209f98a1da2dc1c7fb76f0397324f>;<c7af0367625be6ac5c2fecbfc72ed444cb7a2111>;<799d2168db11fc19b9e1c6c1df62f8981ad39fe9>;<44b5d2d23120dfcf96a7dc6389a293d17a966b1b>;<628c2351f7c75d74ad3673f2d39af16d6976da2e>;<3735210984ea10097d5c91905cf6300ac278cd89>;<2964988f7520e6167bfe42ba2c42ab4a75f8a68c>;<5304e705d6f401cb07f85bcf0ca59ac1f84dfcf5>;<5f21d4801ee2a6073890b89985177d37ef49c646>;<081b692de9e87424d86c2c1d0787b65e098fc386>;<294650ec23bc3d067a4972de7ceb12f6e97260fa>;<08e13545f5f7e2df5ef6a66d4110cfd996b1a0e3>;<22bffc6cdfb453aa19b0792ec8a8b592bd44dc5b>;<bc4e14e9481990f09b66c70640f3b1c528f584ac>;<ce96746d6f86360fe360023f5ae43340d1986145>;<7b422e7b3f86902c2409d5b5d9ff0c84d5dacfee>;<ca211529127bb19e1fc933b24b457a03beb5e48e>;<3caa818370e5e0c328d6266c359019bd31681270>;<589334a57221e0720a95cf217c065115a7b841d1>;<35b8e2db3c5f6e714072e1be9f0210fe48426975>;<3fd2e115482e0c7b92aa3297688aefb6c3aa6fb8>;<1dfdf370ba770047b14bfa59c40920815defcdab>;\", \"score\": \"<0.6679174484052531>;<0.6666666666666666>;<0.3883677298311445>;<0.557848655409631>;<0.5934959349593495>;<0.6291432145090682>;<0.425891181988743>;<0.6328955597248279>;<0.6128830519074421>;<0.6278924327704817>;<0.6622889305816134>;<0.35522201375859913>;<0.5866166353971232>;<0.6791744840525329>;<0.6447779862414008>;<0.6372732958098811>;<0.6035021888680424>;<0.5847404627892433>;<0.6466541588492808>;<0.6441525953721076>;<0.6191369606003753>;<0.5121951219512195>;\", \"predicted_cost\": \"<0>;<0>;<0.5>;<0.5>;<0.5>;<0.5>;<0.5>;<0.5>;<0.5>;<0.5>;<0.5>;<0.5>;<0.5>;<0.5>;<0.5>;<0.5>;<0.5>;<0.5>;<0.5>;<0.5>;<0.07492560418667181>;<0.24885245076637025>;\", \"fit_time\": \"<0.5220663333333334>;<0.7666533333333333>;<0.212099>;<0.114485>;<0.010823333333333332>;<0.043536>;<0.09678466666666667>;<0.030048666666666668>;<0.009182000000000001>;<0.4529013333333333>;<0.09604233333333334>;<0.39600799999999997>;<0.090983>;<0.027887666666666668>;<0.02471>;<0.02299166666666667>;<0.010047666666666665>;<0.08484966666666667>;<0.06540000000000001>;<0.073093>;<0.11629166666666668>;<0.413983>;\", \"training_percent\": \"<100>;<100>;<100>;<100>;<100>;<100>;<100>;<100>;<100>;<100>;<100>;<100>;<100>;<100>;<100>;<100>;<100>;<100>;<100>;<100>;<100>;<100>;\", \"iteration\": \"<0>;<1>;<2>;<3>;<4>;<5>;<6>;<7>;<8>;<9>;<10>;<11>;<12>;<13>;<14>;<15>;<16>;<17>;<18>;<19>;<21>;<22>;\", \"run_preprocessor\": \"<MaxAbsScaler>;<MaxAbsScaler>;<MaxAbsScaler>;<SparseNormalizer>;<StandardScalerWrapper>;<MaxAbsScaler>;<RobustScaler>;<MaxAbsScaler>;<StandardScalerWrapper>;<StandardScalerWrapper>;<StandardScalerWrapper>;<MinMaxScaler>;<StandardScalerWrapper>;<StandardScalerWrapper>;<RobustScaler>;<MinMaxScaler>;<SparseNormalizer>;<MaxAbsScaler>;<StandardScalerWrapper>;<StandardScalerWrapper>;<StandardScalerWrapper>;<SparseNormalizer>;\", \"run_algorithm\": \"<LightGBM>;<XGBoostClassifier>;<ExtremeRandomTrees>;<XGBoostClassifier>;<KNN>;<LightGBM>;<LogisticRegression>;<LightGBM>;<KNN>;<SVM>;<XGBoostClassifier>;<RandomForest>;<LogisticRegression>;<KNN>;<KNN>;<KNN>;<KNN>;<LogisticRegression>;<XGBoostClassifier>;<XGBoostClassifier>;<XGBoostClassifier>;<RandomForest>;\"}, \"end_time_utc\": null, \"status\": \"Running\", \"log_files\": {}, \"log_groups\": [], \"run_duration\": \"0:12:29\", \"run_number\": \"1649618381\", \"run_queued_details\": {\"status\": \"Running\", \"details\": null}}, \"child_runs\": [{\"run_id\": \"AutoML_ea5c29ce-16d5-4669-b123-1d11ec9d605c_setup\", \"run_number\": 1649618393, \"metric\": null, \"status\": \"Completed\", \"run_type\": \"azureml.scriptrun\", \"training_percent\": null, \"start_time\": \"2022-04-10T19:23:58.36312Z\", \"end_time\": \"2022-04-10T19:24:05.098387Z\", \"created_time\": \"2022-04-10T19:19:53.724651Z\", \"created_time_dt\": \"2022-04-10T19:19:53.724651Z\", \"duration\": \"0:04:11\", \"iteration\": null, \"goal\": null, \"run_name\": \"Completed\", \"run_properties\": null}, {\"run_id\": \"AutoML_ea5c29ce-16d5-4669-b123-1d11ec9d605c_featurize\", \"run_number\": 1649618645, \"metric\": null, \"status\": \"Completed\", \"run_type\": \"automl.featurization\", \"training_percent\": null, \"start_time\": \"2022-04-10T19:24:05.747249Z\", \"end_time\": \"2022-04-10T19:24:47.367639Z\", \"created_time\": \"2022-04-10T19:24:05.397926Z\", \"created_time_dt\": \"2022-04-10T19:24:05.397926Z\", \"duration\": \"0:00:41\", \"iteration\": null, \"goal\": null, \"run_name\": \"Completed\", \"run_properties\": null}, {\"run_id\": \"AutoML_ea5c29ce-16d5-4669-b123-1d11ec9d605c_0\", \"run_number\": 1649618688, \"metric\": null, \"status\": \"Completed\", \"run_type\": null, \"training_percent\": \"100\", \"start_time\": \"2022-04-10T19:25:04.606232Z\", \"end_time\": \"2022-04-10T19:25:22.186644Z\", \"created_time\": \"2022-04-10T19:24:48.627587Z\", \"created_time_dt\": \"2022-04-10T19:24:48.627587Z\", \"duration\": \"0:00:33\", \"iteration\": \"0\", \"goal\": \"accuracy_max\", \"run_name\": \"MaxAbsScaler, LightGBM\", \"run_properties\": \"copy=True\", \"primary_metric\": 0.66791745, \"best_metric\": 0.66791745}, {\"run_id\": \"AutoML_ea5c29ce-16d5-4669-b123-1d11ec9d605c_1\", \"run_number\": 1649618689, \"metric\": null, \"status\": \"Completed\", \"run_type\": null, \"training_percent\": \"100\", \"start_time\": \"2022-04-10T19:25:22.397428Z\", \"end_time\": \"2022-04-10T19:25:41.172406Z\", \"created_time\": \"2022-04-10T19:24:49.047518Z\", \"created_time_dt\": \"2022-04-10T19:24:49.047518Z\", \"duration\": \"0:00:52\", \"iteration\": \"1\", \"goal\": \"accuracy_max\", \"run_name\": \"MaxAbsScaler, XGBoostClassifier\", \"run_properties\": \"copy=True\", \"primary_metric\": 0.66666667, \"best_metric\": 0.66791745}, {\"run_id\": \"AutoML_ea5c29ce-16d5-4669-b123-1d11ec9d605c_4\", \"run_number\": 1649618690, \"metric\": null, \"status\": \"Completed\", \"run_type\": null, \"training_percent\": \"100\", \"start_time\": \"2022-04-10T19:26:13.163046Z\", \"end_time\": \"2022-04-10T19:26:28.476765Z\", \"created_time\": \"2022-04-10T19:24:50.369767Z\", \"created_time_dt\": \"2022-04-10T19:24:50.369767Z\", \"duration\": \"0:01:38\", \"iteration\": \"4\", \"goal\": \"accuracy_max\", \"run_name\": \"StandardScalerWrapper, KNN\", \"run_properties\": \"copy=True, with_mean=False, with_std=False\", \"primary_metric\": 0.59349593, \"best_metric\": 0.66791745}, {\"run_id\": \"AutoML_ea5c29ce-16d5-4669-b123-1d11ec9d605c_6\", \"run_number\": 1649618691, \"metric\": null, \"status\": \"Completed\", \"run_type\": null, \"training_percent\": \"100\", \"start_time\": \"2022-04-10T19:26:44.023325Z\", \"end_time\": \"2022-04-10T19:26:59.343537Z\", \"created_time\": \"2022-04-10T19:24:51.22618Z\", \"created_time_dt\": \"2022-04-10T19:24:51.22618Z\", \"duration\": \"0:02:08\", \"iteration\": \"6\", \"goal\": \"accuracy_max\", \"run_name\": \"RobustScaler, LogisticRegression\", \"run_properties\": \"copy=True, quantile_range=[10, 90], with_centering=True,\\n             with_scaling=True\", \"primary_metric\": 0.42589118, \"best_metric\": 0.66791745}, {\"run_id\": \"AutoML_ea5c29ce-16d5-4669-b123-1d11ec9d605c_8\", \"run_number\": 1649618692, \"metric\": null, \"status\": \"Completed\", \"run_type\": null, \"training_percent\": \"100\", \"start_time\": \"2022-04-10T19:27:37.218881Z\", \"end_time\": \"2022-04-10T19:27:52.092388Z\", \"created_time\": \"2022-04-10T19:24:52.168875Z\", \"created_time_dt\": \"2022-04-10T19:24:52.168875Z\", \"duration\": \"0:02:59\", \"iteration\": \"8\", \"goal\": \"accuracy_max\", \"run_name\": \"StandardScalerWrapper, KNN\", \"run_properties\": \"copy=True, with_mean=False, with_std=False\", \"primary_metric\": 0.61288305, \"best_metric\": 0.66791745}, {\"run_id\": \"AutoML_ea5c29ce-16d5-4669-b123-1d11ec9d605c_10\", \"run_number\": 1649618693, \"metric\": null, \"status\": \"Completed\", \"run_type\": null, \"training_percent\": \"100\", \"start_time\": \"2022-04-10T19:28:09.712187Z\", \"end_time\": \"2022-04-10T19:28:24.773714Z\", \"created_time\": \"2022-04-10T19:24:53.099314Z\", \"created_time_dt\": \"2022-04-10T19:24:53.099314Z\", \"duration\": \"0:03:31\", \"iteration\": \"10\", \"goal\": \"accuracy_max\", \"run_name\": \"StandardScalerWrapper, XGBoostClassifier\", \"run_properties\": \"copy=True, with_mean=False, with_std=False\", \"primary_metric\": 0.66228893, \"best_metric\": 0.66791745}, {\"run_id\": \"AutoML_ea5c29ce-16d5-4669-b123-1d11ec9d605c_13\", \"run_number\": 1649618694, \"metric\": null, \"status\": \"Completed\", \"run_type\": null, \"training_percent\": \"100\", \"start_time\": \"2022-04-10T19:28:57.288078Z\", \"end_time\": \"2022-04-10T19:29:12.439901Z\", \"created_time\": \"2022-04-10T19:24:54.387801Z\", \"created_time_dt\": \"2022-04-10T19:24:54.387801Z\", \"duration\": \"0:04:18\", \"iteration\": \"13\", \"goal\": \"accuracy_max\", \"run_name\": \"StandardScalerWrapper, KNN\", \"run_properties\": \"copy=True, with_mean=False, with_std=True\", \"primary_metric\": 0.67917448, \"best_metric\": 0.67917448}, {\"run_id\": \"AutoML_ea5c29ce-16d5-4669-b123-1d11ec9d605c_15\", \"run_number\": 1649618695, \"metric\": null, \"status\": \"Completed\", \"run_type\": null, \"training_percent\": \"100\", \"start_time\": \"2022-04-10T19:29:47.532589Z\", \"end_time\": \"2022-04-10T19:30:02.438814Z\", \"created_time\": \"2022-04-10T19:24:55.348687Z\", \"created_time_dt\": \"2022-04-10T19:24:55.348687Z\", \"duration\": \"0:05:07\", \"iteration\": \"15\", \"goal\": \"accuracy_max\", \"run_name\": \"MinMaxScaler, KNN\", \"run_properties\": \"copy=True, feature_range=(0, 1\", \"primary_metric\": 0.6372733, \"best_metric\": 0.67917448}, {\"run_id\": \"AutoML_ea5c29ce-16d5-4669-b123-1d11ec9d605c_17\", \"run_number\": 1649618696, \"metric\": null, \"status\": \"Completed\", \"run_type\": null, \"training_percent\": \"100\", \"start_time\": \"2022-04-10T19:30:17.571273Z\", \"end_time\": \"2022-04-10T19:30:32.721234Z\", \"created_time\": \"2022-04-10T19:24:56.211527Z\", \"created_time_dt\": \"2022-04-10T19:24:56.211527Z\", \"duration\": \"0:05:36\", \"iteration\": \"17\", \"goal\": \"accuracy_max\", \"run_name\": \"MaxAbsScaler, LogisticRegression\", \"run_properties\": \"copy=True\", \"primary_metric\": 0.58474046, \"best_metric\": 0.67917448}, {\"run_id\": \"AutoML_ea5c29ce-16d5-4669-b123-1d11ec9d605c_worker_2\", \"run_number\": 1649618697, \"metric\": null, \"status\": \"Completed\", \"run_type\": \"azureml.scriptrun\", \"training_percent\": null, \"start_time\": \"2022-04-10T19:27:59.687098Z\", \"end_time\": \"2022-04-10T19:31:09.43089Z\", \"created_time\": \"2022-04-10T19:24:57.386337Z\", \"created_time_dt\": \"2022-04-10T19:24:57.386337Z\", \"duration\": \"0:06:12\", \"iteration\": null, \"goal\": null, \"run_name\": \"Completed\", \"run_properties\": null}, {\"run_id\": \"AutoML_ea5c29ce-16d5-4669-b123-1d11ec9d605c_20\", \"run_number\": 1649619035, \"metric\": null, \"status\": \"Queued\", \"run_type\": \"azureml.scriptrun\", \"training_percent\": \"100\", \"start_time\": \"\", \"end_time\": \"\", \"created_time\": \"2022-04-10T19:30:35.229336Z\", \"created_time_dt\": \"2022-04-10T19:30:35.229336Z\", \"duration\": \"0:01:35\", \"iteration\": \"20\", \"goal\": null, \"run_name\": \"Queued\", \"run_properties\": null}, {\"run_id\": \"AutoML_ea5c29ce-16d5-4669-b123-1d11ec9d605c_23\", \"run_number\": 1649619079, \"metric\": null, \"status\": \"Queued\", \"run_type\": \"azureml.scriptrun\", \"training_percent\": \"100\", \"start_time\": \"\", \"end_time\": \"\", \"created_time\": \"2022-04-10T19:31:19.315379Z\", \"created_time_dt\": \"2022-04-10T19:31:19.315379Z\", \"duration\": \"0:00:51\", \"iteration\": \"23\", \"goal\": null, \"run_name\": \"Queued\", \"run_properties\": null}, {\"run_id\": \"AutoML_ea5c29ce-16d5-4669-b123-1d11ec9d605c_24\", \"run_number\": 1649619115, \"metric\": null, \"status\": \"Queued\", \"run_type\": \"azureml.scriptrun\", \"training_percent\": \"100\", \"start_time\": \"\", \"end_time\": \"\", \"created_time\": \"2022-04-10T19:31:55.914725Z\", \"created_time_dt\": \"2022-04-10T19:31:55.914725Z\", \"duration\": \"0:00:15\", \"iteration\": \"24\", \"goal\": null, \"run_name\": \"Queued\", \"run_properties\": null}], \"children_metrics\": {\"categories\": [0], \"series\": {\"accuracy\": [{\"categories\": [\"0\", \"1\", \"4\", \"6\", \"8\", \"10\", \"13\", \"15\", \"17\"], \"mode\": \"markers\", \"name\": \"accuracy\", \"stepped\": false, \"type\": \"scatter\", \"data\": [0.6679174484052531, 0.6666666666666666, 0.5934959349593495, 0.425891181988743, 0.6128830519074421, 0.6622889305816134, 0.6791744840525329, 0.6372732958098811, 0.5847404627892433]}, {\"categories\": [\"0\", \"1\", \"4\", \"6\", \"8\", \"10\", \"13\", \"15\", \"17\"], \"mode\": \"lines\", \"name\": \"accuracy_max\", \"stepped\": true, \"type\": \"scatter\", \"data\": [0.6679174484052531, 0.6679174484052531, 0.6679174484052531, 0.6679174484052531, 0.6679174484052531, 0.6679174484052531, 0.6791744840525329, 0.6791744840525329, 0.6791744840525329]}], \"AUC_micro\": [{\"categories\": [\"0\", \"1\", \"4\", \"6\", \"8\", \"10\", \"13\", \"15\", \"17\"], \"mode\": \"markers\", \"name\": \"AUC_micro\", \"stepped\": false, \"type\": \"scatter\", \"data\": [0.9259945533500651, 0.9237060686381146, 0.8674488159227097, 0.8126120100860411, 0.8929804861622003, 0.9157273483544475, 0.9332661008815313, 0.8980489682223998, 0.8987749144340916]}, {\"categories\": [\"0\", \"1\", \"4\", \"6\", \"8\", \"10\", \"13\", \"15\", \"17\"], \"mode\": \"lines\", \"name\": \"AUC_micro_max\", \"stepped\": true, \"type\": \"scatter\", \"data\": [0.9259945533500651, 0.9259945533500651, 0.9259945533500651, 0.9259945533500651, 0.9259945533500651, 0.9259945533500651, 0.9332661008815313, 0.9332661008815313, 0.9332661008815313]}], \"average_precision_score_weighted\": [{\"categories\": [\"0\", \"1\", \"4\", \"6\", \"8\", \"10\", \"13\", \"15\", \"17\"], \"mode\": \"markers\", \"name\": \"average_precision_score_weighted\", \"stepped\": false, \"type\": \"scatter\", \"data\": [0.699409270207783, 0.7036667836030285, 0.6278699351070222, 0.5669026658260988, 0.6885644723802619, 0.6861193113018192, 0.7542684597674244, 0.683204052663259, 0.5867843715249645]}, {\"categories\": [\"0\", \"1\", \"4\", \"6\", \"8\", \"10\", \"13\", \"15\", \"17\"], \"mode\": \"lines\", \"name\": \"average_precision_score_weighted_max\", \"stepped\": true, \"type\": \"scatter\", \"data\": [0.699409270207783, 0.7036667836030285, 0.7036667836030285, 0.7036667836030285, 0.7036667836030285, 0.7036667836030285, 0.7542684597674244, 0.7542684597674244, 0.7542684597674244]}], \"log_loss\": [{\"categories\": [\"0\", \"1\", \"4\", \"6\", \"8\", \"10\", \"13\", \"15\", \"17\"], \"mode\": \"markers\", \"name\": \"log_loss\", \"stepped\": false, \"type\": \"scatter\", \"data\": [1.2193272637953079, 1.0802745271059744, 4.876730975594648, 1.39643036239639, 3.1299979831877107, 0.9296727347266778, 1.271456747193235, 3.520182696732864, 0.9867943118397106]}, {\"categories\": [\"0\", \"1\", \"4\", \"6\", \"8\", \"10\", \"13\", \"15\", \"17\"], \"mode\": \"lines\", \"name\": \"log_loss_min\", \"stepped\": true, \"type\": \"scatter\", \"data\": [1.2193272637953079, 1.0802745271059744, 1.0802745271059744, 1.0802745271059744, 1.0802745271059744, 0.9296727347266778, 0.9296727347266778, 0.9296727347266778, 0.9296727347266778]}], \"recall_score_micro\": [{\"categories\": [\"0\", \"1\", \"4\", \"6\", \"8\", \"10\", \"13\", \"15\", \"17\"], \"mode\": \"markers\", \"name\": \"recall_score_micro\", \"stepped\": false, \"type\": \"scatter\", \"data\": [0.6679174484052531, 0.6666666666666666, 0.5934959349593495, 0.425891181988743, 0.6128830519074421, 0.6622889305816134, 0.6791744840525329, 0.6372732958098811, 0.5847404627892433]}, {\"categories\": [\"0\", \"1\", \"4\", \"6\", \"8\", \"10\", \"13\", \"15\", \"17\"], \"mode\": \"lines\", \"name\": \"recall_score_micro_max\", \"stepped\": true, \"type\": \"scatter\", \"data\": [0.6679174484052531, 0.6679174484052531, 0.6679174484052531, 0.6679174484052531, 0.6679174484052531, 0.6679174484052531, 0.6791744840525329, 0.6791744840525329, 0.6791744840525329]}], \"balanced_accuracy\": [{\"categories\": [\"0\", \"1\", \"4\", \"6\", \"8\", \"10\", \"13\", \"15\", \"17\"], \"mode\": \"markers\", \"name\": \"balanced_accuracy\", \"stepped\": false, \"type\": \"scatter\", \"data\": [0.36353395189218946, 0.3718458871140422, 0.3144284973119631, 0.43995777870213076, 0.3210522213316282, 0.3346346199934352, 0.3481189405823661, 0.3415649567055245, 0.2426891930519404]}, {\"categories\": [\"0\", \"1\", \"4\", \"6\", \"8\", \"10\", \"13\", \"15\", \"17\"], \"mode\": \"lines\", \"name\": \"balanced_accuracy_max\", \"stepped\": true, \"type\": \"scatter\", \"data\": [0.36353395189218946, 0.3718458871140422, 0.3718458871140422, 0.43995777870213076, 0.43995777870213076, 0.43995777870213076, 0.43995777870213076, 0.43995777870213076, 0.43995777870213076]}], \"precision_score_micro\": [{\"categories\": [\"0\", \"1\", \"4\", \"6\", \"8\", \"10\", \"13\", \"15\", \"17\"], \"mode\": \"markers\", \"name\": \"precision_score_micro\", \"stepped\": false, \"type\": \"scatter\", \"data\": [0.6679174484052531, 0.6666666666666666, 0.5934959349593495, 0.425891181988743, 0.6128830519074421, 0.6622889305816134, 0.6791744840525329, 0.6372732958098811, 0.5847404627892433]}, {\"categories\": [\"0\", \"1\", \"4\", \"6\", \"8\", \"10\", \"13\", \"15\", \"17\"], \"mode\": \"lines\", \"name\": \"precision_score_micro_max\", \"stepped\": true, \"type\": \"scatter\", \"data\": [0.6679174484052531, 0.6679174484052531, 0.6679174484052531, 0.6679174484052531, 0.6679174484052531, 0.6679174484052531, 0.6791744840525329, 0.6791744840525329, 0.6791744840525329]}], \"precision_score_weighted\": [{\"categories\": [\"0\", \"1\", \"4\", \"6\", \"8\", \"10\", \"13\", \"15\", \"17\"], \"mode\": \"markers\", \"name\": \"precision_score_weighted\", \"stepped\": false, \"type\": \"scatter\", \"data\": [0.6471114227652999, 0.6465977108142359, 0.5761982853611675, 0.5748300786921233, 0.5949386244561796, 0.6355630832478992, 0.6536127077820266, 0.621305312036538, 0.5360696915289185]}, {\"categories\": [\"0\", \"1\", \"4\", \"6\", \"8\", \"10\", \"13\", \"15\", \"17\"], \"mode\": \"lines\", \"name\": \"precision_score_weighted_max\", \"stepped\": true, \"type\": \"scatter\", \"data\": [0.6471114227652999, 0.6471114227652999, 0.6471114227652999, 0.6471114227652999, 0.6471114227652999, 0.6471114227652999, 0.6536127077820266, 0.6536127077820266, 0.6536127077820266]}], \"recall_score_weighted\": [{\"categories\": [\"0\", \"1\", \"4\", \"6\", \"8\", \"10\", \"13\", \"15\", \"17\"], \"mode\": \"markers\", \"name\": \"recall_score_weighted\", \"stepped\": false, \"type\": \"scatter\", \"data\": [0.6679174484052531, 0.6666666666666666, 0.5934959349593495, 0.425891181988743, 0.6128830519074421, 0.6622889305816134, 0.6791744840525329, 0.6372732958098811, 0.5847404627892433]}, {\"categories\": [\"0\", \"1\", \"4\", \"6\", \"8\", \"10\", \"13\", \"15\", \"17\"], \"mode\": \"lines\", \"name\": \"recall_score_weighted_max\", \"stepped\": true, \"type\": \"scatter\", \"data\": [0.6679174484052531, 0.6679174484052531, 0.6679174484052531, 0.6679174484052531, 0.6679174484052531, 0.6679174484052531, 0.6791744840525329, 0.6791744840525329, 0.6791744840525329]}], \"matthews_correlation\": [{\"categories\": [\"0\", \"1\", \"4\", \"6\", \"8\", \"10\", \"13\", \"15\", \"17\"], \"mode\": \"markers\", \"name\": \"matthews_correlation\", \"stepped\": false, \"type\": \"scatter\", \"data\": [0.46602247059661156, 0.46652290430112925, 0.35086048309457335, 0.2473098441546159, 0.3776350118847414, 0.4530370178271527, 0.48131767587371344, 0.4233366634092958, 0.3086608315776767]}, {\"categories\": [\"0\", \"1\", \"4\", \"6\", \"8\", \"10\", \"13\", \"15\", \"17\"], \"mode\": \"lines\", \"name\": \"matthews_correlation_max\", \"stepped\": true, \"type\": \"scatter\", \"data\": [0.46602247059661156, 0.46652290430112925, 0.46652290430112925, 0.46652290430112925, 0.46652290430112925, 0.46652290430112925, 0.48131767587371344, 0.48131767587371344, 0.48131767587371344]}], \"precision_score_macro\": [{\"categories\": [\"0\", \"1\", \"4\", \"6\", \"8\", \"10\", \"13\", \"15\", \"17\"], \"mode\": \"markers\", \"name\": \"precision_score_macro\", \"stepped\": false, \"type\": \"scatter\", \"data\": [0.4302844661434928, 0.4285185280129829, 0.37623983784848886, 0.3023057767792577, 0.41726165907390333, 0.36860364362653747, 0.44746325320837793, 0.4114295016068279, 0.2621094976156885]}, {\"categories\": [\"0\", \"1\", \"4\", \"6\", \"8\", \"10\", \"13\", \"15\", \"17\"], \"mode\": \"lines\", \"name\": \"precision_score_macro_max\", \"stepped\": true, \"type\": \"scatter\", \"data\": [0.4302844661434928, 0.4302844661434928, 0.4302844661434928, 0.4302844661434928, 0.4302844661434928, 0.4302844661434928, 0.44746325320837793, 0.44746325320837793, 0.44746325320837793]}], \"f1_score_weighted\": [{\"categories\": [\"0\", \"1\", \"4\", \"6\", \"8\", \"10\", \"13\", \"15\", \"17\"], \"mode\": \"markers\", \"name\": \"f1_score_weighted\", \"stepped\": false, \"type\": \"scatter\", \"data\": [0.6543558094928968, 0.6542525104691538, 0.580658564032746, 0.4715374662464507, 0.5973241724236288, 0.6448925372337063, 0.660384236846295, 0.6261420812461034, 0.5399877702429152]}, {\"categories\": [\"0\", \"1\", \"4\", \"6\", \"8\", \"10\", \"13\", \"15\", \"17\"], \"mode\": \"lines\", \"name\": \"f1_score_weighted_max\", \"stepped\": true, \"type\": \"scatter\", \"data\": [0.6543558094928968, 0.6543558094928968, 0.6543558094928968, 0.6543558094928968, 0.6543558094928968, 0.6543558094928968, 0.660384236846295, 0.660384236846295, 0.660384236846295]}], \"recall_score_macro\": [{\"categories\": [\"0\", \"1\", \"4\", \"6\", \"8\", \"10\", \"13\", \"15\", \"17\"], \"mode\": \"markers\", \"name\": \"recall_score_macro\", \"stepped\": false, \"type\": \"scatter\", \"data\": [0.36353395189218946, 0.3718458871140422, 0.3144284973119631, 0.43995777870213076, 0.3210522213316282, 0.3346346199934352, 0.3481189405823661, 0.3415649567055245, 0.2426891930519404]}, {\"categories\": [\"0\", \"1\", \"4\", \"6\", \"8\", \"10\", \"13\", \"15\", \"17\"], \"mode\": \"lines\", \"name\": \"recall_score_macro_max\", \"stepped\": true, \"type\": \"scatter\", \"data\": [0.36353395189218946, 0.3718458871140422, 0.3718458871140422, 0.43995777870213076, 0.43995777870213076, 0.43995777870213076, 0.43995777870213076, 0.43995777870213076, 0.43995777870213076]}], \"AUC_macro\": [{\"categories\": [\"0\", \"1\", \"4\", \"6\", \"8\", \"10\", \"13\", \"15\", \"17\"], \"mode\": \"markers\", \"name\": \"AUC_macro\", \"stepped\": false, \"type\": \"scatter\", \"data\": [0.8159254875766037, 0.8366119370139454, 0.6591144393364324, 0.7777821039340055, 0.6816657449787136, 0.7881002129131695, 0.7998417460489965, 0.7040921610049539, 0.7752830909979579]}, {\"categories\": [\"0\", \"1\", \"4\", \"6\", \"8\", \"10\", \"13\", \"15\", \"17\"], \"mode\": \"lines\", \"name\": \"AUC_macro_max\", \"stepped\": true, \"type\": \"scatter\", \"data\": [0.8159254875766037, 0.8366119370139454, 0.8366119370139454, 0.8366119370139454, 0.8366119370139454, 0.8366119370139454, 0.8366119370139454, 0.8366119370139454, 0.8366119370139454]}], \"f1_score_micro\": [{\"categories\": [\"0\", \"1\", \"4\", \"6\", \"8\", \"10\", \"13\", \"15\", \"17\"], \"mode\": \"markers\", \"name\": \"f1_score_micro\", \"stepped\": false, \"type\": \"scatter\", \"data\": [0.6679174484052531, 0.6666666666666666, 0.5934959349593495, 0.425891181988743, 0.6128830519074421, 0.6622889305816134, 0.6791744840525329, 0.6372732958098811, 0.5847404627892433]}, {\"categories\": [\"0\", \"1\", \"4\", \"6\", \"8\", \"10\", \"13\", \"15\", \"17\"], \"mode\": \"lines\", \"name\": \"f1_score_micro_max\", \"stepped\": true, \"type\": \"scatter\", \"data\": [0.6679174484052531, 0.6679174484052531, 0.6679174484052531, 0.6679174484052531, 0.6679174484052531, 0.6679174484052531, 0.6791744840525329, 0.6791744840525329, 0.6791744840525329]}], \"average_precision_score_micro\": [{\"categories\": [\"0\", \"1\", \"4\", \"6\", \"8\", \"10\", \"13\", \"15\", \"17\"], \"mode\": \"markers\", \"name\": \"average_precision_score_micro\", \"stepped\": false, \"type\": \"scatter\", \"data\": [0.7116036084897933, 0.7141832909604041, 0.6164720810518586, 0.38922919699563524, 0.6921927883883457, 0.6973087181634163, 0.771395023211683, 0.6835242806335898, 0.6129379906964485]}, {\"categories\": [\"0\", \"1\", \"4\", \"6\", \"8\", \"10\", \"13\", \"15\", \"17\"], \"mode\": \"lines\", \"name\": \"average_precision_score_micro_max\", \"stepped\": true, \"type\": \"scatter\", \"data\": [0.7116036084897933, 0.7141832909604041, 0.7141832909604041, 0.7141832909604041, 0.7141832909604041, 0.7141832909604041, 0.771395023211683, 0.771395023211683, 0.771395023211683]}], \"average_precision_score_macro\": [{\"categories\": [\"0\", \"1\", \"4\", \"6\", \"8\", \"10\", \"13\", \"15\", \"17\"], \"mode\": \"markers\", \"name\": \"average_precision_score_macro\", \"stepped\": false, \"type\": \"scatter\", \"data\": [0.428587548693582, 0.44547743928488964, 0.3570578435675131, 0.34149442334089136, 0.3860478874644238, 0.3966340241892304, 0.4778732504632592, 0.3869370077763344, 0.3547307534972932]}, {\"categories\": [\"0\", \"1\", \"4\", \"6\", \"8\", \"10\", \"13\", \"15\", \"17\"], \"mode\": \"lines\", \"name\": \"average_precision_score_macro_max\", \"stepped\": true, \"type\": \"scatter\", \"data\": [0.428587548693582, 0.44547743928488964, 0.44547743928488964, 0.44547743928488964, 0.44547743928488964, 0.44547743928488964, 0.4778732504632592, 0.4778732504632592, 0.4778732504632592]}], \"AUC_weighted\": [{\"categories\": [\"0\", \"1\", \"4\", \"6\", \"8\", \"10\", \"13\", \"15\", \"17\"], \"mode\": \"markers\", \"name\": \"AUC_weighted\", \"stepped\": false, \"type\": \"scatter\", \"data\": [0.8291357252104454, 0.8277958461353152, 0.7499279699099661, 0.7253897217070137, 0.7740880874843071, 0.8100903234545692, 0.8466272227623035, 0.8032995552491302, 0.7498774554641549]}, {\"categories\": [\"0\", \"1\", \"4\", \"6\", \"8\", \"10\", \"13\", \"15\", \"17\"], \"mode\": \"lines\", \"name\": \"AUC_weighted_max\", \"stepped\": true, \"type\": \"scatter\", \"data\": [0.8291357252104454, 0.8291357252104454, 0.8291357252104454, 0.8291357252104454, 0.8291357252104454, 0.8291357252104454, 0.8466272227623035, 0.8466272227623035, 0.8466272227623035]}], \"norm_macro_recall\": [{\"categories\": [\"0\", \"1\", \"4\", \"6\", \"8\", \"10\", \"13\", \"15\", \"17\"], \"mode\": \"markers\", \"name\": \"norm_macro_recall\", \"stepped\": false, \"type\": \"scatter\", \"data\": [0.23624074227062733, 0.2462150645368507, 0.17731419677435575, 0.3279493344425569, 0.1852626655979538, 0.20156154399212226, 0.21774272869883926, 0.20987794804662938, 0.0912270316623285]}, {\"categories\": [\"0\", \"1\", \"4\", \"6\", \"8\", \"10\", \"13\", \"15\", \"17\"], \"mode\": \"lines\", \"name\": \"norm_macro_recall_max\", \"stepped\": true, \"type\": \"scatter\", \"data\": [0.23624074227062733, 0.2462150645368507, 0.2462150645368507, 0.3279493344425569, 0.3279493344425569, 0.3279493344425569, 0.3279493344425569, 0.3279493344425569, 0.3279493344425569]}], \"weighted_accuracy\": [{\"categories\": [\"0\", \"1\", \"4\", \"6\", \"8\", \"10\", \"13\", \"15\", \"17\"], \"mode\": \"markers\", \"name\": \"weighted_accuracy\", \"stepped\": false, \"type\": \"scatter\", \"data\": [0.7178372394339503, 0.7159714498696133, 0.6356293304610602, 0.4257761872585178, 0.6591715671741819, 0.7185789490141832, 0.7353008301922889, 0.6815882470424547, 0.6705803786829753]}, {\"categories\": [\"0\", \"1\", \"4\", \"6\", \"8\", \"10\", \"13\", \"15\", \"17\"], \"mode\": \"lines\", \"name\": \"weighted_accuracy_max\", \"stepped\": true, \"type\": \"scatter\", \"data\": [0.7178372394339503, 0.7178372394339503, 0.7178372394339503, 0.7178372394339503, 0.7178372394339503, 0.7185789490141832, 0.7353008301922889, 0.7353008301922889, 0.7353008301922889]}], \"f1_score_macro\": [{\"categories\": [\"0\", \"1\", \"4\", \"6\", \"8\", \"10\", \"13\", \"15\", \"17\"], \"mode\": \"markers\", \"name\": \"f1_score_macro\", \"stepped\": false, \"type\": \"scatter\", \"data\": [0.37999978848157695, 0.3811896390961958, 0.3225101335152272, 0.2876755924516168, 0.33218508688577925, 0.34282996993071096, 0.360987947657567, 0.35107882530457046, 0.22915268619271692]}, {\"categories\": [\"0\", \"1\", \"4\", \"6\", \"8\", \"10\", \"13\", \"15\", \"17\"], \"mode\": \"lines\", \"name\": \"f1_score_macro_max\", \"stepped\": true, \"type\": \"scatter\", \"data\": [0.37999978848157695, 0.3811896390961958, 0.3811896390961958, 0.3811896390961958, 0.3811896390961958, 0.3811896390961958, 0.3811896390961958, 0.3811896390961958, 0.3811896390961958]}]}, \"metricName\": null, \"primaryMetricName\": \"accuracy\", \"showLegend\": false}, \"run_metrics\": [{\"name\": \"experiment_status\", \"run_id\": \"AutoML_ea5c29ce-16d5-4669-b123-1d11ec9d605c\", \"categories\": [0, 1, 2, 3, 4, 5, 6], \"series\": [{\"data\": [\"DatasetEvaluation\", \"FeaturesGeneration\", \"DatasetFeaturization\", \"DatasetFeaturizationCompleted\", \"DatasetBalancing\", \"DatasetCrossValidationSplit\", \"ModelSelection\"]}]}, {\"name\": \"experiment_status_description\", \"run_id\": \"AutoML_ea5c29ce-16d5-4669-b123-1d11ec9d605c\", \"categories\": [0, 1, 2, 3, 4, 5, 6], \"series\": [{\"data\": [\"Gathering dataset statistics.\", \"Generating features for the dataset.\", \"Beginning to fit featurizers and featurize the dataset.\", \"Completed fit featurizers and featurizing the dataset.\", \"Performing class balancing sweeping\", \"Generating individually featurized CV splits.\", \"Beginning model selection.\"]}]}], \"run_logs\": \"Your job is submitted in Azure cloud and we are monitoring to get logs...\", \"graph\": {}, \"widget_settings\": {\"childWidgetDisplay\": \"popup\", \"send_telemetry\": false, \"log_level\": \"INFO\", \"sdk_version\": \"1.39.0\"}, \"loading\": false}"
          },
          "metadata": {}
        }
      ],
      "execution_count": 7,
      "metadata": {
        "gather": {
          "logged": 1649618667525
        },
        "jupyter": {
          "outputs_hidden": false,
          "source_hidden": false
        },
        "nteract": {
          "transient": {
            "deleting": false
          }
        }
      }
    },
    {
      "cell_type": "markdown",
      "source": [
        "## Best Model\n",
        "\n",
        "TODO: In the cell below, get the best model from the automl experiments and display all the properties of the model.\n",
        "\n"
      ],
      "metadata": {}
    },
    {
      "cell_type": "code",
      "source": [
        "best_run, best_model = remote_run.get_output()\n",
        "best_run_metrics = best_run.get_metrics()\n",
        "for metric_name in best_run_metrics:\n",
        "    metric = best_run_metrics[metric_name]\n",
        "    print(metric_name, metric)"
      ],
      "outputs": [
        {
          "output_type": "stream",
          "name": "stderr",
          "text": "WARNING:root:The model you attempted to retrieve requires 'azureml-train-automl-runtime' to be installed at '==1.38.0'. Please install 'azureml-train-automl-runtime==1.38.0' (e.g. `pip install azureml-train-automl-runtime==1.38.0`) and then rerun the previous command.\n"
        },
        {
          "output_type": "stream",
          "name": "stdout",
          "text": "f1_score_weighted 0.6794979835569345\naverage_precision_score_weighted 0.7561558627012025\nbalanced_accuracy 0.35984257123331864\nf1_score_micro 0.6973108192620389\naverage_precision_score_micro 0.7694838686505392\nlog_loss 0.8961700140996013\nrecall_score_weighted 0.6973108192620389\nrecall_score_micro 0.6973108192620389\nnorm_macro_recall 0.23181108547998241\nprecision_score_macro 0.4295847498889187\nmatthews_correlation 0.5118522438703906\nAUC_macro 0.8543852431654312\naccuracy 0.6973108192620389\nprecision_score_micro 0.6973108192620389\nf1_score_macro 0.3713320616406757\nprecision_score_weighted 0.6698223608488415\nAUC_weighted 0.8528489551366527\nAUC_micro 0.9353674376691812\nweighted_accuracy 0.7526624936351666\nrecall_score_macro 0.35984257123331864\naverage_precision_score_macro 0.46418938326334197\naccuracy_table aml://artifactId/ExperimentRun/dcid.AutoML_3f0dc149-f703-4fe2-9c4e-4fcb7e5c625a_34/accuracy_table\nconfusion_matrix aml://artifactId/ExperimentRun/dcid.AutoML_3f0dc149-f703-4fe2-9c4e-4fcb7e5c625a_34/confusion_matrix\n"
        }
      ],
      "execution_count": 21,
      "metadata": {
        "gather": {
          "logged": 1647022357984
        },
        "jupyter": {
          "outputs_hidden": false,
          "source_hidden": false
        },
        "nteract": {
          "transient": {
            "deleting": false
          }
        }
      }
    },
    {
      "cell_type": "code",
      "source": [
        "best_model"
      ],
      "outputs": [],
      "execution_count": 12,
      "metadata": {
        "jupyter": {
          "source_hidden": false,
          "outputs_hidden": false
        },
        "nteract": {
          "transient": {
            "deleting": false
          }
        },
        "gather": {
          "logged": 1647021759461
        }
      }
    },
    {
      "cell_type": "code",
      "source": [
        "#TODO: Save the best model\n",
        "\n",
        "os.makedirs('models', exist_ok=True)\n",
        "joblib.dump(best_model, filename='./models/model.pkl')\n",
        "\n",
        "model_name = best_run.properties['model_name']\n",
        "\n",
        "\n",
        "#description = \"Best wine quality AutoML model\"\n",
        "#model = remote_run.register_model(model_name = model_name, \n",
        "                                  #description = description, \n",
        "                                  #tags = None)\n",
        "\n",
        "print(model_name)"
      ],
      "outputs": [
        {
          "output_type": "stream",
          "name": "stdout",
          "text": "AutoML3f0dc149f34\n"
        }
      ],
      "execution_count": 23,
      "metadata": {
        "gather": {
          "logged": 1647022444100
        },
        "jupyter": {
          "outputs_hidden": false,
          "source_hidden": false
        },
        "nteract": {
          "transient": {
            "deleting": false
          }
        }
      }
    },
    {
      "cell_type": "markdown",
      "source": [
        "## Model Deployment\n",
        "\n",
        "Remember you have to deploy only one of the two models you trained but you still need to register both the models. Perform the steps in the rest of this notebook only if you wish to deploy this model.\n",
        "\n",
        "TODO: In the cell below, register the model, create an inference config and deploy the model as a web service."
      ],
      "metadata": {}
    },
    {
      "cell_type": "code",
      "source": [
        "env = best_run.get_environment()\n",
        "inference_config = InferenceConfig(\n",
        "    environment=env,\n",
        "    entry_script=\"inference.py\",\n",
        "    )\n",
        "deployment_config = LocalWebservice.deploy_configuration(port=6789)\n",
        "\n",
        "service = Model.deploy(\n",
        "    workspace=ws, \n",
        "    name= \"local-wine\",\n",
        "    models=[best_model], \n",
        "    inference_config=inference_config, \n",
        "    deployment_config=deployment_config, \n",
        "    overwrite=True\n",
        "    )\n",
        "\n",
        "service.wait_for_deployment(show_output=True)"
      ],
      "outputs": [
        {
          "output_type": "error",
          "ename": "NotImplementedError",
          "evalue": "Models must either be of type azureml.core.model.Model or a str path to a file or folder.",
          "traceback": [
            "\u001b[0;31m---------------------------------------------------------------------------\u001b[0m",
            "\u001b[0;31mNotImplementedError\u001b[0m                       Traceback (most recent call last)",
            "Input \u001b[0;32mIn [24]\u001b[0m, in \u001b[0;36m<module>\u001b[0;34m\u001b[0m\n\u001b[1;32m      2\u001b[0m inference_config \u001b[38;5;241m=\u001b[39m InferenceConfig(\n\u001b[1;32m      3\u001b[0m     environment\u001b[38;5;241m=\u001b[39menv,\n\u001b[1;32m      4\u001b[0m     entry_script\u001b[38;5;241m=\u001b[39m\u001b[38;5;124m\"\u001b[39m\u001b[38;5;124minference.py\u001b[39m\u001b[38;5;124m\"\u001b[39m,\n\u001b[1;32m      5\u001b[0m     )\n\u001b[1;32m      6\u001b[0m deployment_config \u001b[38;5;241m=\u001b[39m LocalWebservice\u001b[38;5;241m.\u001b[39mdeploy_configuration(port\u001b[38;5;241m=\u001b[39m\u001b[38;5;241m6789\u001b[39m)\n\u001b[0;32m----> 8\u001b[0m service \u001b[38;5;241m=\u001b[39m \u001b[43mModel\u001b[49m\u001b[38;5;241;43m.\u001b[39;49m\u001b[43mdeploy\u001b[49m\u001b[43m(\u001b[49m\n\u001b[1;32m      9\u001b[0m \u001b[43m    \u001b[49m\u001b[43mworkspace\u001b[49m\u001b[38;5;241;43m=\u001b[39;49m\u001b[43mws\u001b[49m\u001b[43m,\u001b[49m\u001b[43m \u001b[49m\n\u001b[1;32m     10\u001b[0m \u001b[43m    \u001b[49m\u001b[43mname\u001b[49m\u001b[38;5;241;43m=\u001b[39;49m\u001b[43m \u001b[49m\u001b[38;5;124;43m\"\u001b[39;49m\u001b[38;5;124;43mlocal-wine\u001b[39;49m\u001b[38;5;124;43m\"\u001b[39;49m\u001b[43m,\u001b[49m\n\u001b[1;32m     11\u001b[0m \u001b[43m    \u001b[49m\u001b[43mmodels\u001b[49m\u001b[38;5;241;43m=\u001b[39;49m\u001b[43m[\u001b[49m\u001b[43mbest_model\u001b[49m\u001b[43m]\u001b[49m\u001b[43m,\u001b[49m\u001b[43m \u001b[49m\n\u001b[1;32m     12\u001b[0m \u001b[43m    \u001b[49m\u001b[43minference_config\u001b[49m\u001b[38;5;241;43m=\u001b[39;49m\u001b[43minference_config\u001b[49m\u001b[43m,\u001b[49m\u001b[43m \u001b[49m\n\u001b[1;32m     13\u001b[0m \u001b[43m    \u001b[49m\u001b[43mdeployment_config\u001b[49m\u001b[38;5;241;43m=\u001b[39;49m\u001b[43mdeployment_config\u001b[49m\u001b[43m,\u001b[49m\u001b[43m \u001b[49m\n\u001b[1;32m     14\u001b[0m \u001b[43m    \u001b[49m\u001b[43moverwrite\u001b[49m\u001b[38;5;241;43m=\u001b[39;49m\u001b[38;5;28;43;01mTrue\u001b[39;49;00m\n\u001b[1;32m     15\u001b[0m \u001b[43m    \u001b[49m\u001b[43m)\u001b[49m\n\u001b[1;32m     17\u001b[0m service\u001b[38;5;241m.\u001b[39mwait_for_deployment(show_output\u001b[38;5;241m=\u001b[39m\u001b[38;5;28;01mTrue\u001b[39;00m)\n",
            "File \u001b[0;32m/anaconda/envs/azureml_py38/lib/python3.8/site-packages/azureml/core/model.py:1644\u001b[0m, in \u001b[0;36mModel.deploy\u001b[0;34m(workspace, name, models, inference_config, deployment_config, deployment_target, overwrite, show_output)\u001b[0m\n\u001b[1;32m   1642\u001b[0m \u001b[38;5;66;03m# Local webservice.\u001b[39;00m\n\u001b[1;32m   1643\u001b[0m \u001b[38;5;28;01mif\u001b[39;00m deployment_config \u001b[38;5;129;01mand\u001b[39;00m \u001b[38;5;28misinstance\u001b[39m(deployment_config, LocalWebserviceDeploymentConfiguration):\n\u001b[0;32m-> 1644\u001b[0m     \u001b[38;5;28;01mreturn\u001b[39;00m \u001b[43mdeployment_config\u001b[49m\u001b[38;5;241;43m.\u001b[39;49m\u001b[43m_webservice_type\u001b[49m\u001b[38;5;241;43m.\u001b[39;49m\u001b[43m_deploy\u001b[49m\u001b[43m(\u001b[49m\u001b[43mworkspace\u001b[49m\u001b[43m,\u001b[49m\u001b[43m \u001b[49m\u001b[43mname\u001b[49m\u001b[43m,\u001b[49m\u001b[43m \u001b[49m\u001b[43mmodels\u001b[49m\u001b[43m,\u001b[49m\n\u001b[1;32m   1645\u001b[0m \u001b[43m                                                      \u001b[49m\u001b[43minference_config\u001b[49m\u001b[38;5;241;43m=\u001b[39;49m\u001b[43minference_config\u001b[49m\u001b[43m,\u001b[49m\n\u001b[1;32m   1646\u001b[0m \u001b[43m                                                      \u001b[49m\u001b[43mdeployment_config\u001b[49m\u001b[38;5;241;43m=\u001b[39;49m\u001b[43mdeployment_config\u001b[49m\u001b[43m)\u001b[49m\n\u001b[1;32m   1648\u001b[0m \u001b[38;5;66;03m# IotWebservice does not support environment-style deployment,\u001b[39;00m\n\u001b[1;32m   1649\u001b[0m \u001b[38;5;66;03m# so make sure we don't deploy IotWebservice with environment;\u001b[39;00m\n\u001b[1;32m   1650\u001b[0m \u001b[38;5;66;03m# We only support ACI, AKS, AKS endpoint, and MIR for now.\u001b[39;00m\n\u001b[1;32m   1651\u001b[0m \u001b[38;5;28;01mfrom\u001b[39;00m \u001b[38;5;21;01mazureml\u001b[39;00m\u001b[38;5;21;01m.\u001b[39;00m\u001b[38;5;21;01m_model_management\u001b[39;00m\u001b[38;5;21;01m.\u001b[39;00m\u001b[38;5;21;01m_constants\u001b[39;00m \u001b[38;5;28;01mimport\u001b[39;00m IOT_WEBSERVICE_TYPE\n",
            "File \u001b[0;32m/anaconda/envs/azureml_py38/lib/python3.8/site-packages/azureml/core/webservice/local.py:739\u001b[0m, in \u001b[0;36mLocalWebservice._deploy\u001b[0;34m(workspace, name, models, image_config, deployment_config, wait, inference_config)\u001b[0m\n\u001b[1;32m    735\u001b[0m     \u001b[38;5;28;01mraise\u001b[39;00m WebserviceException(\u001b[38;5;124m'\u001b[39m\u001b[38;5;124mError, provided inference configuration must be of type InferenceConfig \u001b[39m\u001b[38;5;124m'\u001b[39m\n\u001b[1;32m    736\u001b[0m                               \u001b[38;5;124m'\u001b[39m\u001b[38;5;124min order to deploy a local service.\u001b[39m\u001b[38;5;124m'\u001b[39m, logger\u001b[38;5;241m=\u001b[39mmodule_logger)\n\u001b[1;32m    738\u001b[0m service \u001b[38;5;241m=\u001b[39m LocalWebservice(workspace, name, must_exist\u001b[38;5;241m=\u001b[39m\u001b[38;5;28;01mFalse\u001b[39;00m)\n\u001b[0;32m--> 739\u001b[0m \u001b[43mservice\u001b[49m\u001b[38;5;241;43m.\u001b[39;49m\u001b[43mupdate\u001b[49m\u001b[43m(\u001b[49m\u001b[43mmodels\u001b[49m\u001b[38;5;241;43m=\u001b[39;49m\u001b[43mmodels\u001b[49m\u001b[43m,\u001b[49m\n\u001b[1;32m    740\u001b[0m \u001b[43m               \u001b[49m\u001b[43mimage_config\u001b[49m\u001b[38;5;241;43m=\u001b[39;49m\u001b[43mimage_config\u001b[49m\u001b[43m,\u001b[49m\n\u001b[1;32m    741\u001b[0m \u001b[43m               \u001b[49m\u001b[43minference_config\u001b[49m\u001b[38;5;241;43m=\u001b[39;49m\u001b[43minference_config\u001b[49m\u001b[43m,\u001b[49m\n\u001b[1;32m    742\u001b[0m \u001b[43m               \u001b[49m\u001b[43mdeployment_config\u001b[49m\u001b[38;5;241;43m=\u001b[39;49m\u001b[43mdeployment_config\u001b[49m\u001b[43m,\u001b[49m\n\u001b[1;32m    743\u001b[0m \u001b[43m               \u001b[49m\u001b[43mwait\u001b[49m\u001b[38;5;241;43m=\u001b[39;49m\u001b[43mwait\u001b[49m\u001b[43m)\u001b[49m\n\u001b[1;32m    744\u001b[0m \u001b[38;5;28;01mreturn\u001b[39;00m service\n",
            "File \u001b[0;32m/anaconda/envs/azureml_py38/lib/python3.8/site-packages/azureml/core/webservice/local.py:72\u001b[0m, in \u001b[0;36m_in_state.<locals>.decorator.<locals>.decorated\u001b[0;34m(self, *args, **kwargs)\u001b[0m\n\u001b[1;32m     69\u001b[0m \u001b[38;5;28;01mif\u001b[39;00m \u001b[38;5;28mself\u001b[39m\u001b[38;5;241m.\u001b[39mstate \u001b[38;5;129;01mnot\u001b[39;00m \u001b[38;5;129;01min\u001b[39;00m states:\n\u001b[1;32m     70\u001b[0m     \u001b[38;5;28;01mraise\u001b[39;00m WebserviceException(\u001b[38;5;124m'\u001b[39m\u001b[38;5;124mCannot call \u001b[39m\u001b[38;5;132;01m{}\u001b[39;00m\u001b[38;5;124m() when service is \u001b[39m\u001b[38;5;132;01m{}\u001b[39;00m\u001b[38;5;124m.\u001b[39m\u001b[38;5;124m'\u001b[39m\u001b[38;5;241m.\u001b[39mformat(func\u001b[38;5;241m.\u001b[39m\u001b[38;5;18m__name__\u001b[39m, \u001b[38;5;28mself\u001b[39m\u001b[38;5;241m.\u001b[39mstate),\n\u001b[1;32m     71\u001b[0m                               logger\u001b[38;5;241m=\u001b[39mmodule_logger)\n\u001b[0;32m---> 72\u001b[0m \u001b[38;5;28;01mreturn\u001b[39;00m \u001b[43mfunc\u001b[49m\u001b[43m(\u001b[49m\u001b[38;5;28;43mself\u001b[39;49m\u001b[43m,\u001b[49m\u001b[43m \u001b[49m\u001b[38;5;241;43m*\u001b[39;49m\u001b[43margs\u001b[49m\u001b[43m,\u001b[49m\u001b[43m \u001b[49m\u001b[38;5;241;43m*\u001b[39;49m\u001b[38;5;241;43m*\u001b[39;49m\u001b[43mkwargs\u001b[49m\u001b[43m)\u001b[49m\n",
            "File \u001b[0;32m/anaconda/envs/azureml_py38/lib/python3.8/site-packages/azureml/core/webservice/local.py:520\u001b[0m, in \u001b[0;36mLocalWebservice.update\u001b[0;34m(self, models, image_config, deployment_config, wait, inference_config)\u001b[0m\n\u001b[1;32m    518\u001b[0m \u001b[38;5;28;01mif\u001b[39;00m models \u001b[38;5;129;01mis\u001b[39;00m \u001b[38;5;129;01mnot\u001b[39;00m \u001b[38;5;28;01mNone\u001b[39;00m:\n\u001b[1;32m    519\u001b[0m     \u001b[38;5;28mself\u001b[39m\u001b[38;5;241m.\u001b[39m_models_dir \u001b[38;5;241m=\u001b[39m \u001b[38;5;28;01mNone\u001b[39;00m\n\u001b[0;32m--> 520\u001b[0m     \u001b[38;5;28mself\u001b[39m\u001b[38;5;241m.\u001b[39m_models_local, \u001b[38;5;28mself\u001b[39m\u001b[38;5;241m.\u001b[39m_models_remote \u001b[38;5;241m=\u001b[39m \u001b[43mLocalWebservice\u001b[49m\u001b[38;5;241;43m.\u001b[39;49m\u001b[43m_identify_models\u001b[49m\u001b[43m(\u001b[49m\u001b[38;5;28;43mself\u001b[39;49m\u001b[38;5;241;43m.\u001b[39;49m\u001b[43mworkspace\u001b[49m\u001b[43m,\u001b[49m\u001b[43m \u001b[49m\u001b[43mmodels\u001b[49m\u001b[43m)\u001b[49m\n\u001b[1;32m    522\u001b[0m \u001b[38;5;28;01mif\u001b[39;00m image_config \u001b[38;5;129;01mis\u001b[39;00m \u001b[38;5;129;01mnot\u001b[39;00m \u001b[38;5;28;01mNone\u001b[39;00m:  \u001b[38;5;66;03m# pragma: no cover\u001b[39;00m\n\u001b[1;32m    523\u001b[0m     \u001b[38;5;28mself\u001b[39m\u001b[38;5;241m.\u001b[39m_image_config \u001b[38;5;241m=\u001b[39m image_config\n",
            "File \u001b[0;32m/anaconda/envs/azureml_py38/lib/python3.8/site-packages/azureml/core/webservice/local.py:929\u001b[0m, in \u001b[0;36mLocalWebservice._identify_models\u001b[0;34m(workspace, models)\u001b[0m\n\u001b[1;32m    927\u001b[0m         remote\u001b[38;5;241m.\u001b[39mappend(model)\n\u001b[1;32m    928\u001b[0m     \u001b[38;5;28;01melse\u001b[39;00m:\n\u001b[0;32m--> 929\u001b[0m         \u001b[38;5;28;01mraise\u001b[39;00m \u001b[38;5;167;01mNotImplementedError\u001b[39;00m(\u001b[38;5;124m'\u001b[39m\u001b[38;5;124mModels must either be of type azureml.core.model.Model or a str \u001b[39m\u001b[38;5;124m'\u001b[39m\n\u001b[1;32m    930\u001b[0m                                   \u001b[38;5;124m'\u001b[39m\u001b[38;5;124mpath to a file or folder.\u001b[39m\u001b[38;5;124m'\u001b[39m)\n\u001b[1;32m    932\u001b[0m \u001b[38;5;28;01mreturn\u001b[39;00m local, remote\n",
            "\u001b[0;31mNotImplementedError\u001b[0m: Models must either be of type azureml.core.model.Model or a str path to a file or folder."
          ]
        }
      ],
      "execution_count": 24,
      "metadata": {
        "gather": {
          "logged": 1598431435189
        },
        "jupyter": {
          "outputs_hidden": false,
          "source_hidden": false
        },
        "nteract": {
          "transient": {
            "deleting": false
          }
        }
      }
    },
    {
      "cell_type": "markdown",
      "source": [
        "TODO: In the cell below, send a request to the web service you deployed to test it."
      ],
      "metadata": {
        "collapsed": true,
        "gather": {
          "logged": 1598431657736
        },
        "jupyter": {
          "outputs_hidden": false,
          "source_hidden": false
        },
        "nteract": {
          "transient": {
            "deleting": false
          }
        }
      }
    },
    {
      "cell_type": "code",
      "source": [
        "import requests\n",
        "import json\n",
        "\n",
        "uri = service.scoring_uri\n",
        "requests.get(\"http://localhost:6789\")\n",
        "headers = {\"Content-Type\": \"application/json\"}\n",
        "data = {\n",
        "    \"fixed acidity\":7.3,\n",
        "    \"volatile acidity\": 0.9,\n",
        "    \"citric acid\": 0.1,\n",
        "    \"residual sugar\": 1.9,\n",
        "    \"chlorides\": 0.076,\n",
        "    \"free sulfur dioxide\": 11.0, \n",
        "    \"total sulfur dioxide\": 34.0,\n",
        "    \"density\": 0.9978,\n",
        "    \"pH\": 3.49,\n",
        "    \"sulphates\": 0.50,\n",
        "    \"alcohol\": 9.4\n",
        "}\n",
        "data = json.dumps(data)\n",
        "response = requests.post(uri, data=data, headers=headers)\n",
        "print(response.text)\n",
        "print(response.json())"
      ],
      "outputs": [],
      "execution_count": null,
      "metadata": {
        "gather": {
          "logged": 1598432707604
        },
        "jupyter": {
          "outputs_hidden": false,
          "source_hidden": false
        },
        "nteract": {
          "transient": {
            "deleting": false
          }
        }
      }
    },
    {
      "cell_type": "code",
      "source": [
        "# register model\n",
        "best_child = remote_run.get_best_child()\n",
        "model = best_child.register_model(model_name='automl-model',model_path='outputs/model.pkl')\n",
        "print(model.name, model.id, model.version, sep=' ') \n",
        "\n",
        "# deploy full instance\n",
        "service_name = \"wine-quality-prediction\"\n",
        "env = best_run.get_environment()\n",
        "print(env)\n",
        "\n",
        "inference_config = InferenceConfig(\n",
        "    environment=env,\n",
        "    entry_script=\"inference.py\",\n",
        ")\n",
        "\n",
        "aci_config = AciWebservice.deploy_configuration(\n",
        "    cpu_cores = 0.5, \n",
        "    memory_gb=1, \n",
        "    auth_enabled=True\n",
        ")\n",
        "web_service = Model.deploy(\n",
        "    workspace=ws, \n",
        "    name=service_name,\n",
        "    models=[model], \n",
        "    inference_config=inference_config, \n",
        "    deployment_config=aci_config, \n",
        "    overwrite=True\n",
        ")\n",
        "web_service.wait_for_deployment(show_output=True)"
      ],
      "outputs": [],
      "execution_count": null,
      "metadata": {}
    },
    {
      "cell_type": "code",
      "source": [
        "uri = web_service.scoring_uri\n",
        "api_key = 'tbd'\n",
        "headers = {\"Content-Type\": \"application/json\",  'Authorization':('Bearer '+ api_key)}\n",
        "data = {\n",
        "    \"fixed acidity\":7.3,\n",
        "    \"volatile acidity\": 0.9,\n",
        "    \"citric acid\": 0.1,\n",
        "    \"residual sugar\": 1.9,\n",
        "    \"chlorides\": 0.076,\n",
        "    \"free sulfur dioxide\": 11.0, \n",
        "    \"total sulfur dioxide\": 34.0,\n",
        "    \"density\": 0.9978,\n",
        "    \"pH\": 3.49,\n",
        "    \"sulphates\": 0.50,\n",
        "    \"alcohol\": 9.4\n",
        "}\n",
        "data = json.dumps(data)\n",
        "response = requests.post(uri, data=data, headers=headers)\n",
        "print(response.json())"
      ],
      "outputs": [],
      "execution_count": null,
      "metadata": {}
    },
    {
      "cell_type": "markdown",
      "source": [
        "TODO: In the cell below, print the logs of the web service and delete the service"
      ],
      "metadata": {
        "collapsed": true,
        "gather": {
          "logged": 1598432765711
        },
        "jupyter": {
          "outputs_hidden": false,
          "source_hidden": false
        },
        "nteract": {
          "transient": {
            "deleting": false
          }
        }
      }
    },
    {
      "cell_type": "code",
      "source": [
        "print(web_service.get_logs())\n",
        "web_service.delete()\n",
        "model.delete()"
      ],
      "outputs": [],
      "execution_count": null,
      "metadata": {
        "jupyter": {
          "outputs_hidden": false,
          "source_hidden": false
        },
        "nteract": {
          "transient": {
            "deleting": false
          }
        }
      }
    },
    {
      "cell_type": "markdown",
      "source": [
        "**Submission Checklist**\n",
        "- I have registered the model.\n",
        "- I have deployed the model with the best accuracy as a webservice.\n",
        "- I have tested the webservice by sending a request to the model endpoint.\n",
        "- I have deleted the webservice and shutdown all the computes that I have used.\n",
        "- I have taken a screenshot showing the model endpoint as active.\n",
        "- The project includes a file containing the environment details.\n"
      ],
      "metadata": {}
    },
    {
      "cell_type": "markdown",
      "source": [],
      "metadata": {}
    }
  ],
  "metadata": {
    "kernel_info": {
      "name": "python3"
    },
    "kernelspec": {
      "name": "python3",
      "language": "python",
      "display_name": "Python 3"
    },
    "language_info": {
      "name": "python",
      "version": "3.8.5",
      "mimetype": "text/x-python",
      "codemirror_mode": {
        "name": "ipython",
        "version": 3
      },
      "pygments_lexer": "ipython3",
      "nbconvert_exporter": "python",
      "file_extension": ".py"
    },
    "microsoft": {
      "host": {
        "AzureML": {
          "notebookHasBeenCompleted": true
        }
      }
    },
    "nteract": {
      "version": "nteract-front-end@1.0.0"
    }
  },
  "nbformat": 4,
  "nbformat_minor": 2
}