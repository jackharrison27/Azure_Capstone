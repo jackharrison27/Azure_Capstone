{
 "cells": [
  {
   "cell_type": "markdown",
   "metadata": {},
   "source": [
    "# Automated ML\n",
    "\n",
    "TODO: Import Dependencies. In the cell below, import all the dependencies that you will need to complete the project."
   ]
  },
  {
   "cell_type": "code",
   "execution_count": 12,
   "metadata": {
    "gather": {
     "logged": 1645129016465
    },
    "jupyter": {
     "outputs_hidden": false,
     "source_hidden": false
    },
    "nteract": {
     "transient": {
      "deleting": false
     }
    }
   },
   "outputs": [],
   "source": [
    "import azureml.core\n",
    "from azureml.core import Experiment\n",
    "from azureml.core import Workspace\n",
    "\n",
    "from azureml.core.compute import AmlCompute\n",
    "from azureml.core.compute import ComputeTarget\n",
    "from azureml.core.compute_target import ComputeTargetException\n",
    "\n",
    "from azureml.core import Dataset\n",
    "\n",
    "from azureml.train.automl import AutoMLConfig\n",
    "\n",
    "from azureml.pipeline.core import PipelineData, TrainingOutput\n",
    "\n",
    "from azureml.widgets import RunDetails\n",
    "\n",
    "\n",
    "import os \n",
    "import joblib\n",
    "\n",
    "from azureml.core.model import InferenceConfig\n",
    "from azureml.core.model import Model\n",
    "from azureml.core.webservice import LocalWebservice\n"
   ]
  },
  {
   "cell_type": "markdown",
   "metadata": {},
   "source": [
    "## Dataset\n",
    "\n",
    "### Overview\n",
    "TODO: In this markdown cell, give an overview of the dataset you are using. Also mention the task you will be performing.\n",
    "\n",
    "\n",
    "TODO: Get data. In the cell below, write code to access the data you will be using in this project. Remember that the dataset needs to be external."
   ]
  },
  {
   "cell_type": "code",
   "execution_count": 4,
   "metadata": {
    "gather": {
     "logged": 1645127031914
    },
    "jupyter": {
     "outputs_hidden": false,
     "source_hidden": false
    },
    "nteract": {
     "transient": {
      "deleting": false
     }
    }
   },
   "outputs": [],
   "source": [
    "ws = Workspace.from_config()\n",
    "\n",
    "# choose a name for experiment\n",
    "experiment_name = 'wine_quality_automl'\n",
    "project_folder = './pipeline-project'\n",
    "\n",
    "experiment=Experiment(ws, experiment_name)\n",
    "\n",
    "dataset_name = 'wine_quality'\n",
    "dataset = Dataset.get_by_name(workspace=ws, name=dataset_name) "
   ]
  },
  {
   "cell_type": "code",
   "execution_count": 5,
   "metadata": {
    "gather": {
     "logged": 1645127163024
    },
    "jupyter": {
     "outputs_hidden": false,
     "source_hidden": false
    },
    "nteract": {
     "transient": {
      "deleting": false
     }
    }
   },
   "outputs": [
    {
     "name": "stdout",
     "output_type": "stream",
     "text": [
      "InProgress.\n",
      "SucceededProvisioning operation finished, operation \"Succeeded\"\n",
      "Succeeded.......................\n",
      "AmlCompute wait for completion finished\n",
      "\n",
      "Wait timeout has been reached\n",
      "Current provisioning state of AmlCompute is \"Succeeded\" and current node count is \"0\"\n"
     ]
    }
   ],
   "source": [
    "# NOTE: update the cluster name to match the existing cluster\n",
    "# Choose a name for your CPU cluster\n",
    "amlcompute_cluster_name = \"auto-ml\"\n",
    "\n",
    "# Verify that cluster does not exist already\n",
    "try:\n",
    "    compute_target = ComputeTarget(workspace=ws, name=amlcompute_cluster_name)\n",
    "    print('Found existing cluster, use it.')\n",
    "except ComputeTargetException:\n",
    "    compute_config = AmlCompute.provisioning_configuration(vm_size='STANDARD_D2_V2',# for GPU, use \"STANDARD_NC6\"\n",
    "                                                           #vm_priority = 'lowpriority', # optional\n",
    "                                                           max_nodes=4)\n",
    "    compute_target = ComputeTarget.create(ws, amlcompute_cluster_name, compute_config)\n",
    "\n",
    "compute_target.wait_for_completion(show_output=True, min_node_count = 1, timeout_in_minutes = 2)"
   ]
  },
  {
   "cell_type": "markdown",
   "metadata": {},
   "source": [
    "## AutoML Configuration\n",
    "\n",
    "TODO: Explain why you chose the automl settings and cofiguration you used below."
   ]
  },
  {
   "cell_type": "code",
   "execution_count": 6,
   "metadata": {
    "gather": {
     "logged": 1645127218728
    },
    "jupyter": {
     "outputs_hidden": false,
     "source_hidden": false
    },
    "nteract": {
     "transient": {
      "deleting": false
     }
    }
   },
   "outputs": [],
   "source": [
    "# TODO: Put your automl settings here\n",
    "automl_settings = {\n",
    "    \"experiment_timeout_minutes\": 20,\n",
    "    \"max_concurrent_iterations\": 3,\n",
    "    \"primary_metric\" : 'AUC_weighted'\n",
    "}\n",
    "\n",
    "# TODO: Put your automl config here\n",
    "automl_config = AutoMLConfig(\n",
    "    compute_target=compute_target,\n",
    "    task = \"classification\",\n",
    "    training_data=dataset,\n",
    "    label_column_name=\"quality\",   \n",
    "    path = project_folder,\n",
    "    enable_early_stopping= True,\n",
    "    featurization= 'auto',\n",
    "    debug_log = \"automl_errors.log\",\n",
    "    **automl_settings\n",
    ")"
   ]
  },
  {
   "cell_type": "code",
   "execution_count": 7,
   "metadata": {
    "gather": {
     "logged": 1645127230922
    },
    "jupyter": {
     "outputs_hidden": false,
     "source_hidden": false
    },
    "nteract": {
     "transient": {
      "deleting": false
     }
    }
   },
   "outputs": [
    {
     "name": "stdout",
     "output_type": "stream",
     "text": [
      "Submitting remote run.\n"
     ]
    },
    {
     "data": {
      "text/html": [
       "<table style=\"width:100%\"><tr><th>Experiment</th><th>Id</th><th>Type</th><th>Status</th><th>Details Page</th><th>Docs Page</th></tr><tr><td>wine_quality_automl</td><td>AutoML_dc713a40-c256-4baa-9a14-5b63a407c627</td><td>automl</td><td>NotStarted</td><td><a href=\"https://ml.azure.com/runs/AutoML_dc713a40-c256-4baa-9a14-5b63a407c627?wsid=/subscriptions/b968fb36-f06a-4c76-a15f-afab68ae7667/resourcegroups/aml-quickstarts-186503/workspaces/quick-starts-ws-186503&amp;tid=660b3398-b80e-49d2-bc5b-ac1dc93b5254\" target=\"_blank\" rel=\"noopener\">Link to Azure Machine Learning studio</a></td><td><a href=\"https://docs.microsoft.com/en-us/python/api/overview/azure/ml/intro?view=azure-ml-py\" target=\"_blank\" rel=\"noopener\">Link to Documentation</a></td></tr></table>"
      ],
      "text/plain": [
       "<IPython.core.display.HTML object>"
      ]
     },
     "metadata": {},
     "output_type": "display_data"
    }
   ],
   "source": [
    "# TODO: Submit your experiment\n",
    "remote_run = experiment.submit(automl_config)"
   ]
  },
  {
   "cell_type": "markdown",
   "metadata": {},
   "source": [
    "## Run Details\n",
    "\n",
    "OPTIONAL: Write about the different models trained and their performance. Why do you think some models did better than others?\n",
    "\n",
    "TODO: In the cell below, use the `RunDetails` widget to show the different experiments."
   ]
  },
  {
   "cell_type": "code",
   "execution_count": 9,
   "metadata": {
    "gather": {
     "logged": 1645128909692
    },
    "jupyter": {
     "outputs_hidden": false,
     "source_hidden": false
    },
    "nteract": {
     "transient": {
      "deleting": false
     }
    }
   },
   "outputs": [
    {
     "data": {
      "application/vnd.jupyter.widget-view+json": {
       "model_id": "78a3a7df2ff84adb8facd5a5621ef9e7",
       "version_major": 2,
       "version_minor": 0
      },
      "text/plain": [
       "_AutoMLWidget(widget_settings={'childWidgetDisplay': 'popup', 'send_telemetry': False, 'log_level': 'INFO', 's…"
      ]
     },
     "metadata": {},
     "output_type": "display_data"
    },
    {
     "data": {
      "application/aml.mini.widget.v1": "{\"status\": \"Completed\", \"workbench_run_details_uri\": \"https://ml.azure.com/runs/AutoML_dc713a40-c256-4baa-9a14-5b63a407c627?wsid=/subscriptions/b968fb36-f06a-4c76-a15f-afab68ae7667/resourcegroups/aml-quickstarts-186503/workspaces/quick-starts-ws-186503&tid=660b3398-b80e-49d2-bc5b-ac1dc93b5254\", \"run_id\": \"AutoML_dc713a40-c256-4baa-9a14-5b63a407c627\", \"run_properties\": {\"run_id\": \"AutoML_dc713a40-c256-4baa-9a14-5b63a407c627\", \"created_utc\": \"2022-02-17T19:47:07.537456Z\", \"properties\": {\"num_iterations\": \"1000\", \"training_type\": \"TrainFull\", \"acquisition_function\": \"EI\", \"primary_metric\": \"AUC_weighted\", \"train_split\": \"0\", \"acquisition_parameter\": \"0\", \"num_cross_validation\": null, \"target\": \"auto-ml\", \"AMLSettingsJsonString\": \"{\\\"path\\\":null,\\\"name\\\":\\\"wine_quality_automl\\\",\\\"subscription_id\\\":\\\"b968fb36-f06a-4c76-a15f-afab68ae7667\\\",\\\"resource_group\\\":\\\"aml-quickstarts-186503\\\",\\\"workspace_name\\\":\\\"quick-starts-ws-186503\\\",\\\"region\\\":\\\"southcentralus\\\",\\\"compute_target\\\":\\\"auto-ml\\\",\\\"spark_service\\\":null,\\\"azure_service\\\":\\\"remote\\\",\\\"many_models\\\":false,\\\"pipeline_fetch_max_batch_size\\\":1,\\\"enable_batch_run\\\":true,\\\"enable_run_restructure\\\":false,\\\"start_auxiliary_runs_before_parent_complete\\\":false,\\\"enable_code_generation\\\":false,\\\"iterations\\\":1000,\\\"primary_metric\\\":\\\"AUC_weighted\\\",\\\"task_type\\\":\\\"classification\\\",\\\"positive_label\\\":null,\\\"data_script\\\":null,\\\"test_size\\\":0.0,\\\"test_include_predictions_only\\\":false,\\\"validation_size\\\":0.0,\\\"n_cross_validations\\\":null,\\\"y_min\\\":null,\\\"y_max\\\":null,\\\"num_classes\\\":null,\\\"featurization\\\":\\\"auto\\\",\\\"_ignore_package_version_incompatibilities\\\":false,\\\"is_timeseries\\\":false,\\\"max_cores_per_iteration\\\":1,\\\"max_concurrent_iterations\\\":3,\\\"iteration_timeout_minutes\\\":null,\\\"mem_in_mb\\\":null,\\\"enforce_time_on_windows\\\":false,\\\"experiment_timeout_minutes\\\":20,\\\"experiment_exit_score\\\":null,\\\"whitelist_models\\\":null,\\\"blacklist_algos\\\":[\\\"TensorFlowLinearClassifier\\\",\\\"TensorFlowDNN\\\"],\\\"supported_models\\\":[\\\"SGD\\\",\\\"KNN\\\",\\\"DecisionTree\\\",\\\"RandomForest\\\",\\\"TensorFlowLinearClassifier\\\",\\\"LightGBM\\\",\\\"TabnetClassifier\\\",\\\"XGBoostClassifier\\\",\\\"BernoulliNaiveBayes\\\",\\\"MultinomialNaiveBayes\\\",\\\"LinearSVM\\\",\\\"ExtremeRandomTrees\\\",\\\"LogisticRegression\\\",\\\"TensorFlowDNN\\\",\\\"SVM\\\",\\\"AveragedPerceptronClassifier\\\",\\\"GradientBoosting\\\"],\\\"private_models\\\":[],\\\"auto_blacklist\\\":true,\\\"blacklist_samples_reached\\\":false,\\\"exclude_nan_labels\\\":true,\\\"verbosity\\\":20,\\\"_debug_log\\\":\\\"azureml_automl.log\\\",\\\"show_warnings\\\":false,\\\"model_explainability\\\":true,\\\"service_url\\\":null,\\\"sdk_url\\\":null,\\\"sdk_packages\\\":null,\\\"enable_onnx_compatible_models\\\":false,\\\"enable_split_onnx_featurizer_estimator_models\\\":false,\\\"vm_type\\\":\\\"STANDARD_D2_V2\\\",\\\"telemetry_verbosity\\\":20,\\\"send_telemetry\\\":true,\\\"enable_dnn\\\":false,\\\"scenario\\\":\\\"SDK-1.13.0\\\",\\\"environment_label\\\":null,\\\"save_mlflow\\\":false,\\\"enable_categorical_indicators\\\":false,\\\"force_text_dnn\\\":false,\\\"enable_feature_sweeping\\\":true,\\\"enable_early_stopping\\\":true,\\\"early_stopping_n_iters\\\":10,\\\"arguments\\\":null,\\\"dataset_id\\\":null,\\\"hyperdrive_config\\\":null,\\\"validation_dataset_id\\\":null,\\\"run_source\\\":null,\\\"metrics\\\":null,\\\"enable_metric_confidence\\\":false,\\\"enable_ensembling\\\":true,\\\"enable_stack_ensembling\\\":true,\\\"ensemble_iterations\\\":15,\\\"enable_tf\\\":false,\\\"enable_subsampling\\\":null,\\\"subsample_seed\\\":null,\\\"enable_nimbusml\\\":false,\\\"enable_streaming\\\":false,\\\"force_streaming\\\":false,\\\"track_child_runs\\\":true,\\\"allowed_private_models\\\":[],\\\"label_column_name\\\":\\\"quality\\\",\\\"weight_column_name\\\":null,\\\"cv_split_column_names\\\":null,\\\"enable_local_managed\\\":false,\\\"_local_managed_run_id\\\":null,\\\"cost_mode\\\":1,\\\"lag_length\\\":0,\\\"metric_operation\\\":\\\"maximize\\\",\\\"preprocess\\\":true}\", \"DataPrepJsonString\": \"{\\\\\\\"training_data\\\\\\\": {\\\\\\\"datasetId\\\\\\\": \\\\\\\"78c87545-652a-4204-b6f2-efbfb2ec94f6\\\\\\\"}, \\\\\\\"datasets\\\\\\\": 0}\", \"EnableSubsampling\": null, \"runTemplate\": \"AutoML\", \"azureml.runsource\": \"automl\", \"display_task_type\": \"classification\", \"dependencies_versions\": \"{\\\"azureml-widgets\\\": \\\"1.38.0\\\", \\\"azureml-train\\\": \\\"1.38.0\\\", \\\"azureml-train-restclients-hyperdrive\\\": \\\"1.38.0\\\", \\\"azureml-train-core\\\": \\\"1.38.0\\\", \\\"azureml-train-automl-client\\\": \\\"1.38.0\\\", \\\"azureml-tensorboard\\\": \\\"1.38.0\\\", \\\"azureml-telemetry\\\": \\\"1.38.0\\\", \\\"azureml-sdk\\\": \\\"1.38.0\\\", \\\"azureml-samples\\\": \\\"0+unknown\\\", \\\"azureml-responsibleai\\\": \\\"1.38.0\\\", \\\"azureml-pipeline\\\": \\\"1.38.0\\\", \\\"azureml-pipeline-steps\\\": \\\"1.38.0\\\", \\\"azureml-pipeline-core\\\": \\\"1.38.0\\\", \\\"azureml-opendatasets\\\": \\\"1.38.0\\\", \\\"azureml-mlflow\\\": \\\"1.38.0\\\", \\\"azureml-interpret\\\": \\\"1.38.0\\\", \\\"azureml-inference-server-http\\\": \\\"0.4.2\\\", \\\"azureml-explain-model\\\": \\\"1.38.0\\\", \\\"azureml-defaults\\\": \\\"1.38.0\\\", \\\"azureml-dataset-runtime\\\": \\\"1.38.0\\\", \\\"azureml-dataprep\\\": \\\"2.26.0\\\", \\\"azureml-dataprep-rslex\\\": \\\"2.2.0\\\", \\\"azureml-dataprep-native\\\": \\\"38.0.0\\\", \\\"azureml-datadrift\\\": \\\"1.38.0\\\", \\\"azureml-core\\\": \\\"1.38.0\\\", \\\"azureml-contrib-services\\\": \\\"1.38.0\\\", \\\"azureml-contrib-server\\\": \\\"1.38.0\\\", \\\"azureml-contrib-reinforcementlearning\\\": \\\"1.38.0\\\", \\\"azureml-contrib-pipeline-steps\\\": \\\"1.38.0\\\", \\\"azureml-contrib-notebook\\\": \\\"1.38.0\\\", \\\"azureml-contrib-fairness\\\": \\\"1.38.0\\\", \\\"azureml-contrib-dataset\\\": \\\"1.38.0\\\", \\\"azureml-cli-common\\\": \\\"1.38.0\\\", \\\"azureml-automl-core\\\": \\\"1.38.0\\\", \\\"azureml-accel-models\\\": \\\"1.38.0\\\"}\", \"_aml_system_scenario_identification\": \"Remote.Parent\", \"ClientType\": \"SDK\", \"environment_cpu_name\": \"AzureML-AutoML\", \"environment_cpu_label\": \"py36\", \"environment_gpu_name\": \"AzureML-AutoML-GPU\", \"environment_gpu_label\": \"py36\", \"root_attribution\": \"automl\", \"attribution\": \"AutoML\", \"Orchestrator\": \"AutoML\", \"CancelUri\": \"https://southcentralus.api.azureml.ms/jasmine/v1.0/subscriptions/b968fb36-f06a-4c76-a15f-afab68ae7667/resourceGroups/aml-quickstarts-186503/providers/Microsoft.MachineLearningServices/workspaces/quick-starts-ws-186503/experimentids/37a8904a-318d-44cc-997c-56775bb80dbf/cancel/AutoML_dc713a40-c256-4baa-9a14-5b63a407c627\", \"ClientSdkVersion\": \"1.38.0\", \"snapshotId\": \"00000000-0000-0000-0000-000000000000\", \"SetupRunId\": \"AutoML_dc713a40-c256-4baa-9a14-5b63a407c627_setup\", \"SetupRunContainerId\": \"dcid.AutoML_dc713a40-c256-4baa-9a14-5b63a407c627_setup\", \"FeaturizationRunJsonPath\": \"featurizer_container.json\", \"FeaturizationRunId\": \"AutoML_dc713a40-c256-4baa-9a14-5b63a407c627_featurize\", \"ProblemInfoJsonString\": \"{\\\"dataset_num_categorical\\\": 0, \\\"is_sparse\\\": false, \\\"subsampling\\\": false, \\\"has_extra_col\\\": true, \\\"dataset_classes\\\": 6, \\\"dataset_features\\\": 11, \\\"dataset_samples\\\": 1599, \\\"single_frequency_class_detected\\\": false}\", \"ModelExplainRunId\": \"AutoML_dc713a40-c256-4baa-9a14-5b63a407c627_ModelExplain\"}, \"tags\": {\"model_explain_run\": \"best_run\", \"_aml_system_azureml.automlComponent\": \"AutoML\", \"pipeline_id\": \"\", \"score\": \"\", \"predicted_cost\": \"\", \"fit_time\": \"\", \"training_percent\": \"\", \"iteration\": \"\", \"run_preprocessor\": \"\", \"run_algorithm\": \"\", \"dynamic_whitelisting_iterations\": \"<25>;<30>;<35>;<40>;\", \"_aml_system_azureml.automl_early_exit_message\": \"Experiment timeout reached, hence experiment stopped. Current experiment timeout: 0 hour(s) 20 minute(s)\", \"automl_best_child_run_id\": \"AutoML_dc713a40-c256-4baa-9a14-5b63a407c627_43\", \"model_explain_best_run_child_id\": \"AutoML_dc713a40-c256-4baa-9a14-5b63a407c627_43\"}, \"end_time_utc\": \"2022-02-17T20:14:57.619159Z\", \"status\": \"Completed\", \"log_files\": {}, \"log_groups\": [], \"run_duration\": \"0:27:50\", \"run_number\": \"1645127227\", \"run_queued_details\": {\"status\": \"Completed\", \"details\": null}}, \"child_runs\": [{\"run_id\": \"AutoML_dc713a40-c256-4baa-9a14-5b63a407c627_setup\", \"run_number\": 1645127243, \"metric\": null, \"status\": \"Completed\", \"run_type\": \"azureml.scriptrun\", \"training_percent\": null, \"start_time\": \"2022-02-17T19:51:31.323397Z\", \"end_time\": \"2022-02-17T19:52:09.735374Z\", \"created_time\": \"2022-02-17T19:47:22.865914Z\", \"created_time_dt\": \"2022-02-17T19:47:22.865914Z\", \"duration\": \"0:04:46\", \"iteration\": null, \"goal\": null, \"run_name\": \"Completed\", \"run_properties\": null}, {\"run_id\": \"AutoML_dc713a40-c256-4baa-9a14-5b63a407c627_featurize\", \"run_number\": 1645127530, \"metric\": null, \"status\": \"Completed\", \"run_type\": \"automl.featurization\", \"training_percent\": null, \"start_time\": \"2022-02-17T19:52:10.632142Z\", \"end_time\": \"2022-02-17T19:52:53.032625Z\", \"created_time\": \"2022-02-17T19:52:10.255616Z\", \"created_time_dt\": \"2022-02-17T19:52:10.255616Z\", \"duration\": \"0:00:42\", \"iteration\": null, \"goal\": null, \"run_name\": \"Completed\", \"run_properties\": null}, {\"run_id\": \"AutoML_dc713a40-c256-4baa-9a14-5b63a407c627_0\", \"run_number\": 1645127575, \"metric\": null, \"status\": \"Completed\", \"run_type\": null, \"training_percent\": \"100\", \"start_time\": \"2022-02-17T19:53:27.244221Z\", \"end_time\": \"2022-02-17T19:53:38.671031Z\", \"created_time\": \"2022-02-17T19:52:55.254967Z\", \"created_time_dt\": \"2022-02-17T19:52:55.254967Z\", \"duration\": \"0:00:43\", \"iteration\": \"0\", \"goal\": \"AUC_weighted_max\", \"run_name\": \"MaxAbsScaler, LightGBM\", \"run_properties\": \"copy=True\", \"primary_metric\": 0.82338766, \"best_metric\": 0.82338766}, {\"run_id\": \"AutoML_dc713a40-c256-4baa-9a14-5b63a407c627_2\", \"run_number\": 1645127576, \"metric\": null, \"status\": \"Completed\", \"run_type\": null, \"training_percent\": \"100\", \"start_time\": \"2022-02-17T19:53:52.599221Z\", \"end_time\": \"2022-02-17T19:54:01.163309Z\", \"created_time\": \"2022-02-17T19:52:56.581889Z\", \"created_time_dt\": \"2022-02-17T19:52:56.581889Z\", \"duration\": \"0:01:04\", \"iteration\": \"2\", \"goal\": \"AUC_weighted_max\", \"run_name\": \"MaxAbsScaler, ExtremeRandomTrees\", \"run_properties\": \"copy=True\", \"primary_metric\": 0.76507663, \"best_metric\": 0.82338766}, {\"run_id\": \"AutoML_dc713a40-c256-4baa-9a14-5b63a407c627_3\", \"run_number\": 1645127585, \"metric\": null, \"status\": \"Completed\", \"run_type\": null, \"training_percent\": \"100\", \"start_time\": \"2022-02-17T19:54:01.397923Z\", \"end_time\": \"2022-02-17T19:54:15.049698Z\", \"created_time\": \"2022-02-17T19:53:05.13079Z\", \"created_time_dt\": \"2022-02-17T19:53:05.13079Z\", \"duration\": \"0:01:09\", \"iteration\": \"3\", \"goal\": \"AUC_weighted_max\", \"run_name\": \"MaxAbsScaler, RandomForest\", \"run_properties\": \"copy=True\", \"primary_metric\": 0.77196517, \"best_metric\": 0.82338766}, {\"run_id\": \"AutoML_dc713a40-c256-4baa-9a14-5b63a407c627_4\", \"run_number\": 1645127588, \"metric\": null, \"status\": \"Completed\", \"run_type\": null, \"training_percent\": \"100\", \"start_time\": \"2022-02-17T19:54:15.247576Z\", \"end_time\": \"2022-02-17T19:54:23.579684Z\", \"created_time\": \"2022-02-17T19:53:08.172501Z\", \"created_time_dt\": \"2022-02-17T19:53:08.172501Z\", \"duration\": \"0:01:15\", \"iteration\": \"4\", \"goal\": \"AUC_weighted_max\", \"run_name\": \"StandardScalerWrapper, LightGBM\", \"run_properties\": \"\\n    copy=True,\\n    with_mean=False,\\n    with_std=True\\n\", \"primary_metric\": 0.77303142, \"best_metric\": 0.82338766}, {\"run_id\": \"AutoML_dc713a40-c256-4baa-9a14-5b63a407c627_6\", \"run_number\": 1645127589, \"metric\": null, \"status\": \"Completed\", \"run_type\": null, \"training_percent\": \"100\", \"start_time\": \"2022-02-17T19:54:35.044533Z\", \"end_time\": \"2022-02-17T19:54:44.97292Z\", \"created_time\": \"2022-02-17T19:53:09.230402Z\", \"created_time_dt\": \"2022-02-17T19:53:09.230402Z\", \"duration\": \"0:01:35\", \"iteration\": \"6\", \"goal\": \"AUC_weighted_max\", \"run_name\": \"SparseNormalizer, XGBoostClassifier\", \"run_properties\": \"copy=True, norm='max'\", \"primary_metric\": 0.7502622, \"best_metric\": 0.82338766}, {\"run_id\": \"AutoML_dc713a40-c256-4baa-9a14-5b63a407c627_8\", \"run_number\": 1645127590, \"metric\": null, \"status\": \"Completed\", \"run_type\": null, \"training_percent\": \"100\", \"start_time\": \"2022-02-17T19:55:14.567475Z\", \"end_time\": \"2022-02-17T19:55:23.047438Z\", \"created_time\": \"2022-02-17T19:53:10.286503Z\", \"created_time_dt\": \"2022-02-17T19:53:10.286503Z\", \"duration\": \"0:02:12\", \"iteration\": \"8\", \"goal\": \"AUC_weighted_max\", \"run_name\": \"RobustScaler, KNN\", \"run_properties\": \"copy=True, quantile_range=[25, 75], with_centering=False,\\n             with_scaling=True\", \"primary_metric\": 0.84424798, \"best_metric\": 0.84424798}, {\"run_id\": \"AutoML_dc713a40-c256-4baa-9a14-5b63a407c627_10\", \"run_number\": 1645127591, \"metric\": null, \"status\": \"Completed\", \"run_type\": null, \"training_percent\": \"100\", \"start_time\": \"2022-02-17T19:55:32.457244Z\", \"end_time\": \"2022-02-17T19:55:41.91009Z\", \"created_time\": \"2022-02-17T19:53:11.271968Z\", \"created_time_dt\": \"2022-02-17T19:53:11.271968Z\", \"duration\": \"0:02:30\", \"iteration\": \"10\", \"goal\": \"AUC_weighted_max\", \"run_name\": \"StandardScalerWrapper, LogisticRegression\", \"run_properties\": \"\\n    copy=True,\\n    with_mean=True,\\n    with_std=True\\n\", \"primary_metric\": 0.76121177, \"best_metric\": 0.84424798}, {\"run_id\": \"AutoML_dc713a40-c256-4baa-9a14-5b63a407c627_12\", \"run_number\": 1645127592, \"metric\": null, \"status\": \"Completed\", \"run_type\": null, \"training_percent\": \"100\", \"start_time\": \"2022-02-17T19:55:56.914751Z\", \"end_time\": \"2022-02-17T19:56:05.773448Z\", \"created_time\": \"2022-02-17T19:53:12.121344Z\", \"created_time_dt\": \"2022-02-17T19:53:12.121344Z\", \"duration\": \"0:02:53\", \"iteration\": \"12\", \"goal\": \"AUC_weighted_max\", \"run_name\": \"StandardScalerWrapper, XGBoostClassifier\", \"run_properties\": \"\\n    copy=True,\\n    with_mean=False,\\n    with_std=False\\n\", \"primary_metric\": 0.81048139, \"best_metric\": 0.84424798}, {\"run_id\": \"AutoML_dc713a40-c256-4baa-9a14-5b63a407c627_13\", \"run_number\": 1645127593, \"metric\": null, \"status\": \"Completed\", \"run_type\": null, \"training_percent\": \"100\", \"start_time\": \"2022-02-17T19:56:05.955866Z\", \"end_time\": \"2022-02-17T19:56:14.349573Z\", \"created_time\": \"2022-02-17T19:53:12.988639Z\", \"created_time_dt\": \"2022-02-17T19:53:12.988639Z\", \"duration\": \"0:03:01\", \"iteration\": \"13\", \"goal\": \"AUC_weighted_max\", \"run_name\": \"SparseNormalizer, KNN\", \"run_properties\": \"copy=True, norm='max'\", \"primary_metric\": 0.78015246, \"best_metric\": 0.84424798}, {\"run_id\": \"AutoML_dc713a40-c256-4baa-9a14-5b63a407c627_15\", \"run_number\": 1645127594, \"metric\": null, \"status\": \"Completed\", \"run_type\": null, \"training_percent\": \"100\", \"start_time\": \"2022-02-17T20:01:15.350839Z\", \"end_time\": \"2022-02-17T20:01:24.258701Z\", \"created_time\": \"2022-02-17T19:53:13.993571Z\", \"created_time_dt\": \"2022-02-17T19:53:13.993571Z\", \"duration\": \"0:08:10\", \"iteration\": \"15\", \"goal\": \"AUC_weighted_max\", \"run_name\": \"SparseNormalizer, XGBoostClassifier\", \"run_properties\": \"copy=True, norm='max'\", \"primary_metric\": 0.76306952, \"best_metric\": 0.84424798}, {\"run_id\": \"AutoML_dc713a40-c256-4baa-9a14-5b63a407c627_worker_1\", \"run_number\": 1645127595, \"metric\": null, \"status\": \"Completed\", \"run_type\": \"azureml.scriptrun\", \"training_percent\": null, \"start_time\": \"2022-02-17T19:55:20.313417Z\", \"end_time\": \"2022-02-17T19:56:19.444649Z\", \"created_time\": \"2022-02-17T19:53:15.583317Z\", \"created_time_dt\": \"2022-02-17T19:53:15.583317Z\", \"duration\": \"0:03:03\", \"iteration\": null, \"goal\": null, \"run_name\": \"Completed\", \"run_properties\": null}, {\"run_id\": \"AutoML_dc713a40-c256-4baa-9a14-5b63a407c627_worker_2\", \"run_number\": 1645127596, \"metric\": null, \"status\": \"Completed\", \"run_type\": \"azureml.scriptrun\", \"training_percent\": null, \"start_time\": \"2022-02-17T19:55:53.613045Z\", \"end_time\": \"2022-02-17T20:02:17.081655Z\", \"created_time\": \"2022-02-17T19:53:16.190908Z\", \"created_time_dt\": \"2022-02-17T19:53:16.190908Z\", \"duration\": \"0:09:00\", \"iteration\": null, \"goal\": null, \"run_name\": \"Completed\", \"run_properties\": null}, {\"run_id\": \"AutoML_dc713a40-c256-4baa-9a14-5b63a407c627_20\", \"run_number\": 1645128101, \"metric\": null, \"status\": \"Completed\", \"run_type\": \"azureml.scriptrun\", \"training_percent\": \"100\", \"start_time\": \"2022-02-17T20:02:11.350454Z\", \"end_time\": \"2022-02-17T20:02:14.960085Z\", \"created_time\": \"2022-02-17T20:01:40.994778Z\", \"created_time_dt\": \"2022-02-17T20:01:40.994778Z\", \"duration\": \"0:00:33\", \"iteration\": \"20\", \"goal\": \"AUC_weighted_max\", \"run_name\": \"StandardScalerWrapper, XGBoostClassifier\", \"run_properties\": \"\\n    copy=True,\\n    with_mean=False,\\n    with_std=False\\n\", \"primary_metric\": 0.79322984, \"best_metric\": 0.84424798}, {\"run_id\": \"AutoML_dc713a40-c256-4baa-9a14-5b63a407c627_22\", \"run_number\": 1645128137, \"metric\": null, \"status\": \"Completed\", \"run_type\": \"azureml.scriptrun\", \"training_percent\": \"100\", \"start_time\": \"2022-02-17T20:02:43.646182Z\", \"end_time\": \"2022-02-17T20:02:47.24473Z\", \"created_time\": \"2022-02-17T20:02:17.713005Z\", \"created_time_dt\": \"2022-02-17T20:02:17.713005Z\", \"duration\": \"0:00:29\", \"iteration\": \"22\", \"goal\": \"AUC_weighted_max\", \"run_name\": \"MaxAbsScaler, LightGBM\", \"run_properties\": \"copy=True\", \"primary_metric\": 0.80141537, \"best_metric\": 0.84424798}, {\"run_id\": \"AutoML_dc713a40-c256-4baa-9a14-5b63a407c627_24\", \"run_number\": 1645128169, \"metric\": null, \"status\": \"Completed\", \"run_type\": \"azureml.scriptrun\", \"training_percent\": \"100\", \"start_time\": \"2022-02-17T20:04:05.94574Z\", \"end_time\": \"2022-02-17T20:04:09.532527Z\", \"created_time\": \"2022-02-17T20:02:49.296524Z\", \"created_time_dt\": \"2022-02-17T20:02:49.296524Z\", \"duration\": \"0:01:20\", \"iteration\": \"24\", \"goal\": \"AUC_weighted_max\", \"run_name\": \"StandardScalerWrapper, LightGBM\", \"run_properties\": \"\\n    copy=True,\\n    with_mean=False,\\n    with_std=False\\n\", \"primary_metric\": 0.79248086, \"best_metric\": 0.84424798}, {\"run_id\": \"AutoML_dc713a40-c256-4baa-9a14-5b63a407c627_23\", \"run_number\": 1645128170, \"metric\": null, \"status\": \"Completed\", \"run_type\": \"azureml.scriptrun\", \"training_percent\": \"100\", \"start_time\": \"2022-02-17T20:04:22.109906Z\", \"end_time\": \"2022-02-17T20:04:25.865593Z\", \"created_time\": \"2022-02-17T20:02:50.335164Z\", \"created_time_dt\": \"2022-02-17T20:02:50.335164Z\", \"duration\": \"0:01:35\", \"iteration\": \"23\", \"goal\": \"AUC_weighted_max\", \"run_name\": \"StandardScalerWrapper, SVM\", \"run_properties\": \"\\n    copy=True,\\n    with_mean=False,\\n    with_std=True\\n\", \"primary_metric\": 0.26960496, \"best_metric\": 0.84424798}, {\"run_id\": \"AutoML_dc713a40-c256-4baa-9a14-5b63a407c627_25\", \"run_number\": 1645128252, \"metric\": null, \"status\": \"Completed\", \"run_type\": \"azureml.scriptrun\", \"training_percent\": \"100\", \"start_time\": \"2022-02-17T20:04:43.737688Z\", \"end_time\": \"2022-02-17T20:04:47.326051Z\", \"created_time\": \"2022-02-17T20:04:12.392155Z\", \"created_time_dt\": \"2022-02-17T20:04:12.392155Z\", \"duration\": \"0:00:34\", \"iteration\": \"25\", \"goal\": \"AUC_weighted_max\", \"run_name\": \"PCA, KNN\", \"run_properties\": \"copy=True, iterated_power='auto', n_components=0.95, random_state=None,\\n    svd_solver='auto', tol=0.0, whiten=False\", \"primary_metric\": 0.63480906, \"best_metric\": 0.84424798}, {\"run_id\": \"AutoML_dc713a40-c256-4baa-9a14-5b63a407c627_26\", \"run_number\": 1645128268, \"metric\": null, \"status\": \"Completed\", \"run_type\": \"azureml.scriptrun\", \"training_percent\": \"100\", \"start_time\": \"2022-02-17T20:06:14.787614Z\", \"end_time\": \"2022-02-17T20:06:18.416473Z\", \"created_time\": \"2022-02-17T20:04:28.572352Z\", \"created_time_dt\": \"2022-02-17T20:04:28.572352Z\", \"duration\": \"0:01:49\", \"iteration\": \"26\", \"goal\": \"AUC_weighted_max\", \"run_name\": \"StandardScalerWrapper, KNN\", \"run_properties\": \"\\n    copy=True,\\n    with_mean=True,\\n    with_std=False\\n\", \"primary_metric\": 0.7600883, \"best_metric\": 0.84424798}, {\"run_id\": \"AutoML_dc713a40-c256-4baa-9a14-5b63a407c627_27\", \"run_number\": 1645128289, \"metric\": null, \"status\": \"Completed\", \"run_type\": \"azureml.scriptrun\", \"training_percent\": \"100\", \"start_time\": \"2022-02-17T20:06:17.03517Z\", \"end_time\": \"2022-02-17T20:06:20.704417Z\", \"created_time\": \"2022-02-17T20:04:49.188664Z\", \"created_time_dt\": \"2022-02-17T20:04:49.188664Z\", \"duration\": \"0:01:31\", \"iteration\": \"27\", \"goal\": \"AUC_weighted_max\", \"run_name\": \"MinMaxScaler, LightGBM\", \"run_properties\": \"copy=True, feature_range=(0, 1\", \"primary_metric\": 0.77771098, \"best_metric\": 0.84424798}, {\"run_id\": \"AutoML_dc713a40-c256-4baa-9a14-5b63a407c627_28\", \"run_number\": 1645128381, \"metric\": null, \"status\": \"Completed\", \"run_type\": \"azureml.scriptrun\", \"training_percent\": \"100\", \"start_time\": \"2022-02-17T20:06:54.148553Z\", \"end_time\": \"2022-02-17T20:06:57.748823Z\", \"created_time\": \"2022-02-17T20:06:21.501927Z\", \"created_time_dt\": \"2022-02-17T20:06:21.501927Z\", \"duration\": \"0:00:36\", \"iteration\": \"28\", \"goal\": \"AUC_weighted_max\", \"run_name\": \"RobustScaler, KNN\", \"run_properties\": \"copy=True, quantile_range=[25, 75], with_centering=False,\\n             with_scaling=True\", \"primary_metric\": 0.80263695, \"best_metric\": 0.84424798}, {\"run_id\": \"AutoML_dc713a40-c256-4baa-9a14-5b63a407c627_29\", \"run_number\": 1645128384, \"metric\": null, \"status\": \"Completed\", \"run_type\": \"azureml.scriptrun\", \"training_percent\": \"100\", \"start_time\": \"2022-02-17T20:08:10.64964Z\", \"end_time\": \"2022-02-17T20:08:14.269634Z\", \"created_time\": \"2022-02-17T20:06:24.887669Z\", \"created_time_dt\": \"2022-02-17T20:06:24.887669Z\", \"duration\": \"0:01:49\", \"iteration\": \"29\", \"goal\": \"AUC_weighted_max\", \"run_name\": \"StandardScalerWrapper, KNN\", \"run_properties\": \"\\n    copy=True,\\n    with_mean=False,\\n    with_std=False\\n\", \"primary_metric\": 0.79277016, \"best_metric\": 0.84424798}, {\"run_id\": \"AutoML_dc713a40-c256-4baa-9a14-5b63a407c627_30\", \"run_number\": 1645128420, \"metric\": null, \"status\": \"Completed\", \"run_type\": \"azureml.scriptrun\", \"training_percent\": \"100\", \"start_time\": \"2022-02-17T20:08:15.948972Z\", \"end_time\": \"2022-02-17T20:08:19.627205Z\", \"created_time\": \"2022-02-17T20:07:00.765653Z\", \"created_time_dt\": \"2022-02-17T20:07:00.765653Z\", \"duration\": \"0:01:18\", \"iteration\": \"30\", \"goal\": \"AUC_weighted_max\", \"run_name\": \"PCA, KNN\", \"run_properties\": \"copy=True, iterated_power='auto', n_components=0.40578947368421053,\\n    random_state=None, svd_solver='auto', tol=0.0, whiten=True\", \"primary_metric\": 0.59666484, \"best_metric\": 0.84424798}, {\"run_id\": \"AutoML_dc713a40-c256-4baa-9a14-5b63a407c627_31\", \"run_number\": 1645128444, \"metric\": null, \"status\": \"Completed\", \"run_type\": \"azureml.scriptrun\", \"training_percent\": \"100\", \"start_time\": \"2022-02-17T20:08:20.643088Z\", \"end_time\": \"2022-02-17T20:08:24.335863Z\", \"created_time\": \"2022-02-17T20:07:24.872325Z\", \"created_time_dt\": \"2022-02-17T20:07:24.872325Z\", \"duration\": \"0:00:59\", \"iteration\": \"31\", \"goal\": \"AUC_weighted_max\", \"run_name\": \"StandardScalerWrapper, ExtremeRandomTrees\", \"run_properties\": \"\\n    copy=True,\\n    with_mean=False,\\n    with_std=True\\n\", \"primary_metric\": 0.6920973, \"best_metric\": 0.84424798}, {\"run_id\": \"AutoML_dc713a40-c256-4baa-9a14-5b63a407c627_32\", \"run_number\": 1645128498, \"metric\": null, \"status\": \"Completed\", \"run_type\": \"azureml.scriptrun\", \"training_percent\": \"100\", \"start_time\": \"2022-02-17T20:08:47.196671Z\", \"end_time\": \"2022-02-17T20:08:50.791021Z\", \"created_time\": \"2022-02-17T20:08:18.519047Z\", \"created_time_dt\": \"2022-02-17T20:08:18.519047Z\", \"duration\": \"0:00:32\", \"iteration\": \"32\", \"goal\": \"AUC_weighted_max\", \"run_name\": \"StandardScalerWrapper, LightGBM\", \"run_properties\": \"\\n    copy=True,\\n    with_mean=True,\\n    with_std=True\\n\", \"primary_metric\": 0.78639092, \"best_metric\": 0.84424798}, {\"run_id\": \"AutoML_dc713a40-c256-4baa-9a14-5b63a407c627_33\", \"run_number\": 1645128501, \"metric\": null, \"status\": \"Completed\", \"run_type\": \"azureml.scriptrun\", \"training_percent\": \"100\", \"start_time\": \"2022-02-17T20:10:18.997882Z\", \"end_time\": \"2022-02-17T20:10:22.563098Z\", \"created_time\": \"2022-02-17T20:08:21.474549Z\", \"created_time_dt\": \"2022-02-17T20:08:21.474549Z\", \"duration\": \"0:02:01\", \"iteration\": \"33\", \"goal\": \"AUC_weighted_max\", \"run_name\": \"StandardScalerWrapper, SVM\", \"run_properties\": \"\\n    copy=True,\\n    with_mean=False,\\n    with_std=True\\n\", \"primary_metric\": 0.27312567, \"best_metric\": 0.84424798}, {\"run_id\": \"AutoML_dc713a40-c256-4baa-9a14-5b63a407c627_34\", \"run_number\": 1645128507, \"metric\": null, \"status\": \"Completed\", \"run_type\": \"azureml.scriptrun\", \"training_percent\": \"100\", \"start_time\": \"2022-02-17T20:10:19.54896Z\", \"end_time\": \"2022-02-17T20:10:23.222772Z\", \"created_time\": \"2022-02-17T20:08:27.160649Z\", \"created_time_dt\": \"2022-02-17T20:08:27.160649Z\", \"duration\": \"0:01:56\", \"iteration\": \"34\", \"goal\": \"AUC_weighted_max\", \"run_name\": \"MaxAbsScaler, RandomForest\", \"run_properties\": \"copy=True\", \"primary_metric\": 0.76715584, \"best_metric\": 0.84424798}, {\"run_id\": \"AutoML_dc713a40-c256-4baa-9a14-5b63a407c627_35\", \"run_number\": 1645128533, \"metric\": null, \"status\": \"Completed\", \"run_type\": \"azureml.scriptrun\", \"training_percent\": \"100\", \"start_time\": \"2022-02-17T20:10:19.925466Z\", \"end_time\": \"2022-02-17T20:10:23.627223Z\", \"created_time\": \"2022-02-17T20:08:53.536173Z\", \"created_time_dt\": \"2022-02-17T20:08:53.536173Z\", \"duration\": \"0:01:30\", \"iteration\": \"35\", \"goal\": \"AUC_weighted_max\", \"run_name\": \"StandardScalerWrapper, RandomForest\", \"run_properties\": \"\\n    copy=True,\\n    with_mean=False,\\n    with_std=False\\n\", \"primary_metric\": 0.70271411, \"best_metric\": 0.84424798}, {\"run_id\": \"AutoML_dc713a40-c256-4baa-9a14-5b63a407c627_36\", \"run_number\": 1645128625, \"metric\": null, \"status\": \"Completed\", \"run_type\": \"azureml.scriptrun\", \"training_percent\": \"100\", \"start_time\": \"2022-02-17T20:10:48.926502Z\", \"end_time\": \"2022-02-17T20:10:52.509684Z\", \"created_time\": \"2022-02-17T20:10:25.754137Z\", \"created_time_dt\": \"2022-02-17T20:10:25.754137Z\", \"duration\": \"0:00:26\", \"iteration\": \"36\", \"goal\": \"AUC_weighted_max\", \"run_name\": \"RobustScaler, LogisticRegression\", \"run_properties\": \"copy=True, quantile_range=[10, 90], with_centering=True,\\n             with_scaling=True\", \"primary_metric\": 0.76123516, \"best_metric\": 0.84424798}, {\"run_id\": \"AutoML_dc713a40-c256-4baa-9a14-5b63a407c627_38\", \"run_number\": 1645128632, \"metric\": null, \"status\": \"Completed\", \"run_type\": \"azureml.scriptrun\", \"training_percent\": \"100\", \"start_time\": \"2022-02-17T20:12:12.266925Z\", \"end_time\": \"2022-02-17T20:12:15.825397Z\", \"created_time\": \"2022-02-17T20:10:32.494133Z\", \"created_time_dt\": \"2022-02-17T20:10:32.494133Z\", \"duration\": \"0:01:43\", \"iteration\": \"38\", \"goal\": \"AUC_weighted_max\", \"run_name\": \"StandardScalerWrapper, XGBoostClassifier\", \"run_properties\": \"\\n    copy=True,\\n    with_mean=False,\\n    with_std=False\\n\", \"primary_metric\": 0.82793781, \"best_metric\": 0.84424798}, {\"run_id\": \"AutoML_dc713a40-c256-4baa-9a14-5b63a407c627_37\", \"run_number\": 1645128633, \"metric\": null, \"status\": \"Completed\", \"run_type\": \"azureml.scriptrun\", \"training_percent\": \"100\", \"start_time\": \"2022-02-17T20:12:17.415737Z\", \"end_time\": \"2022-02-17T20:12:21.093237Z\", \"created_time\": \"2022-02-17T20:10:33.513742Z\", \"created_time_dt\": \"2022-02-17T20:10:33.513742Z\", \"duration\": \"0:01:47\", \"iteration\": \"37\", \"goal\": \"AUC_weighted_max\", \"run_name\": \"StandardScalerWrapper, LightGBM\", \"run_properties\": \"\\n    copy=True,\\n    with_mean=False,\\n    with_std=False\\n\", \"primary_metric\": 0.77914572, \"best_metric\": 0.84424798}, {\"run_id\": \"AutoML_dc713a40-c256-4baa-9a14-5b63a407c627_39\", \"run_number\": 1645128654, \"metric\": null, \"status\": \"Completed\", \"run_type\": \"azureml.scriptrun\", \"training_percent\": \"100\", \"start_time\": \"2022-02-17T20:12:16.155303Z\", \"end_time\": \"2022-02-17T20:12:20.718149Z\", \"created_time\": \"2022-02-17T20:10:54.608121Z\", \"created_time_dt\": \"2022-02-17T20:10:54.608121Z\", \"duration\": \"0:01:26\", \"iteration\": \"39\", \"goal\": \"AUC_weighted_max\", \"run_name\": \"MinMaxScaler, LightGBM\", \"run_properties\": \"copy=True, feature_range=(0, 1\", \"primary_metric\": 0.74890472, \"best_metric\": 0.84424798}, {\"run_id\": \"AutoML_dc713a40-c256-4baa-9a14-5b63a407c627_40\", \"run_number\": 1645128739, \"metric\": null, \"status\": \"Completed\", \"run_type\": \"azureml.scriptrun\", \"training_percent\": \"100\", \"start_time\": \"2022-02-17T20:12:51.134095Z\", \"end_time\": \"2022-02-17T20:12:54.725427Z\", \"created_time\": \"2022-02-17T20:12:19.755446Z\", \"created_time_dt\": \"2022-02-17T20:12:19.755446Z\", \"duration\": \"0:00:34\", \"iteration\": \"40\", \"goal\": \"AUC_weighted_max\", \"run_name\": \"MinMaxScaler, RandomForest\", \"run_properties\": \"copy=True, feature_range=(0, 1\", \"primary_metric\": 0.6855003, \"best_metric\": 0.84424798}, {\"run_id\": \"AutoML_dc713a40-c256-4baa-9a14-5b63a407c627_41\", \"run_number\": 1645128744, \"metric\": null, \"status\": \"Canceled\", \"run_type\": \"azureml.scriptrun\", \"training_percent\": \"100\", \"start_time\": \"2022-02-17T20:12:56.74431Z\", \"end_time\": \"2022-02-17T20:12:57.114275Z\", \"created_time\": \"2022-02-17T20:12:24.387106Z\", \"created_time_dt\": \"2022-02-17T20:12:24.387106Z\", \"duration\": \"0:00:32\", \"iteration\": \"41\", \"goal\": null, \"run_name\": \"Canceled\", \"run_properties\": null}, {\"run_id\": \"AutoML_dc713a40-c256-4baa-9a14-5b63a407c627_44\", \"run_number\": 1645128783, \"metric\": null, \"status\": \"Completed\", \"run_type\": \"azureml.scriptrun\", \"training_percent\": \"100\", \"start_time\": \"2022-02-17T20:14:46.478672Z\", \"end_time\": \"2022-02-17T20:14:50.116785Z\", \"created_time\": \"2022-02-17T20:13:03.196593Z\", \"created_time_dt\": \"2022-02-17T20:13:03.196593Z\", \"duration\": \"0:01:46\", \"iteration\": \"44\", \"goal\": \"AUC_weighted_max\", \"run_name\": \"StackEnsemble\", \"run_properties\": \"\\n    base_learners=[('21', Pipeline(\\n        memory=None,\\n        steps=[('standardscalerwrapper', StandardScalerWrapper(\\n            copy=True,\\n            with_mean=False,\\n            with_std=False\\n        \", \"primary_metric\": 0.85978725, \"best_metric\": 0.85978725}], \"children_metrics\": {\"categories\": [0], \"series\": {\"f1_score_weighted\": [{\"categories\": [\"0\", \"2\", \"3\", \"4\", \"6\", \"8\", \"10\", \"12\", \"13\", \"15\", \"20\", \"22\", \"23\", \"24\", \"25\", \"26\", \"27\", \"28\", \"29\", \"30\", \"31\", \"32\", \"33\", \"34\", \"35\", \"36\", \"37\", \"38\", \"39\", \"40\", \"44\"], \"mode\": \"markers\", \"name\": \"f1_score_weighted\", \"stepped\": false, \"type\": \"scatter\", \"data\": [0.6542677382660603, 0.529745790740681, 0.5812254690977441, 0.5711547783064274, 0.5702785149098104, 0.6638366595390165, 0.5705526164393594, 0.6472714440190513, 0.5879010616269942, 0.5771998985372934, 0.6063603637233809, 0.6059612829424259, 0.22769163372599807, 0.613128000811185, 0.46052230939600974, 0.5771740635140187, 0.584918500265931, 0.6412962876702645, 0.6089267671048683, 0.4293873553136201, 0.3509469029249154, 0.5935071233865293, 0.22769163372599807, 0.5421935952985627, 0.49083279043287575, 0.5706412742939723, 0.5577235785137852, 0.6501528875261409, 0.5036619387323401, 0.1637243462726203, 0.6704619883723762]}, {\"categories\": [\"0\", \"2\", \"3\", \"4\", \"6\", \"8\", \"10\", \"12\", \"13\", \"15\", \"20\", \"22\", \"23\", \"24\", \"25\", \"26\", \"27\", \"28\", \"29\", \"30\", \"31\", \"32\", \"33\", \"34\", \"35\", \"36\", \"37\", \"38\", \"39\", \"40\", \"44\"], \"mode\": \"lines\", \"name\": \"f1_score_weighted_max\", \"stepped\": true, \"type\": \"scatter\", \"data\": [0.6542677382660603, 0.6542677382660603, 0.6542677382660603, 0.6542677382660603, 0.6542677382660603, 0.6638366595390165, 0.6638366595390165, 0.6638366595390165, 0.6638366595390165, 0.6638366595390165, 0.6638366595390165, 0.6638366595390165, 0.6638366595390165, 0.6638366595390165, 0.6638366595390165, 0.6638366595390165, 0.6638366595390165, 0.6638366595390165, 0.6638366595390165, 0.6638366595390165, 0.6638366595390165, 0.6638366595390165, 0.6638366595390165, 0.6638366595390165, 0.6638366595390165, 0.6638366595390165, 0.6638366595390165, 0.6638366595390165, 0.6638366595390165, 0.6638366595390165, 0.6704619883723762]}], \"recall_score_micro\": [{\"categories\": [\"0\", \"2\", \"3\", \"4\", \"6\", \"8\", \"10\", \"12\", \"13\", \"15\", \"20\", \"22\", \"23\", \"24\", \"25\", \"26\", \"27\", \"28\", \"29\", \"30\", \"31\", \"32\", \"33\", \"34\", \"35\", \"36\", \"37\", \"38\", \"39\", \"40\", \"44\"], \"mode\": \"markers\", \"name\": \"recall_score_micro\", \"stepped\": false, \"type\": \"scatter\", \"data\": [0.66916823014384, 0.5847404627892433, 0.6072545340838024, 0.6022514071294559, 0.590368980612883, 0.681676047529706, 0.5903689806128831, 0.6660412757973734, 0.6035021888680424, 0.5959974984365228, 0.6253908692933082, 0.6341463414634146, 0.3989993746091307, 0.6316447779862414, 0.49718574108818014, 0.5909943714821764, 0.6097560975609756, 0.652908067542214, 0.626641651031895, 0.46216385240775487, 0.3658536585365854, 0.6191369606003753, 0.3989993746091307, 0.5159474671669794, 0.5440900562851781, 0.5903689806128831, 0.6016260162601625, 0.6660412757973734, 0.5590994371482176, 0.14008755472170106, 0.6891807379612258]}, {\"categories\": [\"0\", \"2\", \"3\", \"4\", \"6\", \"8\", \"10\", \"12\", \"13\", \"15\", \"20\", \"22\", \"23\", \"24\", \"25\", \"26\", \"27\", \"28\", \"29\", \"30\", \"31\", \"32\", \"33\", \"34\", \"35\", \"36\", \"37\", \"38\", \"39\", \"40\", \"44\"], \"mode\": \"lines\", \"name\": \"recall_score_micro_max\", \"stepped\": true, \"type\": \"scatter\", \"data\": [0.66916823014384, 0.66916823014384, 0.66916823014384, 0.66916823014384, 0.66916823014384, 0.681676047529706, 0.681676047529706, 0.681676047529706, 0.681676047529706, 0.681676047529706, 0.681676047529706, 0.681676047529706, 0.681676047529706, 0.681676047529706, 0.681676047529706, 0.681676047529706, 0.681676047529706, 0.681676047529706, 0.681676047529706, 0.681676047529706, 0.681676047529706, 0.681676047529706, 0.681676047529706, 0.681676047529706, 0.681676047529706, 0.681676047529706, 0.681676047529706, 0.681676047529706, 0.681676047529706, 0.681676047529706, 0.6891807379612258]}], \"AUC_micro\": [{\"categories\": [\"0\", \"2\", \"3\", \"4\", \"6\", \"8\", \"10\", \"12\", \"13\", \"15\", \"20\", \"22\", \"23\", \"24\", \"25\", \"26\", \"27\", \"28\", \"29\", \"30\", \"31\", \"32\", \"33\", \"34\", \"35\", \"36\", \"37\", \"38\", \"39\", \"40\", \"44\"], \"mode\": \"markers\", \"name\": \"AUC_micro\", \"stepped\": false, \"type\": \"scatter\", \"data\": [0.9243772198149172, 0.9026090415327591, 0.9076758809152531, 0.9054324525060808, 0.8977106939491967, 0.931390749612504, 0.9036029788786847, 0.9176356705117058, 0.8994252974713324, 0.9020167388858186, 0.9121331695348992, 0.9098313087330613, 0.7987701037350972, 0.9141435723781397, 0.8577112571529814, 0.8801437812328766, 0.908660548865555, 0.8908267010220975, 0.90903766073308, 0.8478901564885183, 0.7691688168144489, 0.9097972818377339, 0.7998092147179229, 0.8745445969396913, 0.87938333878937, 0.9037806227391182, 0.9012236775564465, 0.9263707265446158, 0.8887043614266421, 0.6459515621278308, 0.938399116708731]}, {\"categories\": [\"0\", \"2\", \"3\", \"4\", \"6\", \"8\", \"10\", \"12\", \"13\", \"15\", \"20\", \"22\", \"23\", \"24\", \"25\", \"26\", \"27\", \"28\", \"29\", \"30\", \"31\", \"32\", \"33\", \"34\", \"35\", \"36\", \"37\", \"38\", \"39\", \"40\", \"44\"], \"mode\": \"lines\", \"name\": \"AUC_micro_max\", \"stepped\": true, \"type\": \"scatter\", \"data\": [0.9243772198149172, 0.9243772198149172, 0.9243772198149172, 0.9243772198149172, 0.9243772198149172, 0.931390749612504, 0.931390749612504, 0.931390749612504, 0.931390749612504, 0.931390749612504, 0.931390749612504, 0.931390749612504, 0.931390749612504, 0.931390749612504, 0.931390749612504, 0.931390749612504, 0.931390749612504, 0.931390749612504, 0.931390749612504, 0.931390749612504, 0.931390749612504, 0.931390749612504, 0.931390749612504, 0.931390749612504, 0.931390749612504, 0.931390749612504, 0.931390749612504, 0.931390749612504, 0.931390749612504, 0.931390749612504, 0.938399116708731]}], \"precision_score_weighted\": [{\"categories\": [\"0\", \"2\", \"3\", \"4\", \"6\", \"8\", \"10\", \"12\", \"13\", \"15\", \"20\", \"22\", \"23\", \"24\", \"25\", \"26\", \"27\", \"28\", \"29\", \"30\", \"31\", \"32\", \"33\", \"34\", \"35\", \"36\", \"37\", \"38\", \"39\", \"40\", \"44\"], \"mode\": \"markers\", \"name\": \"precision_score_weighted\", \"stepped\": false, \"type\": \"scatter\", \"data\": [0.6439848853340701, 0.4861793275306461, 0.5751248248220432, 0.5777868934463861, 0.5659984557212362, 0.6568255738052177, 0.573342088913491, 0.658009376487148, 0.5917369114803935, 0.5722355407315048, 0.5957824602602556, 0.6150240667940149, 0.15933739074726583, 0.6006279744283983, 0.4482266801579315, 0.5734606665291063, 0.576931796016582, 0.6347728949224458, 0.61051539552364, 0.4307167437902997, 0.5613642005392516, 0.5896430463865744, 0.15933739074726583, 0.5899176991430228, 0.4531908170843933, 0.5733934975947051, 0.5944679969769813, 0.6393974430288075, 0.4645139946062695, 0.2892818655254205, 0.6642975907100258]}, {\"categories\": [\"0\", \"2\", \"3\", \"4\", \"6\", \"8\", \"10\", \"12\", \"13\", \"15\", \"20\", \"22\", \"23\", \"24\", \"25\", \"26\", \"27\", \"28\", \"29\", \"30\", \"31\", \"32\", \"33\", \"34\", \"35\", \"36\", \"37\", \"38\", \"39\", \"40\", \"44\"], \"mode\": \"lines\", \"name\": \"precision_score_weighted_max\", \"stepped\": true, \"type\": \"scatter\", \"data\": [0.6439848853340701, 0.6439848853340701, 0.6439848853340701, 0.6439848853340701, 0.6439848853340701, 0.6568255738052177, 0.6568255738052177, 0.658009376487148, 0.658009376487148, 0.658009376487148, 0.658009376487148, 0.658009376487148, 0.658009376487148, 0.658009376487148, 0.658009376487148, 0.658009376487148, 0.658009376487148, 0.658009376487148, 0.658009376487148, 0.658009376487148, 0.658009376487148, 0.658009376487148, 0.658009376487148, 0.658009376487148, 0.658009376487148, 0.658009376487148, 0.658009376487148, 0.658009376487148, 0.658009376487148, 0.658009376487148, 0.6642975907100258]}], \"log_loss\": [{\"categories\": [\"0\", \"2\", \"3\", \"4\", \"6\", \"8\", \"10\", \"12\", \"13\", \"15\", \"20\", \"22\", \"23\", \"24\", \"25\", \"26\", \"27\", \"28\", \"29\", \"30\", \"31\", \"32\", \"33\", \"34\", \"35\", \"36\", \"37\", \"38\", \"39\", \"40\", \"44\"], \"mode\": \"markers\", \"name\": \"log_loss\", \"stepped\": false, \"type\": \"scatter\", \"data\": [0.9922734149550395, 0.982120764140023, 0.9769284105815474, 0.9702272815447271, 1.2519120653110745, 1.3722406831436589, 0.9757589956575267, 1.186076525070309, 2.5354392839375524, 1.2451105989739035, 0.9804433562388373, 0.9786679625638232, 1.1911376070854898, 0.9133529634156489, 2.0319225038180644, 3.9457566912039574, 0.9472367305886079, 4.1940205203592305, 2.133570405585961, 1.9323139592799452, 1.7409631864922988, 0.9464524556671194, 1.1903025517978139, 1.2133710493786052, 1.0754604391507872, 0.9733473380371475, 1.0092670079209551, 0.8592779702793246, 1.0616384461128598, 1.6900166502622316, 0.7821441682146576]}, {\"categories\": [\"0\", \"2\", \"3\", \"4\", \"6\", \"8\", \"10\", \"12\", \"13\", \"15\", \"20\", \"22\", \"23\", \"24\", \"25\", \"26\", \"27\", \"28\", \"29\", \"30\", \"31\", \"32\", \"33\", \"34\", \"35\", \"36\", \"37\", \"38\", \"39\", \"40\", \"44\"], \"mode\": \"lines\", \"name\": \"log_loss_min\", \"stepped\": true, \"type\": \"scatter\", \"data\": [0.9922734149550395, 0.982120764140023, 0.9769284105815474, 0.9702272815447271, 0.9702272815447271, 0.9702272815447271, 0.9702272815447271, 0.9702272815447271, 0.9702272815447271, 0.9702272815447271, 0.9702272815447271, 0.9702272815447271, 0.9702272815447271, 0.9133529634156489, 0.9133529634156489, 0.9133529634156489, 0.9133529634156489, 0.9133529634156489, 0.9133529634156489, 0.9133529634156489, 0.9133529634156489, 0.9133529634156489, 0.9133529634156489, 0.9133529634156489, 0.9133529634156489, 0.9133529634156489, 0.9133529634156489, 0.8592779702793246, 0.8592779702793246, 0.8592779702793246, 0.7821441682146576]}], \"recall_score_weighted\": [{\"categories\": [\"0\", \"2\", \"3\", \"4\", \"6\", \"8\", \"10\", \"12\", \"13\", \"15\", \"20\", \"22\", \"23\", \"24\", \"25\", \"26\", \"27\", \"28\", \"29\", \"30\", \"31\", \"32\", \"33\", \"34\", \"35\", \"36\", \"37\", \"38\", \"39\", \"40\", \"44\"], \"mode\": \"markers\", \"name\": \"recall_score_weighted\", \"stepped\": false, \"type\": \"scatter\", \"data\": [0.66916823014384, 0.5847404627892433, 0.6072545340838024, 0.6022514071294559, 0.590368980612883, 0.681676047529706, 0.5903689806128831, 0.6660412757973734, 0.6035021888680424, 0.5959974984365228, 0.6253908692933082, 0.6341463414634146, 0.3989993746091307, 0.6316447779862414, 0.49718574108818014, 0.5909943714821764, 0.6097560975609756, 0.652908067542214, 0.626641651031895, 0.46216385240775487, 0.3658536585365854, 0.6191369606003753, 0.3989993746091307, 0.5159474671669794, 0.5440900562851781, 0.5903689806128831, 0.6016260162601625, 0.6660412757973734, 0.5590994371482176, 0.14008755472170106, 0.6891807379612258]}, {\"categories\": [\"0\", \"2\", \"3\", \"4\", \"6\", \"8\", \"10\", \"12\", \"13\", \"15\", \"20\", \"22\", \"23\", \"24\", \"25\", \"26\", \"27\", \"28\", \"29\", \"30\", \"31\", \"32\", \"33\", \"34\", \"35\", \"36\", \"37\", \"38\", \"39\", \"40\", \"44\"], \"mode\": \"lines\", \"name\": \"recall_score_weighted_max\", \"stepped\": true, \"type\": \"scatter\", \"data\": [0.66916823014384, 0.66916823014384, 0.66916823014384, 0.66916823014384, 0.66916823014384, 0.681676047529706, 0.681676047529706, 0.681676047529706, 0.681676047529706, 0.681676047529706, 0.681676047529706, 0.681676047529706, 0.681676047529706, 0.681676047529706, 0.681676047529706, 0.681676047529706, 0.681676047529706, 0.681676047529706, 0.681676047529706, 0.681676047529706, 0.681676047529706, 0.681676047529706, 0.681676047529706, 0.681676047529706, 0.681676047529706, 0.681676047529706, 0.681676047529706, 0.681676047529706, 0.681676047529706, 0.681676047529706, 0.6891807379612258]}], \"accuracy\": [{\"categories\": [\"0\", \"2\", \"3\", \"4\", \"6\", \"8\", \"10\", \"12\", \"13\", \"15\", \"20\", \"22\", \"23\", \"24\", \"25\", \"26\", \"27\", \"28\", \"29\", \"30\", \"31\", \"32\", \"33\", \"34\", \"35\", \"36\", \"37\", \"38\", \"39\", \"40\", \"44\"], \"mode\": \"markers\", \"name\": \"accuracy\", \"stepped\": false, \"type\": \"scatter\", \"data\": [0.66916823014384, 0.5847404627892433, 0.6072545340838024, 0.6022514071294559, 0.590368980612883, 0.681676047529706, 0.5903689806128831, 0.6660412757973734, 0.6035021888680424, 0.5959974984365228, 0.6253908692933082, 0.6341463414634146, 0.3989993746091307, 0.6316447779862414, 0.49718574108818014, 0.5909943714821764, 0.6097560975609756, 0.652908067542214, 0.626641651031895, 0.46216385240775487, 0.3658536585365854, 0.6191369606003753, 0.3989993746091307, 0.5159474671669794, 0.5440900562851781, 0.5903689806128831, 0.6016260162601625, 0.6660412757973734, 0.5590994371482176, 0.14008755472170106, 0.6891807379612258]}, {\"categories\": [\"0\", \"2\", \"3\", \"4\", \"6\", \"8\", \"10\", \"12\", \"13\", \"15\", \"20\", \"22\", \"23\", \"24\", \"25\", \"26\", \"27\", \"28\", \"29\", \"30\", \"31\", \"32\", \"33\", \"34\", \"35\", \"36\", \"37\", \"38\", \"39\", \"40\", \"44\"], \"mode\": \"lines\", \"name\": \"accuracy_max\", \"stepped\": true, \"type\": \"scatter\", \"data\": [0.66916823014384, 0.66916823014384, 0.66916823014384, 0.66916823014384, 0.66916823014384, 0.681676047529706, 0.681676047529706, 0.681676047529706, 0.681676047529706, 0.681676047529706, 0.681676047529706, 0.681676047529706, 0.681676047529706, 0.681676047529706, 0.681676047529706, 0.681676047529706, 0.681676047529706, 0.681676047529706, 0.681676047529706, 0.681676047529706, 0.681676047529706, 0.681676047529706, 0.681676047529706, 0.681676047529706, 0.681676047529706, 0.681676047529706, 0.681676047529706, 0.681676047529706, 0.681676047529706, 0.681676047529706, 0.6891807379612258]}], \"f1_score_macro\": [{\"categories\": [\"0\", \"2\", \"3\", \"4\", \"6\", \"8\", \"10\", \"12\", \"13\", \"15\", \"20\", \"22\", \"23\", \"24\", \"25\", \"26\", \"27\", \"28\", \"29\", \"30\", \"31\", \"32\", \"33\", \"34\", \"35\", \"36\", \"37\", \"38\", \"39\", \"40\", \"44\"], \"mode\": \"markers\", \"name\": \"f1_score_macro\", \"stepped\": false, \"type\": \"scatter\", \"data\": [0.3680006552909443, 0.21339669918611273, 0.2757684187598974, 0.2641732516337057, 0.2772606992408782, 0.3631098686450704, 0.305936465887969, 0.33334199236598905, 0.32828384793096693, 0.2808312052336695, 0.2983802615358621, 0.290089529318764, 0.09505118591537721, 0.3033832346848329, 0.19528323416759483, 0.3203468943724929, 0.2784427000905143, 0.35659168608148106, 0.33740396772498443, 0.18560534512958438, 0.2353219434592082, 0.28340509368309924, 0.09505118591537721, 0.31741049449544906, 0.19784600178277736, 0.30936742305855974, 0.24069311710510888, 0.3479378321261189, 0.20297229411484188, 0.0955082675363278, 0.3649224561216644]}, {\"categories\": [\"0\", \"2\", \"3\", \"4\", \"6\", \"8\", \"10\", \"12\", \"13\", \"15\", \"20\", \"22\", \"23\", \"24\", \"25\", \"26\", \"27\", \"28\", \"29\", \"30\", \"31\", \"32\", \"33\", \"34\", \"35\", \"36\", \"37\", \"38\", \"39\", \"40\", \"44\"], \"mode\": \"lines\", \"name\": \"f1_score_macro_max\", \"stepped\": true, \"type\": \"scatter\", \"data\": [0.3680006552909443, 0.3680006552909443, 0.3680006552909443, 0.3680006552909443, 0.3680006552909443, 0.3680006552909443, 0.3680006552909443, 0.3680006552909443, 0.3680006552909443, 0.3680006552909443, 0.3680006552909443, 0.3680006552909443, 0.3680006552909443, 0.3680006552909443, 0.3680006552909443, 0.3680006552909443, 0.3680006552909443, 0.3680006552909443, 0.3680006552909443, 0.3680006552909443, 0.3680006552909443, 0.3680006552909443, 0.3680006552909443, 0.3680006552909443, 0.3680006552909443, 0.3680006552909443, 0.3680006552909443, 0.3680006552909443, 0.3680006552909443, 0.3680006552909443, 0.3680006552909443]}], \"precision_score_micro\": [{\"categories\": [\"0\", \"2\", \"3\", \"4\", \"6\", \"8\", \"10\", \"12\", \"13\", \"15\", \"20\", \"22\", \"23\", \"24\", \"25\", \"26\", \"27\", \"28\", \"29\", \"30\", \"31\", \"32\", \"33\", \"34\", \"35\", \"36\", \"37\", \"38\", \"39\", \"40\", \"44\"], \"mode\": \"markers\", \"name\": \"precision_score_micro\", \"stepped\": false, \"type\": \"scatter\", \"data\": [0.66916823014384, 0.5847404627892433, 0.6072545340838024, 0.6022514071294559, 0.590368980612883, 0.681676047529706, 0.5903689806128831, 0.6660412757973734, 0.6035021888680424, 0.5959974984365228, 0.6253908692933082, 0.6341463414634146, 0.3989993746091307, 0.6316447779862414, 0.49718574108818014, 0.5909943714821764, 0.6097560975609756, 0.652908067542214, 0.626641651031895, 0.46216385240775487, 0.3658536585365854, 0.6191369606003753, 0.3989993746091307, 0.5159474671669794, 0.5440900562851781, 0.5903689806128831, 0.6016260162601625, 0.6660412757973734, 0.5590994371482176, 0.14008755472170106, 0.6891807379612258]}, {\"categories\": [\"0\", \"2\", \"3\", \"4\", \"6\", \"8\", \"10\", \"12\", \"13\", \"15\", \"20\", \"22\", \"23\", \"24\", \"25\", \"26\", \"27\", \"28\", \"29\", \"30\", \"31\", \"32\", \"33\", \"34\", \"35\", \"36\", \"37\", \"38\", \"39\", \"40\", \"44\"], \"mode\": \"lines\", \"name\": \"precision_score_micro_max\", \"stepped\": true, \"type\": \"scatter\", \"data\": [0.66916823014384, 0.66916823014384, 0.66916823014384, 0.66916823014384, 0.66916823014384, 0.681676047529706, 0.681676047529706, 0.681676047529706, 0.681676047529706, 0.681676047529706, 0.681676047529706, 0.681676047529706, 0.681676047529706, 0.681676047529706, 0.681676047529706, 0.681676047529706, 0.681676047529706, 0.681676047529706, 0.681676047529706, 0.681676047529706, 0.681676047529706, 0.681676047529706, 0.681676047529706, 0.681676047529706, 0.681676047529706, 0.681676047529706, 0.681676047529706, 0.681676047529706, 0.681676047529706, 0.681676047529706, 0.6891807379612258]}], \"weighted_accuracy\": [{\"categories\": [\"0\", \"2\", \"3\", \"4\", \"6\", \"8\", \"10\", \"12\", \"13\", \"15\", \"20\", \"22\", \"23\", \"24\", \"25\", \"26\", \"27\", \"28\", \"29\", \"30\", \"31\", \"32\", \"33\", \"34\", \"35\", \"36\", \"37\", \"38\", \"39\", \"40\", \"44\"], \"mode\": \"markers\", \"name\": \"weighted_accuracy\", \"stepped\": false, \"type\": \"scatter\", \"data\": [0.7203555212340068, 0.6761215073258092, 0.6775246764406057, 0.6779326087999927, 0.6506663871874186, 0.7369597233996954, 0.6511714128066496, 0.725876294648177, 0.6530622063227748, 0.6560859327015706, 0.6846802960449597, 0.7069346052357118, 0.4456289401388713, 0.688919139022388, 0.5695928887014962, 0.6358127164334227, 0.6785161099268701, 0.6959570250029316, 0.6784792487877964, 0.5281897917518089, 0.3404816010968416, 0.6890559386420917, 0.4456289401388713, 0.5309374445407716, 0.6284592957196751, 0.6511281150464395, 0.6876705740030077, 0.7170850597099071, 0.6462376623294115, 0.1408704356274548, 0.7450061576477399]}, {\"categories\": [\"0\", \"2\", \"3\", \"4\", \"6\", \"8\", \"10\", \"12\", \"13\", \"15\", \"20\", \"22\", \"23\", \"24\", \"25\", \"26\", \"27\", \"28\", \"29\", \"30\", \"31\", \"32\", \"33\", \"34\", \"35\", \"36\", \"37\", \"38\", \"39\", \"40\", \"44\"], \"mode\": \"lines\", \"name\": \"weighted_accuracy_max\", \"stepped\": true, \"type\": \"scatter\", \"data\": [0.7203555212340068, 0.7203555212340068, 0.7203555212340068, 0.7203555212340068, 0.7203555212340068, 0.7369597233996954, 0.7369597233996954, 0.7369597233996954, 0.7369597233996954, 0.7369597233996954, 0.7369597233996954, 0.7369597233996954, 0.7369597233996954, 0.7369597233996954, 0.7369597233996954, 0.7369597233996954, 0.7369597233996954, 0.7369597233996954, 0.7369597233996954, 0.7369597233996954, 0.7369597233996954, 0.7369597233996954, 0.7369597233996954, 0.7369597233996954, 0.7369597233996954, 0.7369597233996954, 0.7369597233996954, 0.7369597233996954, 0.7369597233996954, 0.7369597233996954, 0.7450061576477399]}], \"f1_score_micro\": [{\"categories\": [\"0\", \"2\", \"3\", \"4\", \"6\", \"8\", \"10\", \"12\", \"13\", \"15\", \"20\", \"22\", \"23\", \"24\", \"25\", \"26\", \"27\", \"28\", \"29\", \"30\", \"31\", \"32\", \"33\", \"34\", \"35\", \"36\", \"37\", \"38\", \"39\", \"40\", \"44\"], \"mode\": \"markers\", \"name\": \"f1_score_micro\", \"stepped\": false, \"type\": \"scatter\", \"data\": [0.66916823014384, 0.5847404627892433, 0.6072545340838024, 0.6022514071294559, 0.590368980612883, 0.681676047529706, 0.5903689806128831, 0.6660412757973734, 0.6035021888680424, 0.5959974984365228, 0.6253908692933082, 0.6341463414634146, 0.3989993746091307, 0.6316447779862414, 0.49718574108818014, 0.5909943714821764, 0.6097560975609756, 0.652908067542214, 0.626641651031895, 0.46216385240775487, 0.3658536585365853, 0.6191369606003753, 0.3989993746091307, 0.5159474671669794, 0.5440900562851781, 0.5903689806128831, 0.6016260162601625, 0.6660412757973734, 0.5590994371482176, 0.14008755472170106, 0.6891807379612258]}, {\"categories\": [\"0\", \"2\", \"3\", \"4\", \"6\", \"8\", \"10\", \"12\", \"13\", \"15\", \"20\", \"22\", \"23\", \"24\", \"25\", \"26\", \"27\", \"28\", \"29\", \"30\", \"31\", \"32\", \"33\", \"34\", \"35\", \"36\", \"37\", \"38\", \"39\", \"40\", \"44\"], \"mode\": \"lines\", \"name\": \"f1_score_micro_max\", \"stepped\": true, \"type\": \"scatter\", \"data\": [0.66916823014384, 0.66916823014384, 0.66916823014384, 0.66916823014384, 0.66916823014384, 0.681676047529706, 0.681676047529706, 0.681676047529706, 0.681676047529706, 0.681676047529706, 0.681676047529706, 0.681676047529706, 0.681676047529706, 0.681676047529706, 0.681676047529706, 0.681676047529706, 0.681676047529706, 0.681676047529706, 0.681676047529706, 0.681676047529706, 0.681676047529706, 0.681676047529706, 0.681676047529706, 0.681676047529706, 0.681676047529706, 0.681676047529706, 0.681676047529706, 0.681676047529706, 0.681676047529706, 0.681676047529706, 0.6891807379612258]}], \"average_precision_score_macro\": [{\"categories\": [\"0\", \"2\", \"3\", \"4\", \"6\", \"8\", \"10\", \"12\", \"13\", \"15\", \"20\", \"22\", \"23\", \"24\", \"25\", \"26\", \"27\", \"28\", \"29\", \"30\", \"31\", \"32\", \"33\", \"34\", \"35\", \"36\", \"37\", \"38\", \"39\", \"40\", \"44\"], \"mode\": \"markers\", \"name\": \"average_precision_score_macro\", \"stepped\": false, \"type\": \"scatter\", \"data\": [0.42516959343261007, 0.35449743969938, 0.37110876167534684, 0.3974138683300889, 0.37598153130109074, 0.44783124431889587, 0.37151952497737045, 0.4110546089366152, 0.38111559883536955, 0.33994175794970105, 0.38452095435339556, 0.39595217213569717, 0.12163966858087766, 0.3720686109540429, 0.23253897164738893, 0.3701423906876787, 0.35994297019801985, 0.38216156226484305, 0.39954527156518593, 0.2131993022845835, 0.3313129833931157, 0.37002010544695074, 0.12265080762118287, 0.3767928365012127, 0.26567052685726034, 0.37188604522958585, 0.380610526822942, 0.4433776373506722, 0.33989293099723067, 0.27333814003769646, 0.4792237660497946]}, {\"categories\": [\"0\", \"2\", \"3\", \"4\", \"6\", \"8\", \"10\", \"12\", \"13\", \"15\", \"20\", \"22\", \"23\", \"24\", \"25\", \"26\", \"27\", \"28\", \"29\", \"30\", \"31\", \"32\", \"33\", \"34\", \"35\", \"36\", \"37\", \"38\", \"39\", \"40\", \"44\"], \"mode\": \"lines\", \"name\": \"average_precision_score_macro_max\", \"stepped\": true, \"type\": \"scatter\", \"data\": [0.42516959343261007, 0.42516959343261007, 0.42516959343261007, 0.42516959343261007, 0.42516959343261007, 0.44783124431889587, 0.44783124431889587, 0.44783124431889587, 0.44783124431889587, 0.44783124431889587, 0.44783124431889587, 0.44783124431889587, 0.44783124431889587, 0.44783124431889587, 0.44783124431889587, 0.44783124431889587, 0.44783124431889587, 0.44783124431889587, 0.44783124431889587, 0.44783124431889587, 0.44783124431889587, 0.44783124431889587, 0.44783124431889587, 0.44783124431889587, 0.44783124431889587, 0.44783124431889587, 0.44783124431889587, 0.44783124431889587, 0.44783124431889587, 0.44783124431889587, 0.4792237660497946]}], \"balanced_accuracy\": [{\"categories\": [\"0\", \"2\", \"3\", \"4\", \"6\", \"8\", \"10\", \"12\", \"13\", \"15\", \"20\", \"22\", \"23\", \"24\", \"25\", \"26\", \"27\", \"28\", \"29\", \"30\", \"31\", \"32\", \"33\", \"34\", \"35\", \"36\", \"37\", \"38\", \"39\", \"40\", \"44\"], \"mode\": \"markers\", \"name\": \"balanced_accuracy\", \"stepped\": false, \"type\": \"scatter\", \"data\": [0.3588050963818718, 0.23612851531936505, 0.2753935646611631, 0.26528521906804176, 0.27551807772727255, 0.35050801143168564, 0.31405518620336986, 0.32560838509443446, 0.3135193098029669, 0.27885262559061247, 0.29758329726911, 0.2869681846974986, 0.16666666666666666, 0.3037107307114356, 0.20706020728219246, 0.3095463386317689, 0.27788128009401664, 0.3506035874241502, 0.3224501171760355, 0.19400224331500363, 0.37706461239684735, 0.2818060667660009, 0.16666666666666666, 0.3828677429989878, 0.21999581196319296, 0.3141565699374352, 0.25182532731434204, 0.3410616642039191, 0.22591425329708345, 0.26308577539061595, 0.3537851425769128]}, {\"categories\": [\"0\", \"2\", \"3\", \"4\", \"6\", \"8\", \"10\", \"12\", \"13\", \"15\", \"20\", \"22\", \"23\", \"24\", \"25\", \"26\", \"27\", \"28\", \"29\", \"30\", \"31\", \"32\", \"33\", \"34\", \"35\", \"36\", \"37\", \"38\", \"39\", \"40\", \"44\"], \"mode\": \"lines\", \"name\": \"balanced_accuracy_max\", \"stepped\": true, \"type\": \"scatter\", \"data\": [0.3588050963818718, 0.3588050963818718, 0.3588050963818718, 0.3588050963818718, 0.3588050963818718, 0.3588050963818718, 0.3588050963818718, 0.3588050963818718, 0.3588050963818718, 0.3588050963818718, 0.3588050963818718, 0.3588050963818718, 0.3588050963818718, 0.3588050963818718, 0.3588050963818718, 0.3588050963818718, 0.3588050963818718, 0.3588050963818718, 0.3588050963818718, 0.3588050963818718, 0.37706461239684735, 0.37706461239684735, 0.37706461239684735, 0.3828677429989878, 0.3828677429989878, 0.3828677429989878, 0.3828677429989878, 0.3828677429989878, 0.3828677429989878, 0.3828677429989878, 0.3828677429989878]}], \"AUC_macro\": [{\"categories\": [\"0\", \"2\", \"3\", \"4\", \"6\", \"8\", \"10\", \"12\", \"13\", \"15\", \"20\", \"22\", \"23\", \"24\", \"25\", \"26\", \"27\", \"28\", \"29\", \"30\", \"31\", \"32\", \"33\", \"34\", \"35\", \"36\", \"37\", \"38\", \"39\", \"40\", \"44\"], \"mode\": \"markers\", \"name\": \"AUC_macro\", \"stepped\": false, \"type\": \"scatter\", \"data\": [0.8292887765972661, 0.814326616882474, 0.8013765781882607, 0.8130700092997181, 0.7517489018972725, 0.7972297885341012, 0.8125248131501387, 0.7773578663688636, 0.6936515858167501, 0.7649707830864854, 0.7828443112895637, 0.7965241422236318, 0.20566393176010223, 0.7648165700006021, 0.600643442079093, 0.6661775683620085, 0.7892983463403601, 0.7070570074145243, 0.7045349592653606, 0.5903547989354698, 0.7658181901894062, 0.791398673636968, 0.20685052515341706, 0.7866475922994948, 0.7252648650092951, 0.8108979329146749, 0.7961034821643692, 0.8481853327685714, 0.7597516388458398, 0.7136397512170337, 0.8795189245435849]}, {\"categories\": [\"0\", \"2\", \"3\", \"4\", \"6\", \"8\", \"10\", \"12\", \"13\", \"15\", \"20\", \"22\", \"23\", \"24\", \"25\", \"26\", \"27\", \"28\", \"29\", \"30\", \"31\", \"32\", \"33\", \"34\", \"35\", \"36\", \"37\", \"38\", \"39\", \"40\", \"44\"], \"mode\": \"lines\", \"name\": \"AUC_macro_max\", \"stepped\": true, \"type\": \"scatter\", \"data\": [0.8292887765972661, 0.8292887765972661, 0.8292887765972661, 0.8292887765972661, 0.8292887765972661, 0.8292887765972661, 0.8292887765972661, 0.8292887765972661, 0.8292887765972661, 0.8292887765972661, 0.8292887765972661, 0.8292887765972661, 0.8292887765972661, 0.8292887765972661, 0.8292887765972661, 0.8292887765972661, 0.8292887765972661, 0.8292887765972661, 0.8292887765972661, 0.8292887765972661, 0.8292887765972661, 0.8292887765972661, 0.8292887765972661, 0.8292887765972661, 0.8292887765972661, 0.8292887765972661, 0.8292887765972661, 0.8481853327685714, 0.8481853327685714, 0.8481853327685714, 0.8795189245435849]}], \"average_precision_score_weighted\": [{\"categories\": [\"0\", \"2\", \"3\", \"4\", \"6\", \"8\", \"10\", \"12\", \"13\", \"15\", \"20\", \"22\", \"23\", \"24\", \"25\", \"26\", \"27\", \"28\", \"29\", \"30\", \"31\", \"32\", \"33\", \"34\", \"35\", \"36\", \"37\", \"38\", \"39\", \"40\", \"44\"], \"mode\": \"markers\", \"name\": \"average_precision_score_weighted\", \"stepped\": false, \"type\": \"scatter\", \"data\": [0.6900185504264621, 0.6158799366799661, 0.6268484617593404, 0.6263033754200612, 0.6130980496727688, 0.7505458959135595, 0.6021119738993979, 0.6895163563849173, 0.6848756708107434, 0.6227112515980984, 0.6506713805967317, 0.6661715775989578, 0.2598796893329556, 0.6486174303316385, 0.4787117125896539, 0.6563022838359509, 0.6290164103661371, 0.6800412350365903, 0.707510313297329, 0.4455956215825599, 0.5436908272814006, 0.6410871320033684, 0.2627912789660544, 0.6268737977583442, 0.5087399295370166, 0.6023713946375002, 0.6368247642113226, 0.7006719410522022, 0.5902779900445597, 0.5082669556654289, 0.7663603246206973]}, {\"categories\": [\"0\", \"2\", \"3\", \"4\", \"6\", \"8\", \"10\", \"12\", \"13\", \"15\", \"20\", \"22\", \"23\", \"24\", \"25\", \"26\", \"27\", \"28\", \"29\", \"30\", \"31\", \"32\", \"33\", \"34\", \"35\", \"36\", \"37\", \"38\", \"39\", \"40\", \"44\"], \"mode\": \"lines\", \"name\": \"average_precision_score_weighted_max\", \"stepped\": true, \"type\": \"scatter\", \"data\": [0.6900185504264621, 0.6900185504264621, 0.6900185504264621, 0.6900185504264621, 0.6900185504264621, 0.7505458959135595, 0.7505458959135595, 0.7505458959135595, 0.7505458959135595, 0.7505458959135595, 0.7505458959135595, 0.7505458959135595, 0.7505458959135595, 0.7505458959135595, 0.7505458959135595, 0.7505458959135595, 0.7505458959135595, 0.7505458959135595, 0.7505458959135595, 0.7505458959135595, 0.7505458959135595, 0.7505458959135595, 0.7505458959135595, 0.7505458959135595, 0.7505458959135595, 0.7505458959135595, 0.7505458959135595, 0.7505458959135595, 0.7505458959135595, 0.7505458959135595, 0.7663603246206973]}], \"precision_score_macro\": [{\"categories\": [\"0\", \"2\", \"3\", \"4\", \"6\", \"8\", \"10\", \"12\", \"13\", \"15\", \"20\", \"22\", \"23\", \"24\", \"25\", \"26\", \"27\", \"28\", \"29\", \"30\", \"31\", \"32\", \"33\", \"34\", \"35\", \"36\", \"37\", \"38\", \"39\", \"40\", \"44\"], \"mode\": \"markers\", \"name\": \"precision_score_macro\", \"stepped\": false, \"type\": \"scatter\", \"data\": [0.3896973792040239, 0.19543265090710346, 0.29765123246206526, 0.30614546678656657, 0.29575545783329343, 0.4481882434777078, 0.36916553291740883, 0.4456800835532566, 0.4390198391521212, 0.29631383481129064, 0.30690711634431767, 0.33658397934162293, 0.06649989576818845, 0.30848850001303935, 0.2078740155595482, 0.4018140372857672, 0.2970061115877109, 0.39362037888623796, 0.43322539148005984, 0.2143645177798563, 0.28995308767367844, 0.3090012689818962, 0.06649989576818845, 0.3135605819772589, 0.18215749862996364, 0.37341648837352687, 0.3289742673006584, 0.38731384261947, 0.18676580957136424, 0.15050491140298974, 0.4486157153271657]}, {\"categories\": [\"0\", \"2\", \"3\", \"4\", \"6\", \"8\", \"10\", \"12\", \"13\", \"15\", \"20\", \"22\", \"23\", \"24\", \"25\", \"26\", \"27\", \"28\", \"29\", \"30\", \"31\", \"32\", \"33\", \"34\", \"35\", \"36\", \"37\", \"38\", \"39\", \"40\", \"44\"], \"mode\": \"lines\", \"name\": \"precision_score_macro_max\", \"stepped\": true, \"type\": \"scatter\", \"data\": [0.3896973792040239, 0.3896973792040239, 0.3896973792040239, 0.3896973792040239, 0.3896973792040239, 0.4481882434777078, 0.4481882434777078, 0.4481882434777078, 0.4481882434777078, 0.4481882434777078, 0.4481882434777078, 0.4481882434777078, 0.4481882434777078, 0.4481882434777078, 0.4481882434777078, 0.4481882434777078, 0.4481882434777078, 0.4481882434777078, 0.4481882434777078, 0.4481882434777078, 0.4481882434777078, 0.4481882434777078, 0.4481882434777078, 0.4481882434777078, 0.4481882434777078, 0.4481882434777078, 0.4481882434777078, 0.4481882434777078, 0.4481882434777078, 0.4481882434777078, 0.4486157153271657]}], \"matthews_correlation\": [{\"categories\": [\"0\", \"2\", \"3\", \"4\", \"6\", \"8\", \"10\", \"12\", \"13\", \"15\", \"20\", \"22\", \"23\", \"24\", \"25\", \"26\", \"27\", \"28\", \"29\", \"30\", \"31\", \"32\", \"33\", \"34\", \"35\", \"36\", \"37\", \"38\", \"39\", \"40\", \"44\"], \"mode\": \"markers\", \"name\": \"matthews_correlation\", \"stepped\": false, \"type\": \"scatter\", \"data\": [0.46800088360646774, 0.30571866762607486, 0.35420334185040003, 0.3424356239835366, 0.3308122733004964, 0.48590337393396227, 0.3350744789289954, 0.45886877898434175, 0.3602748128153719, 0.3429117152724597, 0.3924769560060614, 0.3977361924465106, 0.0, 0.40348827046087327, 0.1609740288618237, 0.34333779731190467, 0.35966002841982725, 0.44773607290118284, 0.3950409928160939, 0.09826968204031843, 0.21637722246017999, 0.3740079300349854, 0.0, 0.31373065624276236, 0.23683103261387303, 0.3346280472463072, 0.3370699314635581, 0.4617900657029346, 0.2634186793602528, 0.06480760357016502, 0.5004282844142822]}, {\"categories\": [\"0\", \"2\", \"3\", \"4\", \"6\", \"8\", \"10\", \"12\", \"13\", \"15\", \"20\", \"22\", \"23\", \"24\", \"25\", \"26\", \"27\", \"28\", \"29\", \"30\", \"31\", \"32\", \"33\", \"34\", \"35\", \"36\", \"37\", \"38\", \"39\", \"40\", \"44\"], \"mode\": \"lines\", \"name\": \"matthews_correlation_max\", \"stepped\": true, \"type\": \"scatter\", \"data\": [0.46800088360646774, 0.46800088360646774, 0.46800088360646774, 0.46800088360646774, 0.46800088360646774, 0.48590337393396227, 0.48590337393396227, 0.48590337393396227, 0.48590337393396227, 0.48590337393396227, 0.48590337393396227, 0.48590337393396227, 0.48590337393396227, 0.48590337393396227, 0.48590337393396227, 0.48590337393396227, 0.48590337393396227, 0.48590337393396227, 0.48590337393396227, 0.48590337393396227, 0.48590337393396227, 0.48590337393396227, 0.48590337393396227, 0.48590337393396227, 0.48590337393396227, 0.48590337393396227, 0.48590337393396227, 0.48590337393396227, 0.48590337393396227, 0.48590337393396227, 0.5004282844142822]}], \"recall_score_macro\": [{\"categories\": [\"0\", \"2\", \"3\", \"4\", \"6\", \"8\", \"10\", \"12\", \"13\", \"15\", \"20\", \"22\", \"23\", \"24\", \"25\", \"26\", \"27\", \"28\", \"29\", \"30\", \"31\", \"32\", \"33\", \"34\", \"35\", \"36\", \"37\", \"38\", \"39\", \"40\", \"44\"], \"mode\": \"markers\", \"name\": \"recall_score_macro\", \"stepped\": false, \"type\": \"scatter\", \"data\": [0.3588050963818718, 0.23612851531936505, 0.2753935646611631, 0.26528521906804176, 0.27551807772727255, 0.35050801143168564, 0.31405518620336986, 0.32560838509443446, 0.3135193098029669, 0.27885262559061247, 0.29758329726911, 0.2869681846974986, 0.16666666666666666, 0.3037107307114356, 0.20706020728219246, 0.3095463386317689, 0.27788128009401664, 0.3506035874241502, 0.3224501171760355, 0.19400224331500363, 0.37706461239684735, 0.2818060667660009, 0.16666666666666666, 0.3828677429989878, 0.21999581196319296, 0.3141565699374352, 0.25182532731434204, 0.3410616642039191, 0.22591425329708345, 0.26308577539061595, 0.3537851425769128]}, {\"categories\": [\"0\", \"2\", \"3\", \"4\", \"6\", \"8\", \"10\", \"12\", \"13\", \"15\", \"20\", \"22\", \"23\", \"24\", \"25\", \"26\", \"27\", \"28\", \"29\", \"30\", \"31\", \"32\", \"33\", \"34\", \"35\", \"36\", \"37\", \"38\", \"39\", \"40\", \"44\"], \"mode\": \"lines\", \"name\": \"recall_score_macro_max\", \"stepped\": true, \"type\": \"scatter\", \"data\": [0.3588050963818718, 0.3588050963818718, 0.3588050963818718, 0.3588050963818718, 0.3588050963818718, 0.3588050963818718, 0.3588050963818718, 0.3588050963818718, 0.3588050963818718, 0.3588050963818718, 0.3588050963818718, 0.3588050963818718, 0.3588050963818718, 0.3588050963818718, 0.3588050963818718, 0.3588050963818718, 0.3588050963818718, 0.3588050963818718, 0.3588050963818718, 0.3588050963818718, 0.37706461239684735, 0.37706461239684735, 0.37706461239684735, 0.3828677429989878, 0.3828677429989878, 0.3828677429989878, 0.3828677429989878, 0.3828677429989878, 0.3828677429989878, 0.3828677429989878, 0.3828677429989878]}], \"average_precision_score_micro\": [{\"categories\": [\"0\", \"2\", \"3\", \"4\", \"6\", \"8\", \"10\", \"12\", \"13\", \"15\", \"20\", \"22\", \"23\", \"24\", \"25\", \"26\", \"27\", \"28\", \"29\", \"30\", \"31\", \"32\", \"33\", \"34\", \"35\", \"36\", \"37\", \"38\", \"39\", \"40\", \"44\"], \"mode\": \"markers\", \"name\": \"average_precision_score_micro\", \"stepped\": false, \"type\": \"scatter\", \"data\": [0.7042827172640139, 0.6293841771621019, 0.6441852485376102, 0.6381777019559404, 0.6294169100815126, 0.7682821749890479, 0.6244513243231106, 0.7044210815036003, 0.6947692411490592, 0.6457062858984614, 0.6708809584579539, 0.6714717804057431, 0.3332230626585972, 0.6657212967894722, 0.5057721066618251, 0.6548411741149848, 0.6463505098179175, 0.676793779042304, 0.7225226011446825, 0.47665414853707083, 0.38204862229122954, 0.6578682889267955, 0.3358938211678771, 0.5505824439003647, 0.5479043034933212, 0.6239823968253874, 0.6397806876126038, 0.7139688960381362, 0.5999443198325048, 0.23683919363460068, 0.7797274790172711]}, {\"categories\": [\"0\", \"2\", \"3\", \"4\", \"6\", \"8\", \"10\", \"12\", \"13\", \"15\", \"20\", \"22\", \"23\", \"24\", \"25\", \"26\", \"27\", \"28\", \"29\", \"30\", \"31\", \"32\", \"33\", \"34\", \"35\", \"36\", \"37\", \"38\", \"39\", \"40\", \"44\"], \"mode\": \"lines\", \"name\": \"average_precision_score_micro_max\", \"stepped\": true, \"type\": \"scatter\", \"data\": [0.7042827172640139, 0.7042827172640139, 0.7042827172640139, 0.7042827172640139, 0.7042827172640139, 0.7682821749890479, 0.7682821749890479, 0.7682821749890479, 0.7682821749890479, 0.7682821749890479, 0.7682821749890479, 0.7682821749890479, 0.7682821749890479, 0.7682821749890479, 0.7682821749890479, 0.7682821749890479, 0.7682821749890479, 0.7682821749890479, 0.7682821749890479, 0.7682821749890479, 0.7682821749890479, 0.7682821749890479, 0.7682821749890479, 0.7682821749890479, 0.7682821749890479, 0.7682821749890479, 0.7682821749890479, 0.7682821749890479, 0.7682821749890479, 0.7682821749890479, 0.7797274790172711]}], \"AUC_weighted\": [{\"categories\": [\"0\", \"2\", \"3\", \"4\", \"6\", \"8\", \"10\", \"12\", \"13\", \"15\", \"20\", \"22\", \"23\", \"24\", \"25\", \"26\", \"27\", \"28\", \"29\", \"30\", \"31\", \"32\", \"33\", \"34\", \"35\", \"36\", \"37\", \"38\", \"39\", \"40\", \"44\"], \"mode\": \"markers\", \"name\": \"AUC_weighted\", \"stepped\": false, \"type\": \"scatter\", \"data\": [0.8233876625154513, 0.7650766278836993, 0.7719651702643239, 0.7730314246106024, 0.7502622038504677, 0.8442479776918125, 0.761211769721866, 0.8104813919502273, 0.7801524589037209, 0.7630695244450075, 0.793229836229413, 0.8014153655856674, 0.2696049627200792, 0.7924808577192134, 0.6348090616581517, 0.7600883042012292, 0.7777109773468042, 0.8026369454362507, 0.7927701568738171, 0.5966648362742258, 0.6920973040995672, 0.7863909152612115, 0.27312567084213873, 0.7671558389822314, 0.7027141063042143, 0.761235157090349, 0.7791457245965855, 0.827937807077895, 0.7489047247350618, 0.6855003018140087, 0.8597872518740811]}, {\"categories\": [\"0\", \"2\", \"3\", \"4\", \"6\", \"8\", \"10\", \"12\", \"13\", \"15\", \"20\", \"22\", \"23\", \"24\", \"25\", \"26\", \"27\", \"28\", \"29\", \"30\", \"31\", \"32\", \"33\", \"34\", \"35\", \"36\", \"37\", \"38\", \"39\", \"40\", \"44\"], \"mode\": \"lines\", \"name\": \"AUC_weighted_max\", \"stepped\": true, \"type\": \"scatter\", \"data\": [0.8233876625154513, 0.8233876625154513, 0.8233876625154513, 0.8233876625154513, 0.8233876625154513, 0.8442479776918125, 0.8442479776918125, 0.8442479776918125, 0.8442479776918125, 0.8442479776918125, 0.8442479776918125, 0.8442479776918125, 0.8442479776918125, 0.8442479776918125, 0.8442479776918125, 0.8442479776918125, 0.8442479776918125, 0.8442479776918125, 0.8442479776918125, 0.8442479776918125, 0.8442479776918125, 0.8442479776918125, 0.8442479776918125, 0.8442479776918125, 0.8442479776918125, 0.8442479776918125, 0.8442479776918125, 0.8442479776918125, 0.8442479776918125, 0.8442479776918125, 0.8597872518740811]}], \"norm_macro_recall\": [{\"categories\": [\"0\", \"2\", \"3\", \"4\", \"6\", \"8\", \"10\", \"12\", \"13\", \"15\", \"20\", \"22\", \"23\", \"24\", \"25\", \"26\", \"27\", \"28\", \"29\", \"30\", \"31\", \"32\", \"33\", \"34\", \"35\", \"36\", \"37\", \"38\", \"39\", \"40\", \"44\"], \"mode\": \"markers\", \"name\": \"norm_macro_recall\", \"stepped\": false, \"type\": \"scatter\", \"data\": [0.23056611565824614, 0.08335421838323805, 0.13047227759339575, 0.11834226288165016, 0.13062169327272702, 0.22060961371802276, 0.17686622344404382, 0.19073006211332136, 0.17622317176356028, 0.13462315070873496, 0.15709995672293195, 0.14436182163699826, 0.0, 0.16445287685372278, 0.048472248738630964, 0.17145560635812263, 0.13345753611281994, 0.2207243049089802, 0.18694014061124264, 0.032802691978004346, 0.25247753487621677, 0.13816728011920107, 0.0, 0.2594412915987854, 0.06399497435583155, 0.17698788392492223, 0.10219039277721044, 0.20927399704470287, 0.07109710395650012, 0.11570293046873914, 0.22454217109229538]}, {\"categories\": [\"0\", \"2\", \"3\", \"4\", \"6\", \"8\", \"10\", \"12\", \"13\", \"15\", \"20\", \"22\", \"23\", \"24\", \"25\", \"26\", \"27\", \"28\", \"29\", \"30\", \"31\", \"32\", \"33\", \"34\", \"35\", \"36\", \"37\", \"38\", \"39\", \"40\", \"44\"], \"mode\": \"lines\", \"name\": \"norm_macro_recall_max\", \"stepped\": true, \"type\": \"scatter\", \"data\": [0.23056611565824614, 0.23056611565824614, 0.23056611565824614, 0.23056611565824614, 0.23056611565824614, 0.23056611565824614, 0.23056611565824614, 0.23056611565824614, 0.23056611565824614, 0.23056611565824614, 0.23056611565824614, 0.23056611565824614, 0.23056611565824614, 0.23056611565824614, 0.23056611565824614, 0.23056611565824614, 0.23056611565824614, 0.23056611565824614, 0.23056611565824614, 0.23056611565824614, 0.25247753487621677, 0.25247753487621677, 0.25247753487621677, 0.2594412915987854, 0.2594412915987854, 0.2594412915987854, 0.2594412915987854, 0.2594412915987854, 0.2594412915987854, 0.2594412915987854, 0.2594412915987854]}]}, \"metricName\": null, \"primaryMetricName\": \"AUC_weighted\", \"showLegend\": false}, \"run_metrics\": [{\"name\": \"experiment_status\", \"run_id\": \"AutoML_dc713a40-c256-4baa-9a14-5b63a407c627\", \"categories\": [0, 1, 2, 3, 4, 5, 6, 7, 8, 9, 10, 11, 12, 13, 14], \"series\": [{\"data\": [\"DatasetEvaluation\", \"FeaturesGeneration\", \"DatasetFeaturization\", \"DatasetFeaturizationCompleted\", \"DatasetBalancing\", \"DatasetCrossValidationSplit\", \"ModelSelection\", \"BestRunExplainModel\", \"ModelExplanationDataSetSetup\", \"PickSurrogateModel\", \"EngineeredFeatureExplanations\", \"EngineeredFeatureExplanations\", \"RawFeaturesExplanations\", \"RawFeaturesExplanations\", \"BestRunExplainModel\"]}]}, {\"name\": \"experiment_status_description\", \"run_id\": \"AutoML_dc713a40-c256-4baa-9a14-5b63a407c627\", \"categories\": [0, 1, 2, 3, 4, 5, 6, 7, 8, 9, 10, 11, 12, 13, 14], \"series\": [{\"data\": [\"Gathering dataset statistics.\", \"Generating features for the dataset.\", \"Beginning to fit featurizers and featurize the dataset.\", \"Completed fit featurizers and featurizing the dataset.\", \"Performing class balancing sweeping\", \"Generating individually featurized CV splits.\", \"Beginning model selection.\", \"Best run model explanations started\", \"Model explanations data setup completed\", \"Choosing LightGBM as the surrogate model for explanations\", \"Computation of engineered features started\", \"Computation of engineered features completed\", \"Computation of raw features started\", \"Computation of raw features completed\", \"Best run model explanations completed\"]}]}, {\"name\": \"recall_score_weighted\", \"run_id\": \"AutoML_dc713a40-c256-4baa-9a14-5b63a407c627\", \"categories\": [0], \"series\": [{\"data\": [0.6904315196998124]}]}, {\"name\": \"weighted_accuracy\", \"run_id\": \"AutoML_dc713a40-c256-4baa-9a14-5b63a407c627\", \"categories\": [0], \"series\": [{\"data\": [0.7494437486245538]}]}, {\"name\": \"f1_score_micro\", \"run_id\": \"AutoML_dc713a40-c256-4baa-9a14-5b63a407c627\", \"categories\": [0], \"series\": [{\"data\": [0.6904315196998123]}]}, {\"name\": \"average_precision_score_micro\", \"run_id\": \"AutoML_dc713a40-c256-4baa-9a14-5b63a407c627\", \"categories\": [0], \"series\": [{\"data\": [0.781687392922001]}]}, {\"name\": \"f1_score_weighted\", \"run_id\": \"AutoML_dc713a40-c256-4baa-9a14-5b63a407c627\", \"categories\": [0], \"series\": [{\"data\": [0.6706363136479668]}]}, {\"name\": \"average_precision_score_macro\", \"run_id\": \"AutoML_dc713a40-c256-4baa-9a14-5b63a407c627\", \"categories\": [0], \"series\": [{\"data\": [0.47970574595622023]}]}, {\"name\": \"average_precision_score_weighted\", \"run_id\": \"AutoML_dc713a40-c256-4baa-9a14-5b63a407c627\", \"categories\": [0], \"series\": [{\"data\": [0.7657748526827827]}]}, {\"name\": \"recall_score_macro\", \"run_id\": \"AutoML_dc713a40-c256-4baa-9a14-5b63a407c627\", \"categories\": [0], \"series\": [{\"data\": [0.35158197338208197]}]}, {\"name\": \"AUC_macro\", \"run_id\": \"AutoML_dc713a40-c256-4baa-9a14-5b63a407c627\", \"categories\": [0], \"series\": [{\"data\": [0.8679564551852779]}]}, {\"name\": \"norm_macro_recall\", \"run_id\": \"AutoML_dc713a40-c256-4baa-9a14-5b63a407c627\", \"categories\": [0], \"series\": [{\"data\": [0.22189836805849836]}]}, {\"name\": \"AUC_weighted\", \"run_id\": \"AutoML_dc713a40-c256-4baa-9a14-5b63a407c627\", \"categories\": [0], \"series\": [{\"data\": [0.8603987282424882]}]}, {\"name\": \"precision_score_micro\", \"run_id\": \"AutoML_dc713a40-c256-4baa-9a14-5b63a407c627\", \"categories\": [0], \"series\": [{\"data\": [0.6904315196998124]}]}, {\"name\": \"AUC_micro\", \"run_id\": \"AutoML_dc713a40-c256-4baa-9a14-5b63a407c627\", \"categories\": [0], \"series\": [{\"data\": [0.9378293422131797]}]}, {\"name\": \"balanced_accuracy\", \"run_id\": \"AutoML_dc713a40-c256-4baa-9a14-5b63a407c627\", \"categories\": [0], \"series\": [{\"data\": [0.35158197338208197]}]}, {\"name\": \"matthews_correlation\", \"run_id\": \"AutoML_dc713a40-c256-4baa-9a14-5b63a407c627\", \"categories\": [0], \"series\": [{\"data\": [0.49898467475174346]}]}, {\"name\": \"accuracy\", \"run_id\": \"AutoML_dc713a40-c256-4baa-9a14-5b63a407c627\", \"categories\": [0], \"series\": [{\"data\": [0.6904315196998124]}]}, {\"name\": \"recall_score_micro\", \"run_id\": \"AutoML_dc713a40-c256-4baa-9a14-5b63a407c627\", \"categories\": [0], \"series\": [{\"data\": [0.6904315196998124]}]}, {\"name\": \"precision_score_weighted\", \"run_id\": \"AutoML_dc713a40-c256-4baa-9a14-5b63a407c627\", \"categories\": [0], \"series\": [{\"data\": [0.6617065280349361]}]}, {\"name\": \"log_loss\", \"run_id\": \"AutoML_dc713a40-c256-4baa-9a14-5b63a407c627\", \"categories\": [0], \"series\": [{\"data\": [0.7994044966596423]}]}, {\"name\": \"precision_score_macro\", \"run_id\": \"AutoML_dc713a40-c256-4baa-9a14-5b63a407c627\", \"categories\": [0], \"series\": [{\"data\": [0.42566257446176875]}]}, {\"name\": \"f1_score_macro\", \"run_id\": \"AutoML_dc713a40-c256-4baa-9a14-5b63a407c627\", \"categories\": [0], \"series\": [{\"data\": [0.36391636794717397]}]}], \"run_logs\": \"\\nRun is completed.\", \"graph\": {}, \"widget_settings\": {\"childWidgetDisplay\": \"popup\", \"send_telemetry\": false, \"log_level\": \"INFO\", \"sdk_version\": \"1.38.0\"}, \"loading\": false}"
     },
     "metadata": {},
     "output_type": "display_data"
    }
   ],
   "source": [
    "RunDetails(remote_run).show()"
   ]
  },
  {
   "cell_type": "markdown",
   "metadata": {},
   "source": [
    "## Best Model\n",
    "\n",
    "TODO: In the cell below, get the best model from the automl experiments and display all the properties of the model.\n",
    "\n"
   ]
  },
  {
   "cell_type": "code",
   "execution_count": 10,
   "metadata": {
    "gather": {
     "logged": 1645128987792
    },
    "jupyter": {
     "outputs_hidden": false,
     "source_hidden": false
    },
    "nteract": {
     "transient": {
      "deleting": false
     }
    }
   },
   "outputs": [
    {
     "name": "stderr",
     "output_type": "stream",
     "text": [
      "WARNING:root:The model you attempted to retrieve requires 'azureml-train-automl-runtime' to be installed at '==1.38.0'. Please install 'azureml-train-automl-runtime==1.38.0' (e.g. `pip install azureml-train-automl-runtime==1.38.0`) and then rerun the previous command.\n"
     ]
    },
    {
     "name": "stdout",
     "output_type": "stream",
     "text": [
      "precision_score_macro 0.42566257446176875\n",
      "f1_score_macro 0.36391636794717397\n",
      "AUC_micro 0.9378293422131797\n",
      "balanced_accuracy 0.35158197338208197\n",
      "log_loss 0.7994044966596423\n",
      "weighted_accuracy 0.7494437486245538\n",
      "average_precision_score_macro 0.47970574595622023\n",
      "AUC_weighted 0.8603987282424882\n",
      "precision_score_weighted 0.6617065280349361\n",
      "recall_score_micro 0.6904315196998124\n",
      "accuracy 0.6904315196998124\n",
      "average_precision_score_weighted 0.7657748526827827\n",
      "f1_score_micro 0.6904315196998123\n",
      "recall_score_macro 0.35158197338208197\n",
      "AUC_macro 0.8679564551852779\n",
      "matthews_correlation 0.49898467475174346\n",
      "recall_score_weighted 0.6904315196998124\n",
      "f1_score_weighted 0.6706363136479668\n",
      "average_precision_score_micro 0.781687392922001\n",
      "precision_score_micro 0.6904315196998124\n",
      "norm_macro_recall 0.22189836805849836\n",
      "confusion_matrix aml://artifactId/ExperimentRun/dcid.AutoML_dc713a40-c256-4baa-9a14-5b63a407c627_43/confusion_matrix\n",
      "accuracy_table aml://artifactId/ExperimentRun/dcid.AutoML_dc713a40-c256-4baa-9a14-5b63a407c627_43/accuracy_table\n"
     ]
    }
   ],
   "source": [
    "best_run, best_model = remote_run.get_output()\n",
    "best_run_metrics = best_run.get_metrics()\n",
    "for metric_name in best_run_metrics:\n",
    "    metric = best_run_metrics[metric_name]\n",
    "    print(metric_name, metric)"
   ]
  },
  {
   "cell_type": "code",
   "execution_count": 13,
   "metadata": {
    "gather": {
     "logged": 1645129021224
    },
    "jupyter": {
     "outputs_hidden": false,
     "source_hidden": false
    },
    "nteract": {
     "transient": {
      "deleting": false
     }
    }
   },
   "outputs": [
    {
     "name": "stdout",
     "output_type": "stream",
     "text": [
      "AutoMLdc713a40c43\n"
     ]
    }
   ],
   "source": [
    "#TODO: Save the best model\n",
    "\n",
    "os.makedirs('models', exist_ok=True)\n",
    "joblib.dump(best_model, filename='./models/model.pkl')\n",
    "\n",
    "model_name = best_run.properties['model_name']\n",
    "description = \"Best wine quality AutoML model\"\n",
    "model = remote_run.register_model(model_name = model_name, \n",
    "                                  description = description, \n",
    "                                  tags = None)\n",
    "\n",
    "\n",
    "\n",
    "print(model_name)"
   ]
  },
  {
   "cell_type": "markdown",
   "metadata": {},
   "source": [
    "## Model Deployment\n",
    "\n",
    "Remember you have to deploy only one of the two models you trained but you still need to register both the models. Perform the steps in the rest of this notebook only if you wish to deploy this model.\n",
    "\n",
    "TODO: In the cell below, register the model, create an inference config and deploy the model as a web service."
   ]
  },
  {
   "cell_type": "code",
   "execution_count": 14,
   "metadata": {
    "gather": {
     "logged": 1598431435189
    },
    "jupyter": {
     "outputs_hidden": false,
     "source_hidden": false
    },
    "nteract": {
     "transient": {
      "deleting": false
     }
    }
   },
   "outputs": [
    {
     "name": "stderr",
     "output_type": "stream",
     "text": [
      "ERROR:azureml._model_management._util:entry_script echo_score.py doesn't exist. entry_script should be path relative to current working directory\n",
      "\n"
     ]
    },
    {
     "ename": "WebserviceException",
     "evalue": "WebserviceException:\n\tMessage: entry_script echo_score.py doesn't exist. entry_script should be path relative to current working directory\n\tInnerException None\n\tErrorResponse \n{\n    \"error\": {\n        \"message\": \"entry_script echo_score.py doesn't exist. entry_script should be path relative to current working directory\"\n    }\n}",
     "output_type": "error",
     "traceback": [
      "\u001b[0;31m---------------------------------------------------------------------------\u001b[0m",
      "\u001b[0;31mWebserviceException\u001b[0m                       Traceback (most recent call last)",
      "Input \u001b[0;32mIn [14]\u001b[0m, in \u001b[0;36m<module>\u001b[0;34m\u001b[0m\n\u001b[1;32m      1\u001b[0m env \u001b[38;5;241m=\u001b[39m best_run\u001b[38;5;241m.\u001b[39mget_environment()\n\u001b[0;32m----> 2\u001b[0m dummy_inference_config \u001b[38;5;241m=\u001b[39m \u001b[43mInferenceConfig\u001b[49m\u001b[43m(\u001b[49m\n\u001b[1;32m      3\u001b[0m \u001b[43m    \u001b[49m\u001b[43menvironment\u001b[49m\u001b[38;5;241;43m=\u001b[39;49m\u001b[43menv\u001b[49m\u001b[43m,\u001b[49m\n\u001b[1;32m      4\u001b[0m \u001b[43m    \u001b[49m\u001b[43mentry_script\u001b[49m\u001b[38;5;241;43m=\u001b[39;49m\u001b[38;5;124;43m\"\u001b[39;49m\u001b[38;5;124;43mecho_score.py\u001b[39;49m\u001b[38;5;124;43m\"\u001b[39;49m\u001b[43m,\u001b[49m\n\u001b[1;32m      5\u001b[0m \u001b[43m)\u001b[49m\n\u001b[1;32m      6\u001b[0m deployment_config \u001b[38;5;241m=\u001b[39m LocalWebservice\u001b[38;5;241m.\u001b[39mdeploy_configuration(port\u001b[38;5;241m=\u001b[39m\u001b[38;5;241m6789\u001b[39m)\n\u001b[1;32m      7\u001b[0m service \u001b[38;5;241m=\u001b[39m Model\u001b[38;5;241m.\u001b[39mdeploy(\n\u001b[1;32m      8\u001b[0m     ws,\n\u001b[1;32m      9\u001b[0m     \u001b[38;5;124m\"\u001b[39m\u001b[38;5;124mlocal-wine\u001b[39m\u001b[38;5;124m\"\u001b[39m,\n\u001b[0;32m   (...)\u001b[0m\n\u001b[1;32m     13\u001b[0m     overwrite\u001b[38;5;241m=\u001b[39m\u001b[38;5;28;01mTrue\u001b[39;00m,\n\u001b[1;32m     14\u001b[0m )\n",
      "File \u001b[0;32m/anaconda/envs/azureml_py38/lib/python3.8/site-packages/azureml/core/model.py:2124\u001b[0m, in \u001b[0;36mInferenceConfig.__init__\u001b[0;34m(self, entry_script, runtime, conda_file, extra_docker_file_steps, source_directory, enable_gpu, description, base_image, base_image_registry, cuda_version, environment)\u001b[0m\n\u001b[1;32m   2121\u001b[0m \u001b[38;5;28mself\u001b[39m\u001b[38;5;241m.\u001b[39mbase_image_registry \u001b[38;5;241m=\u001b[39m base_image_registry \u001b[38;5;129;01mor\u001b[39;00m ContainerRegistry()\n\u001b[1;32m   2122\u001b[0m \u001b[38;5;28mself\u001b[39m\u001b[38;5;241m.\u001b[39menvironment \u001b[38;5;241m=\u001b[39m environment\n\u001b[0;32m-> 2124\u001b[0m \u001b[38;5;28;43mself\u001b[39;49m\u001b[38;5;241;43m.\u001b[39;49m\u001b[43mvalidate_configuration\u001b[49m\u001b[43m(\u001b[49m\u001b[43m)\u001b[49m\n",
      "File \u001b[0;32m/anaconda/envs/azureml_py38/lib/python3.8/site-packages/azureml/core/model.py:2231\u001b[0m, in \u001b[0;36mInferenceConfig.validate_configuration\u001b[0;34m(self)\u001b[0m\n\u001b[1;32m   2228\u001b[0m     \u001b[38;5;28mself\u001b[39m\u001b[38;5;241m.\u001b[39msource_directory \u001b[38;5;241m=\u001b[39m os\u001b[38;5;241m.\u001b[39mpath\u001b[38;5;241m.\u001b[39mrealpath(\u001b[38;5;28mself\u001b[39m\u001b[38;5;241m.\u001b[39msource_directory)\n\u001b[1;32m   2229\u001b[0m     validate_path_exists_or_throw(\u001b[38;5;28mself\u001b[39m\u001b[38;5;241m.\u001b[39msource_directory, \u001b[38;5;124m\"\u001b[39m\u001b[38;5;124msource directory\u001b[39m\u001b[38;5;124m\"\u001b[39m)\n\u001b[0;32m-> 2231\u001b[0m \u001b[43mvalidate_path_exists_or_throw\u001b[49m\u001b[43m(\u001b[49m\u001b[43mjoinPath\u001b[49m\u001b[43m(\u001b[49m\u001b[38;5;28;43mself\u001b[39;49m\u001b[38;5;241;43m.\u001b[39;49m\u001b[43msource_directory\u001b[49m\u001b[43m,\u001b[49m\u001b[43m \u001b[49m\u001b[38;5;28;43mself\u001b[39;49m\u001b[38;5;241;43m.\u001b[39;49m\u001b[43mentry_script\u001b[49m\u001b[43m)\u001b[49m\u001b[43m,\u001b[49m\n\u001b[1;32m   2232\u001b[0m \u001b[43m                              \u001b[49m\u001b[38;5;124;43m'\u001b[39;49m\u001b[38;5;124;43mentry_script\u001b[39;49m\u001b[38;5;124;43m'\u001b[39;49m\u001b[43m,\u001b[49m\n\u001b[1;32m   2233\u001b[0m \u001b[43m                              \u001b[49m\u001b[43mextra_message\u001b[49m\u001b[38;5;241;43m=\u001b[39;49m\u001b[38;5;124;43m'\u001b[39;49m\u001b[38;5;124;43mentry_script should be path relative to \u001b[39;49m\u001b[38;5;124;43m'\u001b[39;49m\n\u001b[1;32m   2234\u001b[0m \u001b[43m                                            \u001b[49m\u001b[38;5;124;43m'\u001b[39;49m\u001b[38;5;124;43mcurrent working directory\u001b[39;49m\u001b[38;5;124;43m'\u001b[39;49m\u001b[43m)\u001b[49m\n\u001b[1;32m   2236\u001b[0m script_name, script_extension \u001b[38;5;241m=\u001b[39m os\u001b[38;5;241m.\u001b[39mpath\u001b[38;5;241m.\u001b[39msplitext(os\u001b[38;5;241m.\u001b[39mpath\u001b[38;5;241m.\u001b[39mbasename(\u001b[38;5;28mself\u001b[39m\u001b[38;5;241m.\u001b[39mentry_script))\n\u001b[1;32m   2237\u001b[0m \u001b[38;5;28;01mif\u001b[39;00m script_extension \u001b[38;5;241m!=\u001b[39m \u001b[38;5;124m'\u001b[39m\u001b[38;5;124m.py\u001b[39m\u001b[38;5;124m'\u001b[39m:\n",
      "File \u001b[0;32m/anaconda/envs/azureml_py38/lib/python3.8/site-packages/azureml/_model_management/_util.py:885\u001b[0m, in \u001b[0;36mvalidate_path_exists_or_throw\u001b[0;34m(member, name, extra_message)\u001b[0m\n\u001b[1;32m    883\u001b[0m \u001b[38;5;28;01mdef\u001b[39;00m \u001b[38;5;21mvalidate_path_exists_or_throw\u001b[39m(member, name, extra_message\u001b[38;5;241m=\u001b[39m\u001b[38;5;124m'\u001b[39m\u001b[38;5;124m'\u001b[39m):\n\u001b[1;32m    884\u001b[0m     \u001b[38;5;28;01mif\u001b[39;00m \u001b[38;5;129;01mnot\u001b[39;00m os\u001b[38;5;241m.\u001b[39mpath\u001b[38;5;241m.\u001b[39mexists(member):\n\u001b[0;32m--> 885\u001b[0m         \u001b[38;5;28;01mraise\u001b[39;00m WebserviceException(\u001b[38;5;124m\"\u001b[39m\u001b[38;5;132;01m{0}\u001b[39;00m\u001b[38;5;124m \u001b[39m\u001b[38;5;132;01m{1}\u001b[39;00m\u001b[38;5;124m doesn\u001b[39m\u001b[38;5;124m'\u001b[39m\u001b[38;5;124mt exist. \u001b[39m\u001b[38;5;132;01m{2}\u001b[39;00m\u001b[38;5;124m\"\u001b[39m\u001b[38;5;241m.\u001b[39mformat(name, member, extra_message),\n\u001b[1;32m    886\u001b[0m                                   logger\u001b[38;5;241m=\u001b[39mmodule_logger)\n",
      "\u001b[0;31mWebserviceException\u001b[0m: WebserviceException:\n\tMessage: entry_script echo_score.py doesn't exist. entry_script should be path relative to current working directory\n\tInnerException None\n\tErrorResponse \n{\n    \"error\": {\n        \"message\": \"entry_script echo_score.py doesn't exist. entry_script should be path relative to current working directory\"\n    }\n}"
     ]
    }
   ],
   "source": [
    "env = best_run.get_environment()\n",
    "inference_config = InferenceConfig(\n",
    "    environment=env,\n",
    "    entry_script=\"inference.py\",\n",
    ")\n",
    "deployment_config = LocalWebservice.deploy_configuration(port=6789)\n",
    "service = Model.deploy(workspace=ws, \n",
    "    name='wine',\n",
    "    models=[best_model], \n",
    "    inference_config=inference_config, \n",
    "    deployment_config=deployment_config, \n",
    "    overwrite=True)\n",
    ")\n",
    "service.wait_for_deployment(show_output=True)"
   ]
  },
  {
   "cell_type": "markdown",
   "metadata": {
    "collapsed": true,
    "gather": {
     "logged": 1598431657736
    },
    "jupyter": {
     "outputs_hidden": false,
     "source_hidden": false
    },
    "nteract": {
     "transient": {
      "deleting": false
     }
    }
   },
   "source": [
    "TODO: In the cell below, send a request to the web service you deployed to test it."
   ]
  },
  {
   "cell_type": "code",
   "execution_count": null,
   "metadata": {
    "gather": {
     "logged": 1598432707604
    },
    "jupyter": {
     "outputs_hidden": false,
     "source_hidden": false
    },
    "nteract": {
     "transient": {
      "deleting": false
     }
    }
   },
   "outputs": [],
   "source": [
    "import requests\n",
    "import json\n",
    "\n",
    "uri = service.scoring_uri\n",
    "requests.get(\"http://localhost:6789\")\n",
    "headers = {\"Content-Type\": \"application/json\"}\n",
    "data = {\n",
    "    \"fixed acidity\":7.3,\n",
    "    \"volatile acidity\": 0.9,\n",
    "    \"citric acid\": 0.1,\n",
    "    \"residual sugar\": 1.9,\n",
    "    \"chlorides\": 0.076,\n",
    "    \"free sulfur dioxide\": 11.0, \n",
    "    \"total sulfur dioxide\": 34.0,\n",
    "    \"density\": 0.9978,\n",
    "    \"pH\": 3.49,\n",
    "    \"sulphates\": 0.50,\n",
    "    \"alcohol\": 9.4\n",
    "}\n",
    "data = json.dumps(data)\n",
    "response = requests.post(uri, data=data, headers=headers)\n",
    "print(response.text)\n",
    "print(response.json())"
   ]
  },
  {
   "cell_type": "code",
   "execution_count": null,
   "metadata": {},
   "outputs": [],
   "source": [
    "# register model\n",
    "best_child = remote_run.get_best_child()\n",
    "model = best_child.register_model(model_name='automl-model',model_path='outputs/model.pkl')\n",
    "print(model.name, model.id, model.version, sep=' ') \n",
    "\n",
    "# deploy full instance\n",
    "service_name = \"wine-quality-prediction\"\n",
    "env = best_run.get_environment()\n",
    "print(env)\n",
    "\n",
    "inference_config = InferenceConfig(\n",
    "    environment=env,\n",
    "    entry_script=\"inference.py\",\n",
    ")\n",
    "\n",
    "aci_config = AciWebservice.deploy_configuration(\n",
    "    cpu_cores = 0.5, \n",
    "    memory_gb=1, \n",
    "    auth_enabled=True\n",
    ")\n",
    "web_service = Model.deploy(\n",
    "    workspace=ws, \n",
    "    name=service_name,\n",
    "    models=[model], \n",
    "    inference_config=inference_config, \n",
    "    deployment_config=aci_config, \n",
    "    overwrite=True\n",
    ")\n",
    "web_service.wait_for_deployment(show_output=True)"
   ]
  },
  {
   "cell_type": "code",
   "execution_count": null,
   "metadata": {},
   "outputs": [],
   "source": [
    "uri = web_service.scoring_uri\n",
    "api_key = 'tbd'\n",
    "headers = {\"Content-Type\": \"application/json\",  'Authorization':('Bearer '+ api_key)}\n",
    "data = {\n",
    "    \"fixed acidity\":7.3,\n",
    "    \"volatile acidity\": 0.9,\n",
    "    \"citric acid\": 0.1,\n",
    "    \"residual sugar\": 1.9,\n",
    "    \"chlorides\": 0.076,\n",
    "    \"free sulfur dioxide\": 11.0, \n",
    "    \"total sulfur dioxide\": 34.0,\n",
    "    \"density\": 0.9978,\n",
    "    \"pH\": 3.49,\n",
    "    \"sulphates\": 0.50,\n",
    "    \"alcohol\": 9.4\n",
    "}\n",
    "data = json.dumps(data)\n",
    "response = requests.post(uri, data=data, headers=headers)\n",
    "print(response.json())"
   ]
  },
  {
   "cell_type": "markdown",
   "metadata": {
    "collapsed": true,
    "gather": {
     "logged": 1598432765711
    },
    "jupyter": {
     "outputs_hidden": false,
     "source_hidden": false
    },
    "nteract": {
     "transient": {
      "deleting": false
     }
    }
   },
   "source": [
    "TODO: In the cell below, print the logs of the web service and delete the service"
   ]
  },
  {
   "cell_type": "code",
   "execution_count": null,
   "metadata": {
    "jupyter": {
     "outputs_hidden": false,
     "source_hidden": false
    },
    "nteract": {
     "transient": {
      "deleting": false
     }
    }
   },
   "outputs": [],
   "source": [
    "print(web_service.get_logs())\n",
    "web_service.delete()\n",
    "model.delete()"
   ]
  },
  {
   "cell_type": "markdown",
   "metadata": {},
   "source": [
    "**Submission Checklist**\n",
    "- I have registered the model.\n",
    "- I have deployed the model with the best accuracy as a webservice.\n",
    "- I have tested the webservice by sending a request to the model endpoint.\n",
    "- I have deleted the webservice and shutdown all the computes that I have used.\n",
    "- I have taken a screenshot showing the model endpoint as active.\n",
    "- The project includes a file containing the environment details.\n"
   ]
  },
  {
   "cell_type": "markdown",
   "metadata": {},
   "source": []
  }
 ],
 "metadata": {
  "kernel_info": {
   "name": "python3"
  },
  "kernelspec": {
   "display_name": "Python 3",
   "language": "python",
   "name": "python3"
  },
  "language_info": {
   "codemirror_mode": {
    "name": "ipython",
    "version": 3
   },
   "file_extension": ".py",
   "mimetype": "text/x-python",
   "name": "python",
   "nbconvert_exporter": "python",
   "pygments_lexer": "ipython3",
   "version": "3.8.8"
  },
  "microsoft": {
   "host": {
    "AzureML": {
     "notebookHasBeenCompleted": true
    }
   }
  },
  "nteract": {
   "version": "nteract-front-end@1.0.0"
  }
 },
 "nbformat": 4,
 "nbformat_minor": 2
}
